{
 "cells": [
  {
   "cell_type": "markdown",
   "metadata": {},
   "source": [
    "# Анализ торгового ассортимента в интернет-магазине"
   ]
  },
  {
   "cell_type": "markdown",
   "metadata": {},
   "source": [
    "Датасет описывает транзакции интернет-магазина товаров для дома. Необходимо проанализировать ассортимент товаров."
   ]
  },
  {
   "cell_type": "markdown",
   "metadata": {},
   "source": [
    "Данные содержат информацию о дате заказа, номере покупателя, номере заказа, наименовании товара, количество позиций в заказе, цене товаров."
   ]
  },
  {
   "cell_type": "markdown",
   "metadata": {},
   "source": [
    "    "
   ]
  },
  {
   "cell_type": "markdown",
   "metadata": {},
   "source": [
    "## Загрузка данных"
   ]
  },
  {
   "cell_type": "code",
   "execution_count": 1,
   "metadata": {},
   "outputs": [],
   "source": [
    "import pandas as pd\n",
    "import numpy as np\n",
    "import matplotlib.pyplot as plt  \n",
    "import pylab as pl\n",
    "import numpy as np\n",
    "from IPython.display import display\n",
    "import plotly.express as px \n",
    "import datetime as dt\n",
    "import scipy.stats\n",
    "import scipy.stats as stats\n",
    "from scipy import stats as st\n",
    "import plotly.express as px\n",
    "import math as mth\n",
    "import cmath as cmth\n",
    "import seaborn as sns\n",
    "from plotly import graph_objects as go\n",
    "from scipy.stats import mannwhitneyu"
   ]
  },
  {
   "cell_type": "code",
   "execution_count": 2,
   "metadata": {},
   "outputs": [
    {
     "name": "stdout",
     "output_type": "stream",
     "text": [
      "Requirement already satisfied: pymystem3 in ./opt/anaconda3/lib/python3.8/site-packages (0.1.10)\n",
      "Requirement already satisfied: requests in ./opt/anaconda3/lib/python3.8/site-packages (from pymystem3) (2.24.0)\n",
      "Requirement already satisfied: chardet<4,>=3.0.2 in ./opt/anaconda3/lib/python3.8/site-packages (from requests->pymystem3) (3.0.4)\n",
      "Requirement already satisfied: certifi>=2017.4.17 in ./opt/anaconda3/lib/python3.8/site-packages (from requests->pymystem3) (2020.6.20)\n",
      "Requirement already satisfied: idna<3,>=2.5 in ./opt/anaconda3/lib/python3.8/site-packages (from requests->pymystem3) (2.10)\n",
      "Requirement already satisfied: urllib3!=1.25.0,!=1.25.1,<1.26,>=1.21.1 in ./opt/anaconda3/lib/python3.8/site-packages (from requests->pymystem3) (1.25.11)\n",
      "Note: you may need to restart the kernel to use updated packages.\n"
     ]
    }
   ],
   "source": [
    "pip install pymystem3"
   ]
  },
  {
   "cell_type": "code",
   "execution_count": 3,
   "metadata": {},
   "outputs": [],
   "source": [
    "from pymystem3 import Mystem"
   ]
  },
  {
   "cell_type": "code",
   "execution_count": 4,
   "metadata": {},
   "outputs": [],
   "source": [
    "pd.options.mode.chained_assignment = None"
   ]
  },
  {
   "cell_type": "code",
   "execution_count": 5,
   "metadata": {
    "scrolled": true
   },
   "outputs": [
    {
     "name": "stdout",
     "output_type": "stream",
     "text": [
      "Requirement already up-to-date: seaborn in ./opt/anaconda3/lib/python3.8/site-packages (0.11.1)\n",
      "Requirement already satisfied, skipping upgrade: numpy>=1.15 in ./opt/anaconda3/lib/python3.8/site-packages (from seaborn) (1.19.2)\n",
      "Requirement already satisfied, skipping upgrade: matplotlib>=2.2 in ./opt/anaconda3/lib/python3.8/site-packages (from seaborn) (3.3.2)\n",
      "Requirement already satisfied, skipping upgrade: pandas>=0.23 in ./opt/anaconda3/lib/python3.8/site-packages (from seaborn) (1.1.3)\n",
      "Requirement already satisfied, skipping upgrade: scipy>=1.0 in ./opt/anaconda3/lib/python3.8/site-packages (from seaborn) (1.5.2)\n",
      "Requirement already satisfied, skipping upgrade: pillow>=6.2.0 in ./opt/anaconda3/lib/python3.8/site-packages (from matplotlib>=2.2->seaborn) (8.0.1)\n",
      "Requirement already satisfied, skipping upgrade: cycler>=0.10 in ./opt/anaconda3/lib/python3.8/site-packages (from matplotlib>=2.2->seaborn) (0.10.0)\n",
      "Requirement already satisfied, skipping upgrade: python-dateutil>=2.1 in ./opt/anaconda3/lib/python3.8/site-packages (from matplotlib>=2.2->seaborn) (2.8.1)\n",
      "Requirement already satisfied, skipping upgrade: kiwisolver>=1.0.1 in ./opt/anaconda3/lib/python3.8/site-packages (from matplotlib>=2.2->seaborn) (1.3.0)\n",
      "Requirement already satisfied, skipping upgrade: pyparsing!=2.0.4,!=2.1.2,!=2.1.6,>=2.0.3 in ./opt/anaconda3/lib/python3.8/site-packages (from matplotlib>=2.2->seaborn) (2.4.7)\n",
      "Requirement already satisfied, skipping upgrade: certifi>=2020.06.20 in ./opt/anaconda3/lib/python3.8/site-packages (from matplotlib>=2.2->seaborn) (2020.6.20)\n",
      "Requirement already satisfied, skipping upgrade: pytz>=2017.2 in ./opt/anaconda3/lib/python3.8/site-packages (from pandas>=0.23->seaborn) (2020.1)\n",
      "Requirement already satisfied, skipping upgrade: six in ./opt/anaconda3/lib/python3.8/site-packages (from cycler>=0.10->matplotlib>=2.2->seaborn) (1.15.0)\n"
     ]
    }
   ],
   "source": [
    "!pip install seaborn -U"
   ]
  },
  {
   "cell_type": "code",
   "execution_count": 6,
   "metadata": {},
   "outputs": [],
   "source": [
    "ecom=pd.read_csv('ecommerce_dataset.csv')"
   ]
  },
  {
   "cell_type": "code",
   "execution_count": 7,
   "metadata": {},
   "outputs": [
    {
     "name": "stdout",
     "output_type": "stream",
     "text": [
      "<class 'pandas.core.frame.DataFrame'>\n",
      "RangeIndex: 6737 entries, 0 to 6736\n",
      "Data columns (total 6 columns):\n",
      " #   Column       Non-Null Count  Dtype  \n",
      "---  ------       --------------  -----  \n",
      " 0   date         6737 non-null   int64  \n",
      " 1   customer_id  6737 non-null   object \n",
      " 2   order_id     6737 non-null   int64  \n",
      " 3   product      6737 non-null   object \n",
      " 4   quantity     6737 non-null   int64  \n",
      " 5   price        6737 non-null   float64\n",
      "dtypes: float64(1), int64(3), object(2)\n",
      "memory usage: 315.9+ KB\n"
     ]
    }
   ],
   "source": [
    "ecom.info()"
   ]
  },
  {
   "cell_type": "code",
   "execution_count": 8,
   "metadata": {},
   "outputs": [
    {
     "data": {
      "text/html": [
       "<div>\n",
       "<style scoped>\n",
       "    .dataframe tbody tr th:only-of-type {\n",
       "        vertical-align: middle;\n",
       "    }\n",
       "\n",
       "    .dataframe tbody tr th {\n",
       "        vertical-align: top;\n",
       "    }\n",
       "\n",
       "    .dataframe thead th {\n",
       "        text-align: right;\n",
       "    }\n",
       "</style>\n",
       "<table border=\"1\" class=\"dataframe\">\n",
       "  <thead>\n",
       "    <tr style=\"text-align: right;\">\n",
       "      <th></th>\n",
       "      <th>date</th>\n",
       "      <th>customer_id</th>\n",
       "      <th>order_id</th>\n",
       "      <th>product</th>\n",
       "      <th>quantity</th>\n",
       "      <th>price</th>\n",
       "    </tr>\n",
       "  </thead>\n",
       "  <tbody>\n",
       "    <tr>\n",
       "      <th>0</th>\n",
       "      <td>2018100100</td>\n",
       "      <td>ee47d746-6d2f-4d3c-9622-c31412542920</td>\n",
       "      <td>68477</td>\n",
       "      <td>Комнатное растение в горшке Алое Вера, d12, h30</td>\n",
       "      <td>1</td>\n",
       "      <td>142.0</td>\n",
       "    </tr>\n",
       "    <tr>\n",
       "      <th>1</th>\n",
       "      <td>2018100100</td>\n",
       "      <td>ee47d746-6d2f-4d3c-9622-c31412542920</td>\n",
       "      <td>68477</td>\n",
       "      <td>Комнатное растение в горшке Кофе Арабика, d12,...</td>\n",
       "      <td>1</td>\n",
       "      <td>194.0</td>\n",
       "    </tr>\n",
       "    <tr>\n",
       "      <th>2</th>\n",
       "      <td>2018100100</td>\n",
       "      <td>ee47d746-6d2f-4d3c-9622-c31412542920</td>\n",
       "      <td>68477</td>\n",
       "      <td>Радермахера d-12 см h-20 см</td>\n",
       "      <td>1</td>\n",
       "      <td>112.0</td>\n",
       "    </tr>\n",
       "    <tr>\n",
       "      <th>3</th>\n",
       "      <td>2018100100</td>\n",
       "      <td>ee47d746-6d2f-4d3c-9622-c31412542920</td>\n",
       "      <td>68477</td>\n",
       "      <td>Хризолидокарпус Лутесценс d-9 см</td>\n",
       "      <td>1</td>\n",
       "      <td>179.0</td>\n",
       "    </tr>\n",
       "    <tr>\n",
       "      <th>4</th>\n",
       "      <td>2018100100</td>\n",
       "      <td>ee47d746-6d2f-4d3c-9622-c31412542920</td>\n",
       "      <td>68477</td>\n",
       "      <td>Циперус Зумула d-12 см h-25 см</td>\n",
       "      <td>1</td>\n",
       "      <td>112.0</td>\n",
       "    </tr>\n",
       "    <tr>\n",
       "      <th>...</th>\n",
       "      <td>...</td>\n",
       "      <td>...</td>\n",
       "      <td>...</td>\n",
       "      <td>...</td>\n",
       "      <td>...</td>\n",
       "      <td>...</td>\n",
       "    </tr>\n",
       "    <tr>\n",
       "      <th>6732</th>\n",
       "      <td>2019103111</td>\n",
       "      <td>73d1cd35-5e5f-4629-8cf2-3fda829d4e58</td>\n",
       "      <td>73156</td>\n",
       "      <td>Таз пластмассовый 40,0 л пищевой овальный (Иж)...</td>\n",
       "      <td>1</td>\n",
       "      <td>404.0</td>\n",
       "    </tr>\n",
       "    <tr>\n",
       "      <th>6733</th>\n",
       "      <td>2019103112</td>\n",
       "      <td>1f0a7f35-7459-4f23-b468-5e45bf481dd1</td>\n",
       "      <td>73158</td>\n",
       "      <td>Сумка-тележка 2-х колесная Gimi Argo синяя</td>\n",
       "      <td>1</td>\n",
       "      <td>1087.0</td>\n",
       "    </tr>\n",
       "    <tr>\n",
       "      <th>6734</th>\n",
       "      <td>2019103113</td>\n",
       "      <td>25df96a7-c453-4708-9cea-a3dfc7c342ea</td>\n",
       "      <td>73162</td>\n",
       "      <td>Герань домашняя (пеларгония зональная) цветуща...</td>\n",
       "      <td>1</td>\n",
       "      <td>157.0</td>\n",
       "    </tr>\n",
       "    <tr>\n",
       "      <th>6735</th>\n",
       "      <td>2019103114</td>\n",
       "      <td>73d1cd35-5e5f-4629-8cf2-3fda829d4e58</td>\n",
       "      <td>73164</td>\n",
       "      <td>Таз пластмассовый со стиральной доской (Иж), 1...</td>\n",
       "      <td>1</td>\n",
       "      <td>397.0</td>\n",
       "    </tr>\n",
       "    <tr>\n",
       "      <th>6736</th>\n",
       "      <td>2019103116</td>\n",
       "      <td>344aa778-e436-419e-a9c6-9b8f37b7c1df</td>\n",
       "      <td>73137</td>\n",
       "      <td>Сумка-тележка 2-х колесная Gimi Argo синяя</td>\n",
       "      <td>1</td>\n",
       "      <td>1087.0</td>\n",
       "    </tr>\n",
       "  </tbody>\n",
       "</table>\n",
       "<p>6737 rows × 6 columns</p>\n",
       "</div>"
      ],
      "text/plain": [
       "            date                           customer_id  order_id  \\\n",
       "0     2018100100  ee47d746-6d2f-4d3c-9622-c31412542920     68477   \n",
       "1     2018100100  ee47d746-6d2f-4d3c-9622-c31412542920     68477   \n",
       "2     2018100100  ee47d746-6d2f-4d3c-9622-c31412542920     68477   \n",
       "3     2018100100  ee47d746-6d2f-4d3c-9622-c31412542920     68477   \n",
       "4     2018100100  ee47d746-6d2f-4d3c-9622-c31412542920     68477   \n",
       "...          ...                                   ...       ...   \n",
       "6732  2019103111  73d1cd35-5e5f-4629-8cf2-3fda829d4e58     73156   \n",
       "6733  2019103112  1f0a7f35-7459-4f23-b468-5e45bf481dd1     73158   \n",
       "6734  2019103113  25df96a7-c453-4708-9cea-a3dfc7c342ea     73162   \n",
       "6735  2019103114  73d1cd35-5e5f-4629-8cf2-3fda829d4e58     73164   \n",
       "6736  2019103116  344aa778-e436-419e-a9c6-9b8f37b7c1df     73137   \n",
       "\n",
       "                                                product  quantity   price  \n",
       "0       Комнатное растение в горшке Алое Вера, d12, h30         1   142.0  \n",
       "1     Комнатное растение в горшке Кофе Арабика, d12,...         1   194.0  \n",
       "2                           Радермахера d-12 см h-20 см         1   112.0  \n",
       "3                      Хризолидокарпус Лутесценс d-9 см         1   179.0  \n",
       "4                        Циперус Зумула d-12 см h-25 см         1   112.0  \n",
       "...                                                 ...       ...     ...  \n",
       "6732  Таз пластмассовый 40,0 л пищевой овальный (Иж)...         1   404.0  \n",
       "6733         Сумка-тележка 2-х колесная Gimi Argo синяя         1  1087.0  \n",
       "6734  Герань домашняя (пеларгония зональная) цветуща...         1   157.0  \n",
       "6735  Таз пластмассовый со стиральной доской (Иж), 1...         1   397.0  \n",
       "6736         Сумка-тележка 2-х колесная Gimi Argo синяя         1  1087.0  \n",
       "\n",
       "[6737 rows x 6 columns]"
      ]
     },
     "execution_count": 8,
     "metadata": {},
     "output_type": "execute_result"
    }
   ],
   "source": [
    "ecom"
   ]
  },
  {
   "cell_type": "markdown",
   "metadata": {},
   "source": [
    "###  Вывод"
   ]
  },
  {
   "cell_type": "markdown",
   "metadata": {},
   "source": [
    "Всего в датасете 6737 наблюдений, 6 переменных. Пропущенных значений нет. Необходимо заменить тип данных для переменной даты (date)."
   ]
  },
  {
   "cell_type": "markdown",
   "metadata": {},
   "source": [
    "## Предобработка данных"
   ]
  },
  {
   "cell_type": "code",
   "execution_count": 9,
   "metadata": {},
   "outputs": [
    {
     "name": "stdout",
     "output_type": "stream",
     "text": [
      "<class 'pandas.core.frame.DataFrame'>\n",
      "RangeIndex: 6737 entries, 0 to 6736\n",
      "Data columns (total 6 columns):\n",
      " #   Column       Non-Null Count  Dtype  \n",
      "---  ------       --------------  -----  \n",
      " 0   date         6737 non-null   int64  \n",
      " 1   customer_id  6737 non-null   object \n",
      " 2   order_id     6737 non-null   int64  \n",
      " 3   product      6737 non-null   object \n",
      " 4   quantity     6737 non-null   int64  \n",
      " 5   price        6737 non-null   float64\n",
      "dtypes: float64(1), int64(3), object(2)\n",
      "memory usage: 315.9+ KB\n"
     ]
    }
   ],
   "source": [
    "ecom.info()"
   ]
  },
  {
   "cell_type": "markdown",
   "metadata": {},
   "source": [
    "Пропущенные значения отсутствуют.\n",
    "\n",
    "Приведем переменную даты к корректному типу данных и проверим данные на наличие дубликатов."
   ]
  },
  {
   "cell_type": "code",
   "execution_count": 10,
   "metadata": {},
   "outputs": [
    {
     "data": {
      "text/plain": [
       "False    6737\n",
       "dtype: int64"
      ]
     },
     "execution_count": 10,
     "metadata": {},
     "output_type": "execute_result"
    }
   ],
   "source": [
    "ecom['date'] = pd.to_datetime(ecom['date'],format='%Y%m%d%H')\n",
    "ecom.duplicated().value_counts()"
   ]
  },
  {
   "cell_type": "code",
   "execution_count": 11,
   "metadata": {},
   "outputs": [],
   "source": [
    "ecom['date_day'] = ecom['date'].dt.strftime('%Y-%m-%d')\n"
   ]
  },
  {
   "cell_type": "code",
   "execution_count": 12,
   "metadata": {},
   "outputs": [
    {
     "data": {
      "text/html": [
       "<div>\n",
       "<style scoped>\n",
       "    .dataframe tbody tr th:only-of-type {\n",
       "        vertical-align: middle;\n",
       "    }\n",
       "\n",
       "    .dataframe tbody tr th {\n",
       "        vertical-align: top;\n",
       "    }\n",
       "\n",
       "    .dataframe thead th {\n",
       "        text-align: right;\n",
       "    }\n",
       "</style>\n",
       "<table border=\"1\" class=\"dataframe\">\n",
       "  <thead>\n",
       "    <tr style=\"text-align: right;\">\n",
       "      <th></th>\n",
       "      <th>date</th>\n",
       "      <th>customer_id</th>\n",
       "      <th>order_id</th>\n",
       "      <th>product</th>\n",
       "      <th>quantity</th>\n",
       "      <th>price</th>\n",
       "      <th>date_day</th>\n",
       "    </tr>\n",
       "  </thead>\n",
       "  <tbody>\n",
       "    <tr>\n",
       "      <th>0</th>\n",
       "      <td>2018-10-01 00:00:00</td>\n",
       "      <td>ee47d746-6d2f-4d3c-9622-c31412542920</td>\n",
       "      <td>68477</td>\n",
       "      <td>Комнатное растение в горшке Алое Вера, d12, h30</td>\n",
       "      <td>1</td>\n",
       "      <td>142.0</td>\n",
       "      <td>2018-10-01</td>\n",
       "    </tr>\n",
       "    <tr>\n",
       "      <th>1</th>\n",
       "      <td>2018-10-01 00:00:00</td>\n",
       "      <td>ee47d746-6d2f-4d3c-9622-c31412542920</td>\n",
       "      <td>68477</td>\n",
       "      <td>Комнатное растение в горшке Кофе Арабика, d12,...</td>\n",
       "      <td>1</td>\n",
       "      <td>194.0</td>\n",
       "      <td>2018-10-01</td>\n",
       "    </tr>\n",
       "    <tr>\n",
       "      <th>2</th>\n",
       "      <td>2018-10-01 00:00:00</td>\n",
       "      <td>ee47d746-6d2f-4d3c-9622-c31412542920</td>\n",
       "      <td>68477</td>\n",
       "      <td>Радермахера d-12 см h-20 см</td>\n",
       "      <td>1</td>\n",
       "      <td>112.0</td>\n",
       "      <td>2018-10-01</td>\n",
       "    </tr>\n",
       "    <tr>\n",
       "      <th>3</th>\n",
       "      <td>2018-10-01 00:00:00</td>\n",
       "      <td>ee47d746-6d2f-4d3c-9622-c31412542920</td>\n",
       "      <td>68477</td>\n",
       "      <td>Хризолидокарпус Лутесценс d-9 см</td>\n",
       "      <td>1</td>\n",
       "      <td>179.0</td>\n",
       "      <td>2018-10-01</td>\n",
       "    </tr>\n",
       "    <tr>\n",
       "      <th>4</th>\n",
       "      <td>2018-10-01 00:00:00</td>\n",
       "      <td>ee47d746-6d2f-4d3c-9622-c31412542920</td>\n",
       "      <td>68477</td>\n",
       "      <td>Циперус Зумула d-12 см h-25 см</td>\n",
       "      <td>1</td>\n",
       "      <td>112.0</td>\n",
       "      <td>2018-10-01</td>\n",
       "    </tr>\n",
       "    <tr>\n",
       "      <th>...</th>\n",
       "      <td>...</td>\n",
       "      <td>...</td>\n",
       "      <td>...</td>\n",
       "      <td>...</td>\n",
       "      <td>...</td>\n",
       "      <td>...</td>\n",
       "      <td>...</td>\n",
       "    </tr>\n",
       "    <tr>\n",
       "      <th>6732</th>\n",
       "      <td>2019-10-31 11:00:00</td>\n",
       "      <td>73d1cd35-5e5f-4629-8cf2-3fda829d4e58</td>\n",
       "      <td>73156</td>\n",
       "      <td>Таз пластмассовый 40,0 л пищевой овальный (Иж)...</td>\n",
       "      <td>1</td>\n",
       "      <td>404.0</td>\n",
       "      <td>2019-10-31</td>\n",
       "    </tr>\n",
       "    <tr>\n",
       "      <th>6733</th>\n",
       "      <td>2019-10-31 12:00:00</td>\n",
       "      <td>1f0a7f35-7459-4f23-b468-5e45bf481dd1</td>\n",
       "      <td>73158</td>\n",
       "      <td>Сумка-тележка 2-х колесная Gimi Argo синяя</td>\n",
       "      <td>1</td>\n",
       "      <td>1087.0</td>\n",
       "      <td>2019-10-31</td>\n",
       "    </tr>\n",
       "    <tr>\n",
       "      <th>6734</th>\n",
       "      <td>2019-10-31 13:00:00</td>\n",
       "      <td>25df96a7-c453-4708-9cea-a3dfc7c342ea</td>\n",
       "      <td>73162</td>\n",
       "      <td>Герань домашняя (пеларгония зональная) цветуща...</td>\n",
       "      <td>1</td>\n",
       "      <td>157.0</td>\n",
       "      <td>2019-10-31</td>\n",
       "    </tr>\n",
       "    <tr>\n",
       "      <th>6735</th>\n",
       "      <td>2019-10-31 14:00:00</td>\n",
       "      <td>73d1cd35-5e5f-4629-8cf2-3fda829d4e58</td>\n",
       "      <td>73164</td>\n",
       "      <td>Таз пластмассовый со стиральной доской (Иж), 1...</td>\n",
       "      <td>1</td>\n",
       "      <td>397.0</td>\n",
       "      <td>2019-10-31</td>\n",
       "    </tr>\n",
       "    <tr>\n",
       "      <th>6736</th>\n",
       "      <td>2019-10-31 16:00:00</td>\n",
       "      <td>344aa778-e436-419e-a9c6-9b8f37b7c1df</td>\n",
       "      <td>73137</td>\n",
       "      <td>Сумка-тележка 2-х колесная Gimi Argo синяя</td>\n",
       "      <td>1</td>\n",
       "      <td>1087.0</td>\n",
       "      <td>2019-10-31</td>\n",
       "    </tr>\n",
       "  </tbody>\n",
       "</table>\n",
       "<p>6737 rows × 7 columns</p>\n",
       "</div>"
      ],
      "text/plain": [
       "                    date                           customer_id  order_id  \\\n",
       "0    2018-10-01 00:00:00  ee47d746-6d2f-4d3c-9622-c31412542920     68477   \n",
       "1    2018-10-01 00:00:00  ee47d746-6d2f-4d3c-9622-c31412542920     68477   \n",
       "2    2018-10-01 00:00:00  ee47d746-6d2f-4d3c-9622-c31412542920     68477   \n",
       "3    2018-10-01 00:00:00  ee47d746-6d2f-4d3c-9622-c31412542920     68477   \n",
       "4    2018-10-01 00:00:00  ee47d746-6d2f-4d3c-9622-c31412542920     68477   \n",
       "...                  ...                                   ...       ...   \n",
       "6732 2019-10-31 11:00:00  73d1cd35-5e5f-4629-8cf2-3fda829d4e58     73156   \n",
       "6733 2019-10-31 12:00:00  1f0a7f35-7459-4f23-b468-5e45bf481dd1     73158   \n",
       "6734 2019-10-31 13:00:00  25df96a7-c453-4708-9cea-a3dfc7c342ea     73162   \n",
       "6735 2019-10-31 14:00:00  73d1cd35-5e5f-4629-8cf2-3fda829d4e58     73164   \n",
       "6736 2019-10-31 16:00:00  344aa778-e436-419e-a9c6-9b8f37b7c1df     73137   \n",
       "\n",
       "                                                product  quantity   price  \\\n",
       "0       Комнатное растение в горшке Алое Вера, d12, h30         1   142.0   \n",
       "1     Комнатное растение в горшке Кофе Арабика, d12,...         1   194.0   \n",
       "2                           Радермахера d-12 см h-20 см         1   112.0   \n",
       "3                      Хризолидокарпус Лутесценс d-9 см         1   179.0   \n",
       "4                        Циперус Зумула d-12 см h-25 см         1   112.0   \n",
       "...                                                 ...       ...     ...   \n",
       "6732  Таз пластмассовый 40,0 л пищевой овальный (Иж)...         1   404.0   \n",
       "6733         Сумка-тележка 2-х колесная Gimi Argo синяя         1  1087.0   \n",
       "6734  Герань домашняя (пеларгония зональная) цветуща...         1   157.0   \n",
       "6735  Таз пластмассовый со стиральной доской (Иж), 1...         1   397.0   \n",
       "6736         Сумка-тележка 2-х колесная Gimi Argo синяя         1  1087.0   \n",
       "\n",
       "        date_day  \n",
       "0     2018-10-01  \n",
       "1     2018-10-01  \n",
       "2     2018-10-01  \n",
       "3     2018-10-01  \n",
       "4     2018-10-01  \n",
       "...          ...  \n",
       "6732  2019-10-31  \n",
       "6733  2019-10-31  \n",
       "6734  2019-10-31  \n",
       "6735  2019-10-31  \n",
       "6736  2019-10-31  \n",
       "\n",
       "[6737 rows x 7 columns]"
      ]
     },
     "execution_count": 12,
     "metadata": {},
     "output_type": "execute_result"
    }
   ],
   "source": [
    "ecom"
   ]
  },
  {
   "cell_type": "markdown",
   "metadata": {},
   "source": [
    "Преобразовали переменную даты в нужный тип данных. Необходимо проверить, дублируются ли заказы в разные дни. Поскольку у нас данные представляют собой транзакции, то один и тот же номер заказа не может дублироваться в разные даты. "
   ]
  },
  {
   "cell_type": "code",
   "execution_count": 13,
   "metadata": {},
   "outputs": [
    {
     "data": {
      "text/html": [
       "<div>\n",
       "<style scoped>\n",
       "    .dataframe tbody tr th:only-of-type {\n",
       "        vertical-align: middle;\n",
       "    }\n",
       "\n",
       "    .dataframe tbody tr th {\n",
       "        vertical-align: top;\n",
       "    }\n",
       "\n",
       "    .dataframe thead th {\n",
       "        text-align: right;\n",
       "    }\n",
       "</style>\n",
       "<table border=\"1\" class=\"dataframe\">\n",
       "  <thead>\n",
       "    <tr style=\"text-align: right;\">\n",
       "      <th></th>\n",
       "      <th>date</th>\n",
       "      <th>customer_id</th>\n",
       "      <th>order_id</th>\n",
       "      <th>product</th>\n",
       "      <th>quantity</th>\n",
       "      <th>price</th>\n",
       "      <th>date_day</th>\n",
       "    </tr>\n",
       "  </thead>\n",
       "  <tbody>\n",
       "    <tr>\n",
       "      <th>102</th>\n",
       "      <td>2018-10-05 00:00:00</td>\n",
       "      <td>b80e4826-7218-4bf9-ac08-eb2c81ab3f62</td>\n",
       "      <td>13547</td>\n",
       "      <td>Рассада зелени для кухни Лаванды в кассете по ...</td>\n",
       "      <td>1</td>\n",
       "      <td>315.0</td>\n",
       "      <td>2018-10-05</td>\n",
       "    </tr>\n",
       "    <tr>\n",
       "      <th>103</th>\n",
       "      <td>2018-10-05 00:00:00</td>\n",
       "      <td>b80e4826-7218-4bf9-ac08-eb2c81ab3f62</td>\n",
       "      <td>13547</td>\n",
       "      <td>Рассада зелени для кухни Розмарина в кассете п...</td>\n",
       "      <td>1</td>\n",
       "      <td>207.0</td>\n",
       "      <td>2018-10-05</td>\n",
       "    </tr>\n",
       "    <tr>\n",
       "      <th>104</th>\n",
       "      <td>2018-10-05 00:00:00</td>\n",
       "      <td>b80e4826-7218-4bf9-ac08-eb2c81ab3f62</td>\n",
       "      <td>13547</td>\n",
       "      <td>Рассада зелени для кухни Тимьяна в кассете по ...</td>\n",
       "      <td>1</td>\n",
       "      <td>162.0</td>\n",
       "      <td>2018-10-05</td>\n",
       "    </tr>\n",
       "    <tr>\n",
       "      <th>376</th>\n",
       "      <td>2018-10-23 13:00:00</td>\n",
       "      <td>b80e4826-7218-4bf9-ac08-eb2c81ab3f62</td>\n",
       "      <td>13547</td>\n",
       "      <td>Рассада зелени для кухни Лаванды в кассете по ...</td>\n",
       "      <td>1</td>\n",
       "      <td>315.0</td>\n",
       "      <td>2018-10-23</td>\n",
       "    </tr>\n",
       "    <tr>\n",
       "      <th>377</th>\n",
       "      <td>2018-10-23 13:00:00</td>\n",
       "      <td>b80e4826-7218-4bf9-ac08-eb2c81ab3f62</td>\n",
       "      <td>13547</td>\n",
       "      <td>Рассада зелени для кухни Розмарина в кассете п...</td>\n",
       "      <td>1</td>\n",
       "      <td>207.0</td>\n",
       "      <td>2018-10-23</td>\n",
       "    </tr>\n",
       "    <tr>\n",
       "      <th>378</th>\n",
       "      <td>2018-10-23 13:00:00</td>\n",
       "      <td>b80e4826-7218-4bf9-ac08-eb2c81ab3f62</td>\n",
       "      <td>13547</td>\n",
       "      <td>Рассада зелени для кухни Тимьяна в кассете по ...</td>\n",
       "      <td>1</td>\n",
       "      <td>162.0</td>\n",
       "      <td>2018-10-23</td>\n",
       "    </tr>\n",
       "    <tr>\n",
       "      <th>509</th>\n",
       "      <td>2018-10-28 19:00:00</td>\n",
       "      <td>b80e4826-7218-4bf9-ac08-eb2c81ab3f62</td>\n",
       "      <td>13547</td>\n",
       "      <td>Рассада зелени для кухни Лаванды в кассете по ...</td>\n",
       "      <td>1</td>\n",
       "      <td>315.0</td>\n",
       "      <td>2018-10-28</td>\n",
       "    </tr>\n",
       "    <tr>\n",
       "      <th>510</th>\n",
       "      <td>2018-10-28 19:00:00</td>\n",
       "      <td>b80e4826-7218-4bf9-ac08-eb2c81ab3f62</td>\n",
       "      <td>13547</td>\n",
       "      <td>Рассада зелени для кухни Розмарина в кассете п...</td>\n",
       "      <td>1</td>\n",
       "      <td>207.0</td>\n",
       "      <td>2018-10-28</td>\n",
       "    </tr>\n",
       "    <tr>\n",
       "      <th>511</th>\n",
       "      <td>2018-10-28 19:00:00</td>\n",
       "      <td>b80e4826-7218-4bf9-ac08-eb2c81ab3f62</td>\n",
       "      <td>13547</td>\n",
       "      <td>Рассада зелени для кухни Тимьяна в кассете по ...</td>\n",
       "      <td>1</td>\n",
       "      <td>162.0</td>\n",
       "      <td>2018-10-28</td>\n",
       "    </tr>\n",
       "    <tr>\n",
       "      <th>588</th>\n",
       "      <td>2018-11-02 14:00:00</td>\n",
       "      <td>b80e4826-7218-4bf9-ac08-eb2c81ab3f62</td>\n",
       "      <td>13547</td>\n",
       "      <td>Рассада зелени для кухни Лаванды в кассете по ...</td>\n",
       "      <td>1</td>\n",
       "      <td>315.0</td>\n",
       "      <td>2018-11-02</td>\n",
       "    </tr>\n",
       "    <tr>\n",
       "      <th>589</th>\n",
       "      <td>2018-11-02 14:00:00</td>\n",
       "      <td>b80e4826-7218-4bf9-ac08-eb2c81ab3f62</td>\n",
       "      <td>13547</td>\n",
       "      <td>Рассада зелени для кухни Розмарина в кассете п...</td>\n",
       "      <td>1</td>\n",
       "      <td>207.0</td>\n",
       "      <td>2018-11-02</td>\n",
       "    </tr>\n",
       "    <tr>\n",
       "      <th>590</th>\n",
       "      <td>2018-11-02 14:00:00</td>\n",
       "      <td>b80e4826-7218-4bf9-ac08-eb2c81ab3f62</td>\n",
       "      <td>13547</td>\n",
       "      <td>Рассада зелени для кухни Тимьяна в кассете по ...</td>\n",
       "      <td>1</td>\n",
       "      <td>162.0</td>\n",
       "      <td>2018-11-02</td>\n",
       "    </tr>\n",
       "    <tr>\n",
       "      <th>758</th>\n",
       "      <td>2018-11-10 17:00:00</td>\n",
       "      <td>b80e4826-7218-4bf9-ac08-eb2c81ab3f62</td>\n",
       "      <td>13547</td>\n",
       "      <td>Рассада зелени для кухни Лаванды в кассете по ...</td>\n",
       "      <td>1</td>\n",
       "      <td>315.0</td>\n",
       "      <td>2018-11-10</td>\n",
       "    </tr>\n",
       "    <tr>\n",
       "      <th>759</th>\n",
       "      <td>2018-11-10 17:00:00</td>\n",
       "      <td>b80e4826-7218-4bf9-ac08-eb2c81ab3f62</td>\n",
       "      <td>13547</td>\n",
       "      <td>Рассада зелени для кухни Розмарина в кассете п...</td>\n",
       "      <td>1</td>\n",
       "      <td>207.0</td>\n",
       "      <td>2018-11-10</td>\n",
       "    </tr>\n",
       "    <tr>\n",
       "      <th>760</th>\n",
       "      <td>2018-11-10 17:00:00</td>\n",
       "      <td>b80e4826-7218-4bf9-ac08-eb2c81ab3f62</td>\n",
       "      <td>13547</td>\n",
       "      <td>Рассада зелени для кухни Тимьяна в кассете по ...</td>\n",
       "      <td>1</td>\n",
       "      <td>162.0</td>\n",
       "      <td>2018-11-10</td>\n",
       "    </tr>\n",
       "    <tr>\n",
       "      <th>816</th>\n",
       "      <td>2018-11-15 15:00:00</td>\n",
       "      <td>b80e4826-7218-4bf9-ac08-eb2c81ab3f62</td>\n",
       "      <td>13547</td>\n",
       "      <td>Рассада зелени для кухни Лаванды в кассете по ...</td>\n",
       "      <td>1</td>\n",
       "      <td>315.0</td>\n",
       "      <td>2018-11-15</td>\n",
       "    </tr>\n",
       "    <tr>\n",
       "      <th>817</th>\n",
       "      <td>2018-11-15 15:00:00</td>\n",
       "      <td>b80e4826-7218-4bf9-ac08-eb2c81ab3f62</td>\n",
       "      <td>13547</td>\n",
       "      <td>Рассада зелени для кухни Розмарина в кассете п...</td>\n",
       "      <td>1</td>\n",
       "      <td>207.0</td>\n",
       "      <td>2018-11-15</td>\n",
       "    </tr>\n",
       "    <tr>\n",
       "      <th>818</th>\n",
       "      <td>2018-11-15 15:00:00</td>\n",
       "      <td>b80e4826-7218-4bf9-ac08-eb2c81ab3f62</td>\n",
       "      <td>13547</td>\n",
       "      <td>Рассада зелени для кухни Тимьяна в кассете по ...</td>\n",
       "      <td>1</td>\n",
       "      <td>162.0</td>\n",
       "      <td>2018-11-15</td>\n",
       "    </tr>\n",
       "    <tr>\n",
       "      <th>827</th>\n",
       "      <td>2018-11-16 16:00:00</td>\n",
       "      <td>b80e4826-7218-4bf9-ac08-eb2c81ab3f62</td>\n",
       "      <td>13547</td>\n",
       "      <td>Рассада зелени для кухни Лаванды в кассете по ...</td>\n",
       "      <td>1</td>\n",
       "      <td>315.0</td>\n",
       "      <td>2018-11-16</td>\n",
       "    </tr>\n",
       "    <tr>\n",
       "      <th>828</th>\n",
       "      <td>2018-11-16 16:00:00</td>\n",
       "      <td>b80e4826-7218-4bf9-ac08-eb2c81ab3f62</td>\n",
       "      <td>13547</td>\n",
       "      <td>Рассада зелени для кухни Розмарина в кассете п...</td>\n",
       "      <td>1</td>\n",
       "      <td>207.0</td>\n",
       "      <td>2018-11-16</td>\n",
       "    </tr>\n",
       "    <tr>\n",
       "      <th>829</th>\n",
       "      <td>2018-11-16 16:00:00</td>\n",
       "      <td>b80e4826-7218-4bf9-ac08-eb2c81ab3f62</td>\n",
       "      <td>13547</td>\n",
       "      <td>Рассада зелени для кухни Тимьяна в кассете по ...</td>\n",
       "      <td>1</td>\n",
       "      <td>162.0</td>\n",
       "      <td>2018-11-16</td>\n",
       "    </tr>\n",
       "  </tbody>\n",
       "</table>\n",
       "</div>"
      ],
      "text/plain": [
       "                   date                           customer_id  order_id  \\\n",
       "102 2018-10-05 00:00:00  b80e4826-7218-4bf9-ac08-eb2c81ab3f62     13547   \n",
       "103 2018-10-05 00:00:00  b80e4826-7218-4bf9-ac08-eb2c81ab3f62     13547   \n",
       "104 2018-10-05 00:00:00  b80e4826-7218-4bf9-ac08-eb2c81ab3f62     13547   \n",
       "376 2018-10-23 13:00:00  b80e4826-7218-4bf9-ac08-eb2c81ab3f62     13547   \n",
       "377 2018-10-23 13:00:00  b80e4826-7218-4bf9-ac08-eb2c81ab3f62     13547   \n",
       "378 2018-10-23 13:00:00  b80e4826-7218-4bf9-ac08-eb2c81ab3f62     13547   \n",
       "509 2018-10-28 19:00:00  b80e4826-7218-4bf9-ac08-eb2c81ab3f62     13547   \n",
       "510 2018-10-28 19:00:00  b80e4826-7218-4bf9-ac08-eb2c81ab3f62     13547   \n",
       "511 2018-10-28 19:00:00  b80e4826-7218-4bf9-ac08-eb2c81ab3f62     13547   \n",
       "588 2018-11-02 14:00:00  b80e4826-7218-4bf9-ac08-eb2c81ab3f62     13547   \n",
       "589 2018-11-02 14:00:00  b80e4826-7218-4bf9-ac08-eb2c81ab3f62     13547   \n",
       "590 2018-11-02 14:00:00  b80e4826-7218-4bf9-ac08-eb2c81ab3f62     13547   \n",
       "758 2018-11-10 17:00:00  b80e4826-7218-4bf9-ac08-eb2c81ab3f62     13547   \n",
       "759 2018-11-10 17:00:00  b80e4826-7218-4bf9-ac08-eb2c81ab3f62     13547   \n",
       "760 2018-11-10 17:00:00  b80e4826-7218-4bf9-ac08-eb2c81ab3f62     13547   \n",
       "816 2018-11-15 15:00:00  b80e4826-7218-4bf9-ac08-eb2c81ab3f62     13547   \n",
       "817 2018-11-15 15:00:00  b80e4826-7218-4bf9-ac08-eb2c81ab3f62     13547   \n",
       "818 2018-11-15 15:00:00  b80e4826-7218-4bf9-ac08-eb2c81ab3f62     13547   \n",
       "827 2018-11-16 16:00:00  b80e4826-7218-4bf9-ac08-eb2c81ab3f62     13547   \n",
       "828 2018-11-16 16:00:00  b80e4826-7218-4bf9-ac08-eb2c81ab3f62     13547   \n",
       "829 2018-11-16 16:00:00  b80e4826-7218-4bf9-ac08-eb2c81ab3f62     13547   \n",
       "\n",
       "                                               product  quantity  price  \\\n",
       "102  Рассада зелени для кухни Лаванды в кассете по ...         1  315.0   \n",
       "103  Рассада зелени для кухни Розмарина в кассете п...         1  207.0   \n",
       "104  Рассада зелени для кухни Тимьяна в кассете по ...         1  162.0   \n",
       "376  Рассада зелени для кухни Лаванды в кассете по ...         1  315.0   \n",
       "377  Рассада зелени для кухни Розмарина в кассете п...         1  207.0   \n",
       "378  Рассада зелени для кухни Тимьяна в кассете по ...         1  162.0   \n",
       "509  Рассада зелени для кухни Лаванды в кассете по ...         1  315.0   \n",
       "510  Рассада зелени для кухни Розмарина в кассете п...         1  207.0   \n",
       "511  Рассада зелени для кухни Тимьяна в кассете по ...         1  162.0   \n",
       "588  Рассада зелени для кухни Лаванды в кассете по ...         1  315.0   \n",
       "589  Рассада зелени для кухни Розмарина в кассете п...         1  207.0   \n",
       "590  Рассада зелени для кухни Тимьяна в кассете по ...         1  162.0   \n",
       "758  Рассада зелени для кухни Лаванды в кассете по ...         1  315.0   \n",
       "759  Рассада зелени для кухни Розмарина в кассете п...         1  207.0   \n",
       "760  Рассада зелени для кухни Тимьяна в кассете по ...         1  162.0   \n",
       "816  Рассада зелени для кухни Лаванды в кассете по ...         1  315.0   \n",
       "817  Рассада зелени для кухни Розмарина в кассете п...         1  207.0   \n",
       "818  Рассада зелени для кухни Тимьяна в кассете по ...         1  162.0   \n",
       "827  Рассада зелени для кухни Лаванды в кассете по ...         1  315.0   \n",
       "828  Рассада зелени для кухни Розмарина в кассете п...         1  207.0   \n",
       "829  Рассада зелени для кухни Тимьяна в кассете по ...         1  162.0   \n",
       "\n",
       "       date_day  \n",
       "102  2018-10-05  \n",
       "103  2018-10-05  \n",
       "104  2018-10-05  \n",
       "376  2018-10-23  \n",
       "377  2018-10-23  \n",
       "378  2018-10-23  \n",
       "509  2018-10-28  \n",
       "510  2018-10-28  \n",
       "511  2018-10-28  \n",
       "588  2018-11-02  \n",
       "589  2018-11-02  \n",
       "590  2018-11-02  \n",
       "758  2018-11-10  \n",
       "759  2018-11-10  \n",
       "760  2018-11-10  \n",
       "816  2018-11-15  \n",
       "817  2018-11-15  \n",
       "818  2018-11-15  \n",
       "827  2018-11-16  \n",
       "828  2018-11-16  \n",
       "829  2018-11-16  "
      ]
     },
     "execution_count": 13,
     "metadata": {},
     "output_type": "execute_result"
    }
   ],
   "source": [
    "ecom[ecom['order_id']==13547]"
   ]
  },
  {
   "cell_type": "markdown",
   "metadata": {},
   "source": [
    "Пример заказа, который дублируется 5, 23 и 28 октября, 2,10, 15 и 16 ноября."
   ]
  },
  {
   "cell_type": "code",
   "execution_count": 14,
   "metadata": {},
   "outputs": [
    {
     "data": {
      "text/plain": [
       "[13547,\n",
       " 14500,\n",
       " 14504,\n",
       " 14505,\n",
       " 14521,\n",
       " 14529,\n",
       " 14537,\n",
       " 14541,\n",
       " 14570,\n",
       " 14572,\n",
       " 14597,\n",
       " 14637,\n",
       " 14644,\n",
       " 14664,\n",
       " 14701,\n",
       " 14753,\n",
       " 14833,\n",
       " 14835,\n",
       " 14856,\n",
       " 14863,\n",
       " 14872,\n",
       " 14896,\n",
       " 14897,\n",
       " 14898,\n",
       " 14903,\n",
       " 56879,\n",
       " 68474,\n",
       " 68476,\n",
       " 68574,\n",
       " 68611,\n",
       " 68647,\n",
       " 68760,\n",
       " 68785,\n",
       " 68814,\n",
       " 68860,\n",
       " 68891,\n",
       " 68919,\n",
       " 68996,\n",
       " 69109,\n",
       " 69162,\n",
       " 69282,\n",
       " 69310,\n",
       " 69345,\n",
       " 69369,\n",
       " 69381,\n",
       " 69396,\n",
       " 69410,\n",
       " 69421,\n",
       " 69485,\n",
       " 69506,\n",
       " 69507,\n",
       " 69527,\n",
       " 69528,\n",
       " 69531,\n",
       " 69586,\n",
       " 69598,\n",
       " 69640,\n",
       " 69694,\n",
       " 69708,\n",
       " 69726,\n",
       " 69750,\n",
       " 69765,\n",
       " 69797,\n",
       " 69807,\n",
       " 69833,\n",
       " 69868,\n",
       " 69881,\n",
       " 69888,\n",
       " 69947,\n",
       " 70031,\n",
       " 70059,\n",
       " 70114,\n",
       " 70115,\n",
       " 70120,\n",
       " 70144,\n",
       " 70186,\n",
       " 70217,\n",
       " 70270,\n",
       " 70318,\n",
       " 70356,\n",
       " 70412,\n",
       " 70419,\n",
       " 70450,\n",
       " 70463,\n",
       " 70476,\n",
       " 70480,\n",
       " 70542,\n",
       " 70554,\n",
       " 70567,\n",
       " 70620,\n",
       " 70631,\n",
       " 70647,\n",
       " 70677,\n",
       " 70718,\n",
       " 70726,\n",
       " 70734,\n",
       " 70742,\n",
       " 70769,\n",
       " 70800,\n",
       " 70828,\n",
       " 70856,\n",
       " 70862,\n",
       " 70899,\n",
       " 70903,\n",
       " 70939,\n",
       " 70946,\n",
       " 70949,\n",
       " 70960,\n",
       " 70962,\n",
       " 70995,\n",
       " 71054,\n",
       " 71074,\n",
       " 71089,\n",
       " 71130,\n",
       " 71143,\n",
       " 71148,\n",
       " 71160,\n",
       " 71188,\n",
       " 71249,\n",
       " 71257,\n",
       " 71271,\n",
       " 71299,\n",
       " 71341,\n",
       " 71363,\n",
       " 71368,\n",
       " 71370,\n",
       " 71398,\n",
       " 71400,\n",
       " 71413,\n",
       " 71426,\n",
       " 71461,\n",
       " 71463,\n",
       " 71479,\n",
       " 71480,\n",
       " 71542,\n",
       " 71560,\n",
       " 71573,\n",
       " 71595,\n",
       " 71633,\n",
       " 71648,\n",
       " 71663,\n",
       " 71689,\n",
       " 71750,\n",
       " 71758,\n",
       " 71761,\n",
       " 71860,\n",
       " 71874,\n",
       " 71894,\n",
       " 71936,\n",
       " 71974,\n",
       " 72055,\n",
       " 72066,\n",
       " 72075,\n",
       " 72124,\n",
       " 72135,\n",
       " 72162,\n",
       " 72169,\n",
       " 72170,\n",
       " 72177,\n",
       " 72188,\n",
       " 72320,\n",
       " 72402,\n",
       " 72403,\n",
       " 72434,\n",
       " 72518,\n",
       " 72520,\n",
       " 72566,\n",
       " 72593,\n",
       " 72615,\n",
       " 72683,\n",
       " 72753,\n",
       " 72778,\n",
       " 72786,\n",
       " 72790,\n",
       " 72824,\n",
       " 72827,\n",
       " 72845,\n",
       " 72861,\n",
       " 72892,\n",
       " 72926,\n",
       " 72937,\n",
       " 72944,\n",
       " 72950,\n",
       " 72997,\n",
       " 73002,\n",
       " 73027,\n",
       " 73032,\n",
       " 73104,\n",
       " 73136,\n",
       " 73137]"
      ]
     },
     "execution_count": 14,
     "metadata": {},
     "output_type": "execute_result"
    }
   ],
   "source": [
    "n=ecom.pivot_table(index='order_id', values='date_day',aggfunc='nunique')\n",
    "n=n.rename(columns={'order_id':'n'}).reset_index()\n",
    "m=n[n['date_day']>1]\n",
    "m=list(m['order_id'])\n",
    "m"
   ]
  },
  {
   "cell_type": "markdown",
   "metadata": {},
   "source": [
    "Можно увидеть, что таких заказов достаточно много (190 штук). Такая ошибка задвоения могла возникнуть при обработке заказа. Данные значения могут сильно повлиять на дальнейший результат, поэтому оставим данные только по первой дате заказа."
   ]
  },
  {
   "cell_type": "code",
   "execution_count": 15,
   "metadata": {},
   "outputs": [],
   "source": [
    "ax=ecom[ecom['order_id'].isin(m)]\n",
    "ex=ax[ax.duplicated(subset=['order_id','price','quantity'])]\n",
    "ecom=ecom[~ecom.index.isin(ex.index)]"
   ]
  },
  {
   "cell_type": "code",
   "execution_count": 16,
   "metadata": {},
   "outputs": [
    {
     "data": {
      "text/html": [
       "<div>\n",
       "<style scoped>\n",
       "    .dataframe tbody tr th:only-of-type {\n",
       "        vertical-align: middle;\n",
       "    }\n",
       "\n",
       "    .dataframe tbody tr th {\n",
       "        vertical-align: top;\n",
       "    }\n",
       "\n",
       "    .dataframe thead th {\n",
       "        text-align: right;\n",
       "    }\n",
       "</style>\n",
       "<table border=\"1\" class=\"dataframe\">\n",
       "  <thead>\n",
       "    <tr style=\"text-align: right;\">\n",
       "      <th></th>\n",
       "      <th>date</th>\n",
       "      <th>customer_id</th>\n",
       "      <th>order_id</th>\n",
       "      <th>product</th>\n",
       "      <th>quantity</th>\n",
       "      <th>price</th>\n",
       "      <th>date_day</th>\n",
       "    </tr>\n",
       "  </thead>\n",
       "  <tbody>\n",
       "    <tr>\n",
       "      <th>0</th>\n",
       "      <td>2018-10-01 00:00:00</td>\n",
       "      <td>ee47d746-6d2f-4d3c-9622-c31412542920</td>\n",
       "      <td>68477</td>\n",
       "      <td>Комнатное растение в горшке Алое Вера, d12, h30</td>\n",
       "      <td>1</td>\n",
       "      <td>142.0</td>\n",
       "      <td>2018-10-01</td>\n",
       "    </tr>\n",
       "    <tr>\n",
       "      <th>1</th>\n",
       "      <td>2018-10-01 00:00:00</td>\n",
       "      <td>ee47d746-6d2f-4d3c-9622-c31412542920</td>\n",
       "      <td>68477</td>\n",
       "      <td>Комнатное растение в горшке Кофе Арабика, d12,...</td>\n",
       "      <td>1</td>\n",
       "      <td>194.0</td>\n",
       "      <td>2018-10-01</td>\n",
       "    </tr>\n",
       "    <tr>\n",
       "      <th>2</th>\n",
       "      <td>2018-10-01 00:00:00</td>\n",
       "      <td>ee47d746-6d2f-4d3c-9622-c31412542920</td>\n",
       "      <td>68477</td>\n",
       "      <td>Радермахера d-12 см h-20 см</td>\n",
       "      <td>1</td>\n",
       "      <td>112.0</td>\n",
       "      <td>2018-10-01</td>\n",
       "    </tr>\n",
       "    <tr>\n",
       "      <th>3</th>\n",
       "      <td>2018-10-01 00:00:00</td>\n",
       "      <td>ee47d746-6d2f-4d3c-9622-c31412542920</td>\n",
       "      <td>68477</td>\n",
       "      <td>Хризолидокарпус Лутесценс d-9 см</td>\n",
       "      <td>1</td>\n",
       "      <td>179.0</td>\n",
       "      <td>2018-10-01</td>\n",
       "    </tr>\n",
       "    <tr>\n",
       "      <th>4</th>\n",
       "      <td>2018-10-01 00:00:00</td>\n",
       "      <td>ee47d746-6d2f-4d3c-9622-c31412542920</td>\n",
       "      <td>68477</td>\n",
       "      <td>Циперус Зумула d-12 см h-25 см</td>\n",
       "      <td>1</td>\n",
       "      <td>112.0</td>\n",
       "      <td>2018-10-01</td>\n",
       "    </tr>\n",
       "    <tr>\n",
       "      <th>...</th>\n",
       "      <td>...</td>\n",
       "      <td>...</td>\n",
       "      <td>...</td>\n",
       "      <td>...</td>\n",
       "      <td>...</td>\n",
       "      <td>...</td>\n",
       "      <td>...</td>\n",
       "    </tr>\n",
       "    <tr>\n",
       "      <th>6731</th>\n",
       "      <td>2019-10-31 11:00:00</td>\n",
       "      <td>f17ed857-178e-45e1-a662-0a9dd3b58c5f</td>\n",
       "      <td>73155</td>\n",
       "      <td>Мимоза стыдливая d-9 см</td>\n",
       "      <td>1</td>\n",
       "      <td>329.0</td>\n",
       "      <td>2019-10-31</td>\n",
       "    </tr>\n",
       "    <tr>\n",
       "      <th>6732</th>\n",
       "      <td>2019-10-31 11:00:00</td>\n",
       "      <td>73d1cd35-5e5f-4629-8cf2-3fda829d4e58</td>\n",
       "      <td>73156</td>\n",
       "      <td>Таз пластмассовый 40,0 л пищевой овальный (Иж)...</td>\n",
       "      <td>1</td>\n",
       "      <td>404.0</td>\n",
       "      <td>2019-10-31</td>\n",
       "    </tr>\n",
       "    <tr>\n",
       "      <th>6733</th>\n",
       "      <td>2019-10-31 12:00:00</td>\n",
       "      <td>1f0a7f35-7459-4f23-b468-5e45bf481dd1</td>\n",
       "      <td>73158</td>\n",
       "      <td>Сумка-тележка 2-х колесная Gimi Argo синяя</td>\n",
       "      <td>1</td>\n",
       "      <td>1087.0</td>\n",
       "      <td>2019-10-31</td>\n",
       "    </tr>\n",
       "    <tr>\n",
       "      <th>6734</th>\n",
       "      <td>2019-10-31 13:00:00</td>\n",
       "      <td>25df96a7-c453-4708-9cea-a3dfc7c342ea</td>\n",
       "      <td>73162</td>\n",
       "      <td>Герань домашняя (пеларгония зональная) цветуща...</td>\n",
       "      <td>1</td>\n",
       "      <td>157.0</td>\n",
       "      <td>2019-10-31</td>\n",
       "    </tr>\n",
       "    <tr>\n",
       "      <th>6735</th>\n",
       "      <td>2019-10-31 14:00:00</td>\n",
       "      <td>73d1cd35-5e5f-4629-8cf2-3fda829d4e58</td>\n",
       "      <td>73164</td>\n",
       "      <td>Таз пластмассовый со стиральной доской (Иж), 1...</td>\n",
       "      <td>1</td>\n",
       "      <td>397.0</td>\n",
       "      <td>2019-10-31</td>\n",
       "    </tr>\n",
       "  </tbody>\n",
       "</table>\n",
       "<p>4824 rows × 7 columns</p>\n",
       "</div>"
      ],
      "text/plain": [
       "                    date                           customer_id  order_id  \\\n",
       "0    2018-10-01 00:00:00  ee47d746-6d2f-4d3c-9622-c31412542920     68477   \n",
       "1    2018-10-01 00:00:00  ee47d746-6d2f-4d3c-9622-c31412542920     68477   \n",
       "2    2018-10-01 00:00:00  ee47d746-6d2f-4d3c-9622-c31412542920     68477   \n",
       "3    2018-10-01 00:00:00  ee47d746-6d2f-4d3c-9622-c31412542920     68477   \n",
       "4    2018-10-01 00:00:00  ee47d746-6d2f-4d3c-9622-c31412542920     68477   \n",
       "...                  ...                                   ...       ...   \n",
       "6731 2019-10-31 11:00:00  f17ed857-178e-45e1-a662-0a9dd3b58c5f     73155   \n",
       "6732 2019-10-31 11:00:00  73d1cd35-5e5f-4629-8cf2-3fda829d4e58     73156   \n",
       "6733 2019-10-31 12:00:00  1f0a7f35-7459-4f23-b468-5e45bf481dd1     73158   \n",
       "6734 2019-10-31 13:00:00  25df96a7-c453-4708-9cea-a3dfc7c342ea     73162   \n",
       "6735 2019-10-31 14:00:00  73d1cd35-5e5f-4629-8cf2-3fda829d4e58     73164   \n",
       "\n",
       "                                                product  quantity   price  \\\n",
       "0       Комнатное растение в горшке Алое Вера, d12, h30         1   142.0   \n",
       "1     Комнатное растение в горшке Кофе Арабика, d12,...         1   194.0   \n",
       "2                           Радермахера d-12 см h-20 см         1   112.0   \n",
       "3                      Хризолидокарпус Лутесценс d-9 см         1   179.0   \n",
       "4                        Циперус Зумула d-12 см h-25 см         1   112.0   \n",
       "...                                                 ...       ...     ...   \n",
       "6731                            Мимоза стыдливая d-9 см         1   329.0   \n",
       "6732  Таз пластмассовый 40,0 л пищевой овальный (Иж)...         1   404.0   \n",
       "6733         Сумка-тележка 2-х колесная Gimi Argo синяя         1  1087.0   \n",
       "6734  Герань домашняя (пеларгония зональная) цветуща...         1   157.0   \n",
       "6735  Таз пластмассовый со стиральной доской (Иж), 1...         1   397.0   \n",
       "\n",
       "        date_day  \n",
       "0     2018-10-01  \n",
       "1     2018-10-01  \n",
       "2     2018-10-01  \n",
       "3     2018-10-01  \n",
       "4     2018-10-01  \n",
       "...          ...  \n",
       "6731  2019-10-31  \n",
       "6732  2019-10-31  \n",
       "6733  2019-10-31  \n",
       "6734  2019-10-31  \n",
       "6735  2019-10-31  \n",
       "\n",
       "[4824 rows x 7 columns]"
      ]
     },
     "execution_count": 16,
     "metadata": {},
     "output_type": "execute_result"
    }
   ],
   "source": [
    "ecom"
   ]
  },
  {
   "cell_type": "markdown",
   "metadata": {},
   "source": [
    "Осталось 4824 наблюдения."
   ]
  },
  {
   "cell_type": "markdown",
   "metadata": {},
   "source": [
    "Теперь необходимо категоризовать данные."
   ]
  },
  {
   "cell_type": "code",
   "execution_count": 17,
   "metadata": {},
   "outputs": [],
   "source": [
    "ecom['product']=ecom['product'].str.lower()"
   ]
  },
  {
   "cell_type": "markdown",
   "metadata": {},
   "source": [
    "Выделим среди переменной названия продукта первое и второе слово для последующей категоризации"
   ]
  },
  {
   "cell_type": "code",
   "execution_count": 18,
   "metadata": {},
   "outputs": [],
   "source": [
    "ecom['product_2'] = ecom['product'].apply(lambda x: x.split()[:2]).apply(lambda x: ' '.join(x))\n",
    "ecom['product_1'] = ecom['product'].str.split(' ').str[0]"
   ]
  },
  {
   "cell_type": "markdown",
   "metadata": {},
   "source": [
    "Разделим товары на 6 категорий - растения, сумки, товары для дома, посуда, хозтовары, техника. К растениям относятся рассады, цветы искуственные, семена, деревья и так далее. К товарам для дома отнесем предметы мебели,вещи для оформления дома, вещи для ремонта. К сумкам отнесли три категории - сумка, сумка-тележка,тележка. Посуда - кружки, тарелки, сковородки.  К хозтоварам относятся различные средства бытовой химии, предметы для хранения, гладильные доски и сушилки. Техника - пылесосы, миксер, утюг и тд."
   ]
  },
  {
   "cell_type": "code",
   "execution_count": 19,
   "metadata": {},
   "outputs": [],
   "source": [
    "myDict={'сумки':['сумка','сумка-тележка','тележка'], 'растение':['искусственный','базилик','дыня','мята', 'декабрист', 'арбуз', 'бегония', 'пуансеттия', 'колокольчик', 'бальзамин', 'тимьян', 'виола', 'антуриум', 'вербейник', 'огурец', 'камнеломка', 'клубника', 'алиссум', 'патиссон', 'хлорофитум','портулак','калла','барвинок', 'кофе', 'косметь', 'хризантема', 'эхеверие', 'лавр', 'спатифиллум', 'томат','мирт', 'гвоздик', 'петрушка', 'ясколка','седум', 'розмарин', 'табак', 'фаленопсис', 'азалия', 'цинния', 'шеффлер', 'сельдерей', 'аптение', 'чабер', 'котовник', 'дендробиум', 'лапчатка','мимоза', 'мединилла', 'кореопсис','настурция', 'земляника', 'зверобой', 'вигна', 'калатея', 'алоэ', 'гортензия', 'кабачок', 'баклажан', 'папоротник', 'колеус','лаванда','цикламен,','агератум', 'календула', 'гардения', 'аквилегия', 'астра', 'тыква', 'гипсофил', 'цинерария', 'крассула', 'молодило','молодить', 'целозия', 'вероника', 'аспарагус', 'сальвия', 'лантан', 'гератум', 'диффенбахий', 'душица', 'монард', 'эхинацея', 'эхинокактус', 'кориандр', 'укроп', 'гербера', 'осина', 'фатсия', 'цикламен', 'хоста', 'мускарь', 'салат', 'бадан', 'фиттоний', 'лаватер', 'амариллис', 'сантолина', 'георгин', 'эшшольция', 'горох', 'капсикум', 'пахира', 'подсолнечник', 'кипарисовик', 'физостегия', 'эпипремнум', 'цитрофортунелла', 'рудбекия', 'бузульник', 'кодонант', 'гиацинт', 'незабудка', 'юкка', 'лилейник', 'гимнокалициум', 'литопс', 'хамедорей', 'солидаго', 'джункус', 'фикус', 'буддлей', 'крокус', 'пиретрум', 'нефролепис', 'бархатцы', 'сциндапсус', 'нолина', 'годеция', 'лук', 'пеперомия', 'соланум', 'ель', 'тюльпан', 'гайлардий', 'орехоколка', 'синнингия', 'клен', 'радермахер', 'замиокулькас', 'морковь', 'драцена', 'анемон', 'иссоп', 'мелисса', 'муррайя', 'кампанула','кампануть', 'скиммия', 'маттиола', 'глоксиния', 'суккулент', 'змееголовник', 'любисток', 'энотера', 'платикодон', 'левка', 'калоцефалус', 'адиантум', 'шалфей', 'гиностемма', 'альбук','валериана', 'новогодний', 'декоративный','комнатный','рассада','бакопа','бакоп','пеларгония','девичий','артемизия','циния','аргирантерум','цветущий','цинерания','нивянник','львиный','газание','петуния','каланхое','томата','герань','калибрахоа','бакопа','тагетис','капуста','роза','однолетний','многолетний','вербена','цветок','лобелия','эвкалипт','фуксия','флокс','фиалка','цикламен','примула','циперус','овсянница','подарочный','лен','ранункулус','афеляндр','искусственный','пряный','импатиенс','каллун','хризолидокарпус','пуансетия', 'смолевка'],'для дома':['коврик','подвесной','сервировочный','нетканый','муляж','штора','скатерть','полки','полк','карниз','холодный','салфетка','сидение','ковер','плед','подставка','этажерка','урна-пепельница','махровый','покрывало','полотенце','комод','наматрицник-чехол','простыня','подголовник','ткань','одеяло','стеллаж','петля-стрела','полка','ковёр','подушка','сверло-фреза','сверло-фреза,','простынь','кольцо','махровый','наматрацник','уголок','ключница','лестница','фоторамка','халат','двуспальный','наволочка','ванна','пододеяльник','решетка','светильник','ручка-скоба','фарфоровый','штангенциркуль','обувница-3','шпингалет','сверло-фреза','сверло','ручка','складной','готовый'], 'хозтовары':['средство','сметка','стяжки','бельевой','тряпкодержатель','модульный','комплект','многофункциональный','измерительный','ароматизированный','универсальный','ополаскиватель','сменная','сменный','концентрат','линейка,','фал','гипоаллергенный','запасный','вкладыш','рассекатель','складной','пьезозажигалка','покрытие','защитный','зубной','кофр','паста','шнур','настенный','стяжка','отбеливатель','держатель','подрукавник','ведро','корыто','жестяной','крючок','коробка','штанга', 'рукав','петля','плечики','вешалка-плечики','мыло','ящик','крепеж','шило','завертка','пробка','мешок','пружина','бензин','шпагат','ролик','фиксатор-шар','вакуумный','основание','настольный','антинакипин','антижир','стремянка','чистящий','чистить','стиральный','пена','мыло-скраб','мыло-скраб','бальзам','увлажнять','сушилка','гладильный','таз','вешалка','корзина','щетка','ёрш','лестница-стремянка','швабра','подкладка','перчатка','стремянки','щетка-сметка','окномойка','насадка','веник','вешалки','вешалка-стойка','урна','скребок','совок','наматрасник','наматрасник-чехол','мусорный','дозатор','стремянка-табурет','вантуз','короб','насадка-моп','сетка','ерш','щетка-утюжок','вешалка-перекладина','вешалка-сушилка','мыльница','тряпка','насадка-отжим','отжим','прищепки','прищепок','веревка','щётка','чехол','бак','корзинка','губка','жидкий'],'техника':['весы','термометр','миксер','овощеварка','соковарка','автоматический','кондиционер','электроштопор','утюг','пылесос','соковыжималка','фен','кипятильник','мантоварка','мантоварка-пароварка'], 'посуда':['тарелка','стеклянный','чайная','столовая','чайный','измельчитель','универсальный','чайник','салатник','защитный','шприц','форма','кухонные','рыбочистка','столовый','кисточка','лопатка','набор','скалка','банка','овощечистка','кружка','контейнер','просеиватель','нож','сковорода','термокружка','термокружок','ложка','вилка','кастрюля','кувшин','стакан','блюдо','доска','терка','термос','кухонный','емкость','отделитель','хлебница','миска','блюдце','tepмокружка','лоток','ковш','разделочный','тортница','толкушка','термостакан','сахарница','мини-сковорода','половник','бидон','крышка','салфетница','ваза','бульонница','мерный','сито','котел','масленка','картофелемялка','сотейник','ножеточка','противень','венчик','пресс']}"
   ]
  },
  {
   "cell_type": "markdown",
   "metadata": {},
   "source": [
    "Для разделения продуктов на категории в названии были выделены 1 и 2 слова, а также была проведена лемматизация. Распределение по категориям в основном происходило по переменной *product1* (ниже) с помощью выделения часто повторяющихся значений и распределением на категории по объединяющим признакам. "
   ]
  },
  {
   "cell_type": "code",
   "execution_count": 20,
   "metadata": {},
   "outputs": [
    {
     "name": "stderr",
     "output_type": "stream",
     "text": [
      "Installing mystem to /Users/elizavetasergeeva/.local/bin/mystem from http://download.cdn.yandex.net/mystem/mystem-3.0-macosx10.8.tar.gz\n"
     ]
    }
   ],
   "source": [
    "m = Mystem()\n",
    "def lemmas1(row):\n",
    "    lemmas= m.lemmatize(row)\n",
    "    return ''.join(lemmas)\n",
    "ecom['product1']=ecom['product_1'].apply(lemmas1)"
   ]
  },
  {
   "cell_type": "code",
   "execution_count": 21,
   "metadata": {},
   "outputs": [],
   "source": [
    "ecom.replace(u'\\n',u'', regex=True, inplace=True)"
   ]
  },
  {
   "cell_type": "code",
   "execution_count": 22,
   "metadata": {},
   "outputs": [
    {
     "data": {
      "text/html": [
       "<div>\n",
       "<style scoped>\n",
       "    .dataframe tbody tr th:only-of-type {\n",
       "        vertical-align: middle;\n",
       "    }\n",
       "\n",
       "    .dataframe tbody tr th {\n",
       "        vertical-align: top;\n",
       "    }\n",
       "\n",
       "    .dataframe thead th {\n",
       "        text-align: right;\n",
       "    }\n",
       "</style>\n",
       "<table border=\"1\" class=\"dataframe\">\n",
       "  <thead>\n",
       "    <tr style=\"text-align: right;\">\n",
       "      <th></th>\n",
       "      <th>date</th>\n",
       "      <th>customer_id</th>\n",
       "      <th>order_id</th>\n",
       "      <th>product</th>\n",
       "      <th>quantity</th>\n",
       "      <th>price</th>\n",
       "      <th>date_day</th>\n",
       "      <th>product_2</th>\n",
       "      <th>product_1</th>\n",
       "      <th>product1</th>\n",
       "    </tr>\n",
       "  </thead>\n",
       "  <tbody>\n",
       "    <tr>\n",
       "      <th>0</th>\n",
       "      <td>2018-10-01 00:00:00</td>\n",
       "      <td>ee47d746-6d2f-4d3c-9622-c31412542920</td>\n",
       "      <td>68477</td>\n",
       "      <td>комнатное растение в горшке алое вера, d12, h30</td>\n",
       "      <td>1</td>\n",
       "      <td>142.0</td>\n",
       "      <td>2018-10-01</td>\n",
       "      <td>комнатное растение</td>\n",
       "      <td>комнатное</td>\n",
       "      <td>комнатный</td>\n",
       "    </tr>\n",
       "    <tr>\n",
       "      <th>1</th>\n",
       "      <td>2018-10-01 00:00:00</td>\n",
       "      <td>ee47d746-6d2f-4d3c-9622-c31412542920</td>\n",
       "      <td>68477</td>\n",
       "      <td>комнатное растение в горшке кофе арабика, d12,...</td>\n",
       "      <td>1</td>\n",
       "      <td>194.0</td>\n",
       "      <td>2018-10-01</td>\n",
       "      <td>комнатное растение</td>\n",
       "      <td>комнатное</td>\n",
       "      <td>комнатный</td>\n",
       "    </tr>\n",
       "    <tr>\n",
       "      <th>2</th>\n",
       "      <td>2018-10-01 00:00:00</td>\n",
       "      <td>ee47d746-6d2f-4d3c-9622-c31412542920</td>\n",
       "      <td>68477</td>\n",
       "      <td>радермахера d-12 см h-20 см</td>\n",
       "      <td>1</td>\n",
       "      <td>112.0</td>\n",
       "      <td>2018-10-01</td>\n",
       "      <td>радермахера d-12</td>\n",
       "      <td>радермахера</td>\n",
       "      <td>радермахер</td>\n",
       "    </tr>\n",
       "    <tr>\n",
       "      <th>3</th>\n",
       "      <td>2018-10-01 00:00:00</td>\n",
       "      <td>ee47d746-6d2f-4d3c-9622-c31412542920</td>\n",
       "      <td>68477</td>\n",
       "      <td>хризолидокарпус лутесценс d-9 см</td>\n",
       "      <td>1</td>\n",
       "      <td>179.0</td>\n",
       "      <td>2018-10-01</td>\n",
       "      <td>хризолидокарпус лутесценс</td>\n",
       "      <td>хризолидокарпус</td>\n",
       "      <td>хризолидокарпус</td>\n",
       "    </tr>\n",
       "    <tr>\n",
       "      <th>4</th>\n",
       "      <td>2018-10-01 00:00:00</td>\n",
       "      <td>ee47d746-6d2f-4d3c-9622-c31412542920</td>\n",
       "      <td>68477</td>\n",
       "      <td>циперус зумула d-12 см h-25 см</td>\n",
       "      <td>1</td>\n",
       "      <td>112.0</td>\n",
       "      <td>2018-10-01</td>\n",
       "      <td>циперус зумула</td>\n",
       "      <td>циперус</td>\n",
       "      <td>циперус</td>\n",
       "    </tr>\n",
       "    <tr>\n",
       "      <th>...</th>\n",
       "      <td>...</td>\n",
       "      <td>...</td>\n",
       "      <td>...</td>\n",
       "      <td>...</td>\n",
       "      <td>...</td>\n",
       "      <td>...</td>\n",
       "      <td>...</td>\n",
       "      <td>...</td>\n",
       "      <td>...</td>\n",
       "      <td>...</td>\n",
       "    </tr>\n",
       "    <tr>\n",
       "      <th>6731</th>\n",
       "      <td>2019-10-31 11:00:00</td>\n",
       "      <td>f17ed857-178e-45e1-a662-0a9dd3b58c5f</td>\n",
       "      <td>73155</td>\n",
       "      <td>мимоза стыдливая d-9 см</td>\n",
       "      <td>1</td>\n",
       "      <td>329.0</td>\n",
       "      <td>2019-10-31</td>\n",
       "      <td>мимоза стыдливая</td>\n",
       "      <td>мимоза</td>\n",
       "      <td>мимоза</td>\n",
       "    </tr>\n",
       "    <tr>\n",
       "      <th>6732</th>\n",
       "      <td>2019-10-31 11:00:00</td>\n",
       "      <td>73d1cd35-5e5f-4629-8cf2-3fda829d4e58</td>\n",
       "      <td>73156</td>\n",
       "      <td>таз пластмассовый 40,0 л пищевой овальный (иж)...</td>\n",
       "      <td>1</td>\n",
       "      <td>404.0</td>\n",
       "      <td>2019-10-31</td>\n",
       "      <td>таз пластмассовый</td>\n",
       "      <td>таз</td>\n",
       "      <td>таз</td>\n",
       "    </tr>\n",
       "    <tr>\n",
       "      <th>6733</th>\n",
       "      <td>2019-10-31 12:00:00</td>\n",
       "      <td>1f0a7f35-7459-4f23-b468-5e45bf481dd1</td>\n",
       "      <td>73158</td>\n",
       "      <td>сумка-тележка 2-х колесная gimi argo синяя</td>\n",
       "      <td>1</td>\n",
       "      <td>1087.0</td>\n",
       "      <td>2019-10-31</td>\n",
       "      <td>сумка-тележка 2-х</td>\n",
       "      <td>сумка-тележка</td>\n",
       "      <td>сумка-тележка</td>\n",
       "    </tr>\n",
       "    <tr>\n",
       "      <th>6734</th>\n",
       "      <td>2019-10-31 13:00:00</td>\n",
       "      <td>25df96a7-c453-4708-9cea-a3dfc7c342ea</td>\n",
       "      <td>73162</td>\n",
       "      <td>герань домашняя (пеларгония зональная) цветуща...</td>\n",
       "      <td>1</td>\n",
       "      <td>157.0</td>\n",
       "      <td>2019-10-31</td>\n",
       "      <td>герань домашняя</td>\n",
       "      <td>герань</td>\n",
       "      <td>герань</td>\n",
       "    </tr>\n",
       "    <tr>\n",
       "      <th>6735</th>\n",
       "      <td>2019-10-31 14:00:00</td>\n",
       "      <td>73d1cd35-5e5f-4629-8cf2-3fda829d4e58</td>\n",
       "      <td>73164</td>\n",
       "      <td>таз пластмассовый со стиральной доской (иж), 1...</td>\n",
       "      <td>1</td>\n",
       "      <td>397.0</td>\n",
       "      <td>2019-10-31</td>\n",
       "      <td>таз пластмассовый</td>\n",
       "      <td>таз</td>\n",
       "      <td>таз</td>\n",
       "    </tr>\n",
       "  </tbody>\n",
       "</table>\n",
       "<p>4824 rows × 10 columns</p>\n",
       "</div>"
      ],
      "text/plain": [
       "                    date                           customer_id  order_id  \\\n",
       "0    2018-10-01 00:00:00  ee47d746-6d2f-4d3c-9622-c31412542920     68477   \n",
       "1    2018-10-01 00:00:00  ee47d746-6d2f-4d3c-9622-c31412542920     68477   \n",
       "2    2018-10-01 00:00:00  ee47d746-6d2f-4d3c-9622-c31412542920     68477   \n",
       "3    2018-10-01 00:00:00  ee47d746-6d2f-4d3c-9622-c31412542920     68477   \n",
       "4    2018-10-01 00:00:00  ee47d746-6d2f-4d3c-9622-c31412542920     68477   \n",
       "...                  ...                                   ...       ...   \n",
       "6731 2019-10-31 11:00:00  f17ed857-178e-45e1-a662-0a9dd3b58c5f     73155   \n",
       "6732 2019-10-31 11:00:00  73d1cd35-5e5f-4629-8cf2-3fda829d4e58     73156   \n",
       "6733 2019-10-31 12:00:00  1f0a7f35-7459-4f23-b468-5e45bf481dd1     73158   \n",
       "6734 2019-10-31 13:00:00  25df96a7-c453-4708-9cea-a3dfc7c342ea     73162   \n",
       "6735 2019-10-31 14:00:00  73d1cd35-5e5f-4629-8cf2-3fda829d4e58     73164   \n",
       "\n",
       "                                                product  quantity   price  \\\n",
       "0       комнатное растение в горшке алое вера, d12, h30         1   142.0   \n",
       "1     комнатное растение в горшке кофе арабика, d12,...         1   194.0   \n",
       "2                           радермахера d-12 см h-20 см         1   112.0   \n",
       "3                      хризолидокарпус лутесценс d-9 см         1   179.0   \n",
       "4                        циперус зумула d-12 см h-25 см         1   112.0   \n",
       "...                                                 ...       ...     ...   \n",
       "6731                            мимоза стыдливая d-9 см         1   329.0   \n",
       "6732  таз пластмассовый 40,0 л пищевой овальный (иж)...         1   404.0   \n",
       "6733         сумка-тележка 2-х колесная gimi argo синяя         1  1087.0   \n",
       "6734  герань домашняя (пеларгония зональная) цветуща...         1   157.0   \n",
       "6735  таз пластмассовый со стиральной доской (иж), 1...         1   397.0   \n",
       "\n",
       "        date_day                  product_2        product_1         product1  \n",
       "0     2018-10-01         комнатное растение        комнатное        комнатный  \n",
       "1     2018-10-01         комнатное растение        комнатное        комнатный  \n",
       "2     2018-10-01           радермахера d-12      радермахера       радермахер  \n",
       "3     2018-10-01  хризолидокарпус лутесценс  хризолидокарпус  хризолидокарпус  \n",
       "4     2018-10-01             циперус зумула          циперус          циперус  \n",
       "...          ...                        ...              ...              ...  \n",
       "6731  2019-10-31           мимоза стыдливая           мимоза           мимоза  \n",
       "6732  2019-10-31          таз пластмассовый              таз              таз  \n",
       "6733  2019-10-31          сумка-тележка 2-х    сумка-тележка    сумка-тележка  \n",
       "6734  2019-10-31            герань домашняя           герань           герань  \n",
       "6735  2019-10-31          таз пластмассовый              таз              таз  \n",
       "\n",
       "[4824 rows x 10 columns]"
      ]
     },
     "execution_count": 22,
     "metadata": {},
     "output_type": "execute_result"
    }
   ],
   "source": [
    "ecom"
   ]
  },
  {
   "cell_type": "code",
   "execution_count": 23,
   "metadata": {},
   "outputs": [],
   "source": [
    "def get_key(val):\n",
    "    for key, value in myDict.items():\n",
    "        if val in value:\n",
    "            return key\n",
    "ecom['category'] = ecom['product1'].apply(get_key)"
   ]
  },
  {
   "cell_type": "code",
   "execution_count": 24,
   "metadata": {},
   "outputs": [
    {
     "data": {
      "text/html": [
       "<div>\n",
       "<style scoped>\n",
       "    .dataframe tbody tr th:only-of-type {\n",
       "        vertical-align: middle;\n",
       "    }\n",
       "\n",
       "    .dataframe tbody tr th {\n",
       "        vertical-align: top;\n",
       "    }\n",
       "\n",
       "    .dataframe thead th {\n",
       "        text-align: right;\n",
       "    }\n",
       "</style>\n",
       "<table border=\"1\" class=\"dataframe\">\n",
       "  <thead>\n",
       "    <tr style=\"text-align: right;\">\n",
       "      <th></th>\n",
       "      <th>date</th>\n",
       "      <th>customer_id</th>\n",
       "      <th>order_id</th>\n",
       "      <th>product</th>\n",
       "      <th>quantity</th>\n",
       "      <th>price</th>\n",
       "      <th>date_day</th>\n",
       "      <th>product_2</th>\n",
       "      <th>product_1</th>\n",
       "      <th>product1</th>\n",
       "      <th>category</th>\n",
       "    </tr>\n",
       "  </thead>\n",
       "  <tbody>\n",
       "    <tr>\n",
       "      <th>0</th>\n",
       "      <td>2018-10-01 00:00:00</td>\n",
       "      <td>ee47d746-6d2f-4d3c-9622-c31412542920</td>\n",
       "      <td>68477</td>\n",
       "      <td>комнатное растение в горшке алое вера, d12, h30</td>\n",
       "      <td>1</td>\n",
       "      <td>142.0</td>\n",
       "      <td>2018-10-01</td>\n",
       "      <td>комнатное растение</td>\n",
       "      <td>комнатное</td>\n",
       "      <td>комнатный</td>\n",
       "      <td>растение</td>\n",
       "    </tr>\n",
       "    <tr>\n",
       "      <th>1</th>\n",
       "      <td>2018-10-01 00:00:00</td>\n",
       "      <td>ee47d746-6d2f-4d3c-9622-c31412542920</td>\n",
       "      <td>68477</td>\n",
       "      <td>комнатное растение в горшке кофе арабика, d12,...</td>\n",
       "      <td>1</td>\n",
       "      <td>194.0</td>\n",
       "      <td>2018-10-01</td>\n",
       "      <td>комнатное растение</td>\n",
       "      <td>комнатное</td>\n",
       "      <td>комнатный</td>\n",
       "      <td>растение</td>\n",
       "    </tr>\n",
       "    <tr>\n",
       "      <th>2</th>\n",
       "      <td>2018-10-01 00:00:00</td>\n",
       "      <td>ee47d746-6d2f-4d3c-9622-c31412542920</td>\n",
       "      <td>68477</td>\n",
       "      <td>радермахера d-12 см h-20 см</td>\n",
       "      <td>1</td>\n",
       "      <td>112.0</td>\n",
       "      <td>2018-10-01</td>\n",
       "      <td>радермахера d-12</td>\n",
       "      <td>радермахера</td>\n",
       "      <td>радермахер</td>\n",
       "      <td>растение</td>\n",
       "    </tr>\n",
       "    <tr>\n",
       "      <th>3</th>\n",
       "      <td>2018-10-01 00:00:00</td>\n",
       "      <td>ee47d746-6d2f-4d3c-9622-c31412542920</td>\n",
       "      <td>68477</td>\n",
       "      <td>хризолидокарпус лутесценс d-9 см</td>\n",
       "      <td>1</td>\n",
       "      <td>179.0</td>\n",
       "      <td>2018-10-01</td>\n",
       "      <td>хризолидокарпус лутесценс</td>\n",
       "      <td>хризолидокарпус</td>\n",
       "      <td>хризолидокарпус</td>\n",
       "      <td>растение</td>\n",
       "    </tr>\n",
       "    <tr>\n",
       "      <th>4</th>\n",
       "      <td>2018-10-01 00:00:00</td>\n",
       "      <td>ee47d746-6d2f-4d3c-9622-c31412542920</td>\n",
       "      <td>68477</td>\n",
       "      <td>циперус зумула d-12 см h-25 см</td>\n",
       "      <td>1</td>\n",
       "      <td>112.0</td>\n",
       "      <td>2018-10-01</td>\n",
       "      <td>циперус зумула</td>\n",
       "      <td>циперус</td>\n",
       "      <td>циперус</td>\n",
       "      <td>растение</td>\n",
       "    </tr>\n",
       "    <tr>\n",
       "      <th>...</th>\n",
       "      <td>...</td>\n",
       "      <td>...</td>\n",
       "      <td>...</td>\n",
       "      <td>...</td>\n",
       "      <td>...</td>\n",
       "      <td>...</td>\n",
       "      <td>...</td>\n",
       "      <td>...</td>\n",
       "      <td>...</td>\n",
       "      <td>...</td>\n",
       "      <td>...</td>\n",
       "    </tr>\n",
       "    <tr>\n",
       "      <th>6731</th>\n",
       "      <td>2019-10-31 11:00:00</td>\n",
       "      <td>f17ed857-178e-45e1-a662-0a9dd3b58c5f</td>\n",
       "      <td>73155</td>\n",
       "      <td>мимоза стыдливая d-9 см</td>\n",
       "      <td>1</td>\n",
       "      <td>329.0</td>\n",
       "      <td>2019-10-31</td>\n",
       "      <td>мимоза стыдливая</td>\n",
       "      <td>мимоза</td>\n",
       "      <td>мимоза</td>\n",
       "      <td>растение</td>\n",
       "    </tr>\n",
       "    <tr>\n",
       "      <th>6732</th>\n",
       "      <td>2019-10-31 11:00:00</td>\n",
       "      <td>73d1cd35-5e5f-4629-8cf2-3fda829d4e58</td>\n",
       "      <td>73156</td>\n",
       "      <td>таз пластмассовый 40,0 л пищевой овальный (иж)...</td>\n",
       "      <td>1</td>\n",
       "      <td>404.0</td>\n",
       "      <td>2019-10-31</td>\n",
       "      <td>таз пластмассовый</td>\n",
       "      <td>таз</td>\n",
       "      <td>таз</td>\n",
       "      <td>хозтовары</td>\n",
       "    </tr>\n",
       "    <tr>\n",
       "      <th>6733</th>\n",
       "      <td>2019-10-31 12:00:00</td>\n",
       "      <td>1f0a7f35-7459-4f23-b468-5e45bf481dd1</td>\n",
       "      <td>73158</td>\n",
       "      <td>сумка-тележка 2-х колесная gimi argo синяя</td>\n",
       "      <td>1</td>\n",
       "      <td>1087.0</td>\n",
       "      <td>2019-10-31</td>\n",
       "      <td>сумка-тележка 2-х</td>\n",
       "      <td>сумка-тележка</td>\n",
       "      <td>сумка-тележка</td>\n",
       "      <td>сумки</td>\n",
       "    </tr>\n",
       "    <tr>\n",
       "      <th>6734</th>\n",
       "      <td>2019-10-31 13:00:00</td>\n",
       "      <td>25df96a7-c453-4708-9cea-a3dfc7c342ea</td>\n",
       "      <td>73162</td>\n",
       "      <td>герань домашняя (пеларгония зональная) цветуща...</td>\n",
       "      <td>1</td>\n",
       "      <td>157.0</td>\n",
       "      <td>2019-10-31</td>\n",
       "      <td>герань домашняя</td>\n",
       "      <td>герань</td>\n",
       "      <td>герань</td>\n",
       "      <td>растение</td>\n",
       "    </tr>\n",
       "    <tr>\n",
       "      <th>6735</th>\n",
       "      <td>2019-10-31 14:00:00</td>\n",
       "      <td>73d1cd35-5e5f-4629-8cf2-3fda829d4e58</td>\n",
       "      <td>73164</td>\n",
       "      <td>таз пластмассовый со стиральной доской (иж), 1...</td>\n",
       "      <td>1</td>\n",
       "      <td>397.0</td>\n",
       "      <td>2019-10-31</td>\n",
       "      <td>таз пластмассовый</td>\n",
       "      <td>таз</td>\n",
       "      <td>таз</td>\n",
       "      <td>хозтовары</td>\n",
       "    </tr>\n",
       "  </tbody>\n",
       "</table>\n",
       "<p>4824 rows × 11 columns</p>\n",
       "</div>"
      ],
      "text/plain": [
       "                    date                           customer_id  order_id  \\\n",
       "0    2018-10-01 00:00:00  ee47d746-6d2f-4d3c-9622-c31412542920     68477   \n",
       "1    2018-10-01 00:00:00  ee47d746-6d2f-4d3c-9622-c31412542920     68477   \n",
       "2    2018-10-01 00:00:00  ee47d746-6d2f-4d3c-9622-c31412542920     68477   \n",
       "3    2018-10-01 00:00:00  ee47d746-6d2f-4d3c-9622-c31412542920     68477   \n",
       "4    2018-10-01 00:00:00  ee47d746-6d2f-4d3c-9622-c31412542920     68477   \n",
       "...                  ...                                   ...       ...   \n",
       "6731 2019-10-31 11:00:00  f17ed857-178e-45e1-a662-0a9dd3b58c5f     73155   \n",
       "6732 2019-10-31 11:00:00  73d1cd35-5e5f-4629-8cf2-3fda829d4e58     73156   \n",
       "6733 2019-10-31 12:00:00  1f0a7f35-7459-4f23-b468-5e45bf481dd1     73158   \n",
       "6734 2019-10-31 13:00:00  25df96a7-c453-4708-9cea-a3dfc7c342ea     73162   \n",
       "6735 2019-10-31 14:00:00  73d1cd35-5e5f-4629-8cf2-3fda829d4e58     73164   \n",
       "\n",
       "                                                product  quantity   price  \\\n",
       "0       комнатное растение в горшке алое вера, d12, h30         1   142.0   \n",
       "1     комнатное растение в горшке кофе арабика, d12,...         1   194.0   \n",
       "2                           радермахера d-12 см h-20 см         1   112.0   \n",
       "3                      хризолидокарпус лутесценс d-9 см         1   179.0   \n",
       "4                        циперус зумула d-12 см h-25 см         1   112.0   \n",
       "...                                                 ...       ...     ...   \n",
       "6731                            мимоза стыдливая d-9 см         1   329.0   \n",
       "6732  таз пластмассовый 40,0 л пищевой овальный (иж)...         1   404.0   \n",
       "6733         сумка-тележка 2-х колесная gimi argo синяя         1  1087.0   \n",
       "6734  герань домашняя (пеларгония зональная) цветуща...         1   157.0   \n",
       "6735  таз пластмассовый со стиральной доской (иж), 1...         1   397.0   \n",
       "\n",
       "        date_day                  product_2        product_1         product1  \\\n",
       "0     2018-10-01         комнатное растение        комнатное        комнатный   \n",
       "1     2018-10-01         комнатное растение        комнатное        комнатный   \n",
       "2     2018-10-01           радермахера d-12      радермахера       радермахер   \n",
       "3     2018-10-01  хризолидокарпус лутесценс  хризолидокарпус  хризолидокарпус   \n",
       "4     2018-10-01             циперус зумула          циперус          циперус   \n",
       "...          ...                        ...              ...              ...   \n",
       "6731  2019-10-31           мимоза стыдливая           мимоза           мимоза   \n",
       "6732  2019-10-31          таз пластмассовый              таз              таз   \n",
       "6733  2019-10-31          сумка-тележка 2-х    сумка-тележка    сумка-тележка   \n",
       "6734  2019-10-31            герань домашняя           герань           герань   \n",
       "6735  2019-10-31          таз пластмассовый              таз              таз   \n",
       "\n",
       "       category  \n",
       "0      растение  \n",
       "1      растение  \n",
       "2      растение  \n",
       "3      растение  \n",
       "4      растение  \n",
       "...         ...  \n",
       "6731   растение  \n",
       "6732  хозтовары  \n",
       "6733      сумки  \n",
       "6734   растение  \n",
       "6735  хозтовары  \n",
       "\n",
       "[4824 rows x 11 columns]"
      ]
     },
     "execution_count": 24,
     "metadata": {},
     "output_type": "execute_result"
    }
   ],
   "source": [
    "ecom"
   ]
  },
  {
   "cell_type": "markdown",
   "metadata": {},
   "source": [
    "###   Вывод"
   ]
  },
  {
   "cell_type": "markdown",
   "metadata": {},
   "source": [
    "Таким образом, в данных отсустсвуют пропущенные значения, но присутствовало 1913 дубликатов. Товары разделены на 6 категорий - растения, хозтовары, товары для дома, посуда, сумки, техника."
   ]
  },
  {
   "cell_type": "markdown",
   "metadata": {},
   "source": [
    "## Исследовательский анализ данных"
   ]
  },
  {
   "cell_type": "code",
   "execution_count": 25,
   "metadata": {},
   "outputs": [
    {
     "name": "stderr",
     "output_type": "stream",
     "text": [
      "<ipython-input-25-5ad0ae6bab4a>:1: FutureWarning: Treating datetime data as categorical rather than numeric in `.describe` is deprecated and will be removed in a future version of pandas. Specify `datetime_is_numeric=True` to silence this warning and adopt the future behavior now.\n",
      "  ecom['date'].describe()\n"
     ]
    },
    {
     "data": {
      "text/plain": [
       "count                    4824\n",
       "unique                   2264\n",
       "top       2019-04-27 16:00:00\n",
       "freq                       51\n",
       "first     2018-10-01 00:00:00\n",
       "last      2019-10-31 14:00:00\n",
       "Name: date, dtype: object"
      ]
     },
     "execution_count": 25,
     "metadata": {},
     "output_type": "execute_result"
    }
   ],
   "source": [
    "ecom['date'].describe()"
   ]
  },
  {
   "cell_type": "markdown",
   "metadata": {},
   "source": [
    "Данные собраны с 1 октября 2018 по 31 октября 2019 года."
   ]
  },
  {
   "cell_type": "markdown",
   "metadata": {},
   "source": [
    "### Как менялись продажи по месяцам?"
   ]
  },
  {
   "cell_type": "code",
   "execution_count": 26,
   "metadata": {},
   "outputs": [],
   "source": [
    "ecom['month']=ecom['date'].dt.strftime('%Y-%m')"
   ]
  },
  {
   "cell_type": "code",
   "execution_count": 27,
   "metadata": {},
   "outputs": [
    {
     "data": {
      "text/html": [
       "<div>\n",
       "<style scoped>\n",
       "    .dataframe tbody tr th:only-of-type {\n",
       "        vertical-align: middle;\n",
       "    }\n",
       "\n",
       "    .dataframe tbody tr th {\n",
       "        vertical-align: top;\n",
       "    }\n",
       "\n",
       "    .dataframe thead th {\n",
       "        text-align: right;\n",
       "    }\n",
       "</style>\n",
       "<table border=\"1\" class=\"dataframe\">\n",
       "  <thead>\n",
       "    <tr style=\"text-align: right;\">\n",
       "      <th></th>\n",
       "      <th>date</th>\n",
       "      <th>customer_id</th>\n",
       "      <th>order_id</th>\n",
       "      <th>product</th>\n",
       "      <th>quantity</th>\n",
       "      <th>price</th>\n",
       "      <th>date_day</th>\n",
       "      <th>product_2</th>\n",
       "      <th>product_1</th>\n",
       "      <th>product1</th>\n",
       "      <th>category</th>\n",
       "      <th>month</th>\n",
       "    </tr>\n",
       "  </thead>\n",
       "  <tbody>\n",
       "    <tr>\n",
       "      <th>0</th>\n",
       "      <td>2018-10-01 00:00:00</td>\n",
       "      <td>ee47d746-6d2f-4d3c-9622-c31412542920</td>\n",
       "      <td>68477</td>\n",
       "      <td>комнатное растение в горшке алое вера, d12, h30</td>\n",
       "      <td>1</td>\n",
       "      <td>142.0</td>\n",
       "      <td>2018-10-01</td>\n",
       "      <td>комнатное растение</td>\n",
       "      <td>комнатное</td>\n",
       "      <td>комнатный</td>\n",
       "      <td>растение</td>\n",
       "      <td>2018-10</td>\n",
       "    </tr>\n",
       "    <tr>\n",
       "      <th>1</th>\n",
       "      <td>2018-10-01 00:00:00</td>\n",
       "      <td>ee47d746-6d2f-4d3c-9622-c31412542920</td>\n",
       "      <td>68477</td>\n",
       "      <td>комнатное растение в горшке кофе арабика, d12,...</td>\n",
       "      <td>1</td>\n",
       "      <td>194.0</td>\n",
       "      <td>2018-10-01</td>\n",
       "      <td>комнатное растение</td>\n",
       "      <td>комнатное</td>\n",
       "      <td>комнатный</td>\n",
       "      <td>растение</td>\n",
       "      <td>2018-10</td>\n",
       "    </tr>\n",
       "    <tr>\n",
       "      <th>2</th>\n",
       "      <td>2018-10-01 00:00:00</td>\n",
       "      <td>ee47d746-6d2f-4d3c-9622-c31412542920</td>\n",
       "      <td>68477</td>\n",
       "      <td>радермахера d-12 см h-20 см</td>\n",
       "      <td>1</td>\n",
       "      <td>112.0</td>\n",
       "      <td>2018-10-01</td>\n",
       "      <td>радермахера d-12</td>\n",
       "      <td>радермахера</td>\n",
       "      <td>радермахер</td>\n",
       "      <td>растение</td>\n",
       "      <td>2018-10</td>\n",
       "    </tr>\n",
       "    <tr>\n",
       "      <th>3</th>\n",
       "      <td>2018-10-01 00:00:00</td>\n",
       "      <td>ee47d746-6d2f-4d3c-9622-c31412542920</td>\n",
       "      <td>68477</td>\n",
       "      <td>хризолидокарпус лутесценс d-9 см</td>\n",
       "      <td>1</td>\n",
       "      <td>179.0</td>\n",
       "      <td>2018-10-01</td>\n",
       "      <td>хризолидокарпус лутесценс</td>\n",
       "      <td>хризолидокарпус</td>\n",
       "      <td>хризолидокарпус</td>\n",
       "      <td>растение</td>\n",
       "      <td>2018-10</td>\n",
       "    </tr>\n",
       "    <tr>\n",
       "      <th>4</th>\n",
       "      <td>2018-10-01 00:00:00</td>\n",
       "      <td>ee47d746-6d2f-4d3c-9622-c31412542920</td>\n",
       "      <td>68477</td>\n",
       "      <td>циперус зумула d-12 см h-25 см</td>\n",
       "      <td>1</td>\n",
       "      <td>112.0</td>\n",
       "      <td>2018-10-01</td>\n",
       "      <td>циперус зумула</td>\n",
       "      <td>циперус</td>\n",
       "      <td>циперус</td>\n",
       "      <td>растение</td>\n",
       "      <td>2018-10</td>\n",
       "    </tr>\n",
       "    <tr>\n",
       "      <th>...</th>\n",
       "      <td>...</td>\n",
       "      <td>...</td>\n",
       "      <td>...</td>\n",
       "      <td>...</td>\n",
       "      <td>...</td>\n",
       "      <td>...</td>\n",
       "      <td>...</td>\n",
       "      <td>...</td>\n",
       "      <td>...</td>\n",
       "      <td>...</td>\n",
       "      <td>...</td>\n",
       "      <td>...</td>\n",
       "    </tr>\n",
       "    <tr>\n",
       "      <th>6731</th>\n",
       "      <td>2019-10-31 11:00:00</td>\n",
       "      <td>f17ed857-178e-45e1-a662-0a9dd3b58c5f</td>\n",
       "      <td>73155</td>\n",
       "      <td>мимоза стыдливая d-9 см</td>\n",
       "      <td>1</td>\n",
       "      <td>329.0</td>\n",
       "      <td>2019-10-31</td>\n",
       "      <td>мимоза стыдливая</td>\n",
       "      <td>мимоза</td>\n",
       "      <td>мимоза</td>\n",
       "      <td>растение</td>\n",
       "      <td>2019-10</td>\n",
       "    </tr>\n",
       "    <tr>\n",
       "      <th>6732</th>\n",
       "      <td>2019-10-31 11:00:00</td>\n",
       "      <td>73d1cd35-5e5f-4629-8cf2-3fda829d4e58</td>\n",
       "      <td>73156</td>\n",
       "      <td>таз пластмассовый 40,0 л пищевой овальный (иж)...</td>\n",
       "      <td>1</td>\n",
       "      <td>404.0</td>\n",
       "      <td>2019-10-31</td>\n",
       "      <td>таз пластмассовый</td>\n",
       "      <td>таз</td>\n",
       "      <td>таз</td>\n",
       "      <td>хозтовары</td>\n",
       "      <td>2019-10</td>\n",
       "    </tr>\n",
       "    <tr>\n",
       "      <th>6733</th>\n",
       "      <td>2019-10-31 12:00:00</td>\n",
       "      <td>1f0a7f35-7459-4f23-b468-5e45bf481dd1</td>\n",
       "      <td>73158</td>\n",
       "      <td>сумка-тележка 2-х колесная gimi argo синяя</td>\n",
       "      <td>1</td>\n",
       "      <td>1087.0</td>\n",
       "      <td>2019-10-31</td>\n",
       "      <td>сумка-тележка 2-х</td>\n",
       "      <td>сумка-тележка</td>\n",
       "      <td>сумка-тележка</td>\n",
       "      <td>сумки</td>\n",
       "      <td>2019-10</td>\n",
       "    </tr>\n",
       "    <tr>\n",
       "      <th>6734</th>\n",
       "      <td>2019-10-31 13:00:00</td>\n",
       "      <td>25df96a7-c453-4708-9cea-a3dfc7c342ea</td>\n",
       "      <td>73162</td>\n",
       "      <td>герань домашняя (пеларгония зональная) цветуща...</td>\n",
       "      <td>1</td>\n",
       "      <td>157.0</td>\n",
       "      <td>2019-10-31</td>\n",
       "      <td>герань домашняя</td>\n",
       "      <td>герань</td>\n",
       "      <td>герань</td>\n",
       "      <td>растение</td>\n",
       "      <td>2019-10</td>\n",
       "    </tr>\n",
       "    <tr>\n",
       "      <th>6735</th>\n",
       "      <td>2019-10-31 14:00:00</td>\n",
       "      <td>73d1cd35-5e5f-4629-8cf2-3fda829d4e58</td>\n",
       "      <td>73164</td>\n",
       "      <td>таз пластмассовый со стиральной доской (иж), 1...</td>\n",
       "      <td>1</td>\n",
       "      <td>397.0</td>\n",
       "      <td>2019-10-31</td>\n",
       "      <td>таз пластмассовый</td>\n",
       "      <td>таз</td>\n",
       "      <td>таз</td>\n",
       "      <td>хозтовары</td>\n",
       "      <td>2019-10</td>\n",
       "    </tr>\n",
       "  </tbody>\n",
       "</table>\n",
       "<p>4824 rows × 12 columns</p>\n",
       "</div>"
      ],
      "text/plain": [
       "                    date                           customer_id  order_id  \\\n",
       "0    2018-10-01 00:00:00  ee47d746-6d2f-4d3c-9622-c31412542920     68477   \n",
       "1    2018-10-01 00:00:00  ee47d746-6d2f-4d3c-9622-c31412542920     68477   \n",
       "2    2018-10-01 00:00:00  ee47d746-6d2f-4d3c-9622-c31412542920     68477   \n",
       "3    2018-10-01 00:00:00  ee47d746-6d2f-4d3c-9622-c31412542920     68477   \n",
       "4    2018-10-01 00:00:00  ee47d746-6d2f-4d3c-9622-c31412542920     68477   \n",
       "...                  ...                                   ...       ...   \n",
       "6731 2019-10-31 11:00:00  f17ed857-178e-45e1-a662-0a9dd3b58c5f     73155   \n",
       "6732 2019-10-31 11:00:00  73d1cd35-5e5f-4629-8cf2-3fda829d4e58     73156   \n",
       "6733 2019-10-31 12:00:00  1f0a7f35-7459-4f23-b468-5e45bf481dd1     73158   \n",
       "6734 2019-10-31 13:00:00  25df96a7-c453-4708-9cea-a3dfc7c342ea     73162   \n",
       "6735 2019-10-31 14:00:00  73d1cd35-5e5f-4629-8cf2-3fda829d4e58     73164   \n",
       "\n",
       "                                                product  quantity   price  \\\n",
       "0       комнатное растение в горшке алое вера, d12, h30         1   142.0   \n",
       "1     комнатное растение в горшке кофе арабика, d12,...         1   194.0   \n",
       "2                           радермахера d-12 см h-20 см         1   112.0   \n",
       "3                      хризолидокарпус лутесценс d-9 см         1   179.0   \n",
       "4                        циперус зумула d-12 см h-25 см         1   112.0   \n",
       "...                                                 ...       ...     ...   \n",
       "6731                            мимоза стыдливая d-9 см         1   329.0   \n",
       "6732  таз пластмассовый 40,0 л пищевой овальный (иж)...         1   404.0   \n",
       "6733         сумка-тележка 2-х колесная gimi argo синяя         1  1087.0   \n",
       "6734  герань домашняя (пеларгония зональная) цветуща...         1   157.0   \n",
       "6735  таз пластмассовый со стиральной доской (иж), 1...         1   397.0   \n",
       "\n",
       "        date_day                  product_2        product_1         product1  \\\n",
       "0     2018-10-01         комнатное растение        комнатное        комнатный   \n",
       "1     2018-10-01         комнатное растение        комнатное        комнатный   \n",
       "2     2018-10-01           радермахера d-12      радермахера       радермахер   \n",
       "3     2018-10-01  хризолидокарпус лутесценс  хризолидокарпус  хризолидокарпус   \n",
       "4     2018-10-01             циперус зумула          циперус          циперус   \n",
       "...          ...                        ...              ...              ...   \n",
       "6731  2019-10-31           мимоза стыдливая           мимоза           мимоза   \n",
       "6732  2019-10-31          таз пластмассовый              таз              таз   \n",
       "6733  2019-10-31          сумка-тележка 2-х    сумка-тележка    сумка-тележка   \n",
       "6734  2019-10-31            герань домашняя           герань           герань   \n",
       "6735  2019-10-31          таз пластмассовый              таз              таз   \n",
       "\n",
       "       category    month  \n",
       "0      растение  2018-10  \n",
       "1      растение  2018-10  \n",
       "2      растение  2018-10  \n",
       "3      растение  2018-10  \n",
       "4      растение  2018-10  \n",
       "...         ...      ...  \n",
       "6731   растение  2019-10  \n",
       "6732  хозтовары  2019-10  \n",
       "6733      сумки  2019-10  \n",
       "6734   растение  2019-10  \n",
       "6735  хозтовары  2019-10  \n",
       "\n",
       "[4824 rows x 12 columns]"
      ]
     },
     "execution_count": 27,
     "metadata": {},
     "output_type": "execute_result"
    }
   ],
   "source": [
    "ecom"
   ]
  },
  {
   "cell_type": "code",
   "execution_count": 28,
   "metadata": {},
   "outputs": [],
   "source": [
    "ecom['revenue']=ecom['price']*ecom['quantity']"
   ]
  },
  {
   "cell_type": "code",
   "execution_count": 29,
   "metadata": {},
   "outputs": [
    {
     "data": {
      "text/plain": [
       "Text(0, 0.5, 'Выручка по месяцам')"
      ]
     },
     "execution_count": 29,
     "metadata": {},
     "output_type": "execute_result"
    },
    {
     "data": {
      "image/png": "[encoded data removed]",
      "text/plain": [
       "<Figure size 1152x432 with 1 Axes>"
      ]
     },
     "metadata": {
      "needs_background": "light"
     },
     "output_type": "display_data"
    }
   ],
   "source": [
    "plt.figure(figsize=(16, 6))\n",
    "plt.title('Продажи по месяцам')\n",
    "sns.lineplot(data=ecom.pivot_table(index='month',values='revenue',aggfunc='sum'))\n",
    "plt.xlabel(\"Месяц\")\n",
    "plt.ylabel(\"Выручка по месяцам\")"
   ]
  },
  {
   "cell_type": "markdown",
   "metadata": {},
   "source": [
    "Можно заметить, что выручка была на одном уровне с октября 2018 по май 2019 года, в июне 2019 года наблюдается пик, затем произошло снижение."
   ]
  },
  {
   "cell_type": "markdown",
   "metadata": {},
   "source": [
    "Рассмотрим в чем причина пика выручки в июне месяце.  "
   ]
  },
  {
   "cell_type": "code",
   "execution_count": 30,
   "metadata": {},
   "outputs": [
    {
     "data": {
      "text/html": [
       "<div>\n",
       "<style scoped>\n",
       "    .dataframe tbody tr th:only-of-type {\n",
       "        vertical-align: middle;\n",
       "    }\n",
       "\n",
       "    .dataframe tbody tr th {\n",
       "        vertical-align: top;\n",
       "    }\n",
       "\n",
       "    .dataframe thead th {\n",
       "        text-align: right;\n",
       "    }\n",
       "</style>\n",
       "<table border=\"1\" class=\"dataframe\">\n",
       "  <thead>\n",
       "    <tr style=\"text-align: right;\">\n",
       "      <th></th>\n",
       "      <th>price</th>\n",
       "      <th>quantity</th>\n",
       "      <th>revenue</th>\n",
       "    </tr>\n",
       "    <tr>\n",
       "      <th>month</th>\n",
       "      <th></th>\n",
       "      <th></th>\n",
       "      <th></th>\n",
       "    </tr>\n",
       "  </thead>\n",
       "  <tbody>\n",
       "    <tr>\n",
       "      <th>2018-10</th>\n",
       "      <td>267255.0</td>\n",
       "      <td>1654</td>\n",
       "      <td>354541.0</td>\n",
       "    </tr>\n",
       "    <tr>\n",
       "      <th>2018-11</th>\n",
       "      <td>233261.0</td>\n",
       "      <td>1247</td>\n",
       "      <td>363237.0</td>\n",
       "    </tr>\n",
       "    <tr>\n",
       "      <th>2018-12</th>\n",
       "      <td>277589.0</td>\n",
       "      <td>1043</td>\n",
       "      <td>370341.0</td>\n",
       "    </tr>\n",
       "    <tr>\n",
       "      <th>2019-01</th>\n",
       "      <td>134066.0</td>\n",
       "      <td>612</td>\n",
       "      <td>237681.0</td>\n",
       "    </tr>\n",
       "    <tr>\n",
       "      <th>2019-02</th>\n",
       "      <td>230914.0</td>\n",
       "      <td>972</td>\n",
       "      <td>318369.0</td>\n",
       "    </tr>\n",
       "    <tr>\n",
       "      <th>2019-03</th>\n",
       "      <td>213538.0</td>\n",
       "      <td>1100</td>\n",
       "      <td>266893.0</td>\n",
       "    </tr>\n",
       "    <tr>\n",
       "      <th>2019-04</th>\n",
       "      <td>221849.0</td>\n",
       "      <td>1488</td>\n",
       "      <td>319226.0</td>\n",
       "    </tr>\n",
       "    <tr>\n",
       "      <th>2019-05</th>\n",
       "      <td>165953.0</td>\n",
       "      <td>1525</td>\n",
       "      <td>237959.0</td>\n",
       "    </tr>\n",
       "    <tr>\n",
       "      <th>2019-06</th>\n",
       "      <td>133882.0</td>\n",
       "      <td>1936</td>\n",
       "      <td>910184.0</td>\n",
       "    </tr>\n",
       "    <tr>\n",
       "      <th>2019-07</th>\n",
       "      <td>193294.0</td>\n",
       "      <td>545</td>\n",
       "      <td>243485.0</td>\n",
       "    </tr>\n",
       "    <tr>\n",
       "      <th>2019-08</th>\n",
       "      <td>157247.0</td>\n",
       "      <td>373</td>\n",
       "      <td>176776.0</td>\n",
       "    </tr>\n",
       "    <tr>\n",
       "      <th>2019-09</th>\n",
       "      <td>147694.0</td>\n",
       "      <td>517</td>\n",
       "      <td>185440.0</td>\n",
       "    </tr>\n",
       "    <tr>\n",
       "      <th>2019-10</th>\n",
       "      <td>171971.0</td>\n",
       "      <td>847</td>\n",
       "      <td>216453.0</td>\n",
       "    </tr>\n",
       "  </tbody>\n",
       "</table>\n",
       "</div>"
      ],
      "text/plain": [
       "            price  quantity   revenue\n",
       "month                                \n",
       "2018-10  267255.0      1654  354541.0\n",
       "2018-11  233261.0      1247  363237.0\n",
       "2018-12  277589.0      1043  370341.0\n",
       "2019-01  134066.0       612  237681.0\n",
       "2019-02  230914.0       972  318369.0\n",
       "2019-03  213538.0      1100  266893.0\n",
       "2019-04  221849.0      1488  319226.0\n",
       "2019-05  165953.0      1525  237959.0\n",
       "2019-06  133882.0      1936  910184.0\n",
       "2019-07  193294.0       545  243485.0\n",
       "2019-08  157247.0       373  176776.0\n",
       "2019-09  147694.0       517  185440.0\n",
       "2019-10  171971.0       847  216453.0"
      ]
     },
     "execution_count": 30,
     "metadata": {},
     "output_type": "execute_result"
    }
   ],
   "source": [
    "ecom.pivot_table(index='month',values=['revenue','price','quantity'],aggfunc='sum')"
   ]
  },
  {
   "cell_type": "code",
   "execution_count": 31,
   "metadata": {},
   "outputs": [
    {
     "data": {
      "text/html": [
       "<div>\n",
       "<style scoped>\n",
       "    .dataframe tbody tr th:only-of-type {\n",
       "        vertical-align: middle;\n",
       "    }\n",
       "\n",
       "    .dataframe tbody tr th {\n",
       "        vertical-align: top;\n",
       "    }\n",
       "\n",
       "    .dataframe thead th {\n",
       "        text-align: right;\n",
       "    }\n",
       "</style>\n",
       "<table border=\"1\" class=\"dataframe\">\n",
       "  <thead>\n",
       "    <tr style=\"text-align: right;\">\n",
       "      <th></th>\n",
       "      <th>date</th>\n",
       "      <th>customer_id</th>\n",
       "      <th>order_id</th>\n",
       "      <th>product</th>\n",
       "      <th>quantity</th>\n",
       "      <th>price</th>\n",
       "      <th>date_day</th>\n",
       "      <th>product_2</th>\n",
       "      <th>product_1</th>\n",
       "      <th>product1</th>\n",
       "      <th>category</th>\n",
       "      <th>month</th>\n",
       "      <th>revenue</th>\n",
       "    </tr>\n",
       "  </thead>\n",
       "  <tbody>\n",
       "    <tr>\n",
       "      <th>5456</th>\n",
       "      <td>2019-06-18 15:00:00</td>\n",
       "      <td>312e9a3e-5fca-43ff-a6a1-892d2b2d5ba6</td>\n",
       "      <td>71743</td>\n",
       "      <td>вантуз с деревянной ручкой d14 см красный, bur...</td>\n",
       "      <td>1000</td>\n",
       "      <td>675.0</td>\n",
       "      <td>2019-06-18</td>\n",
       "      <td>вантуз с</td>\n",
       "      <td>вантуз</td>\n",
       "      <td>вантуз</td>\n",
       "      <td>хозтовары</td>\n",
       "      <td>2019-06</td>\n",
       "      <td>675000.0</td>\n",
       "    </tr>\n",
       "    <tr>\n",
       "      <th>5071</th>\n",
       "      <td>2019-06-11 07:00:00</td>\n",
       "      <td>146cd9bf-a95c-4afb-915b-5f6684b17444</td>\n",
       "      <td>71668</td>\n",
       "      <td>вешалки мягкие для деликатных вещей 3 шт шоколад</td>\n",
       "      <td>334</td>\n",
       "      <td>148.0</td>\n",
       "      <td>2019-06-11</td>\n",
       "      <td>вешалки мягкие</td>\n",
       "      <td>вешалки</td>\n",
       "      <td>вешалка</td>\n",
       "      <td>хозтовары</td>\n",
       "      <td>2019-06</td>\n",
       "      <td>49432.0</td>\n",
       "    </tr>\n",
       "    <tr>\n",
       "      <th>5591</th>\n",
       "      <td>2019-06-25 21:00:00</td>\n",
       "      <td>72df1c3c-6efc-45c5-9b12-5a48935a48a4</td>\n",
       "      <td>71802</td>\n",
       "      <td>петля приварная гаражная d 14х90 мм с шаром, 1...</td>\n",
       "      <td>40</td>\n",
       "      <td>38.0</td>\n",
       "      <td>2019-06-25</td>\n",
       "      <td>петля приварная</td>\n",
       "      <td>петля</td>\n",
       "      <td>петля</td>\n",
       "      <td>хозтовары</td>\n",
       "      <td>2019-06</td>\n",
       "      <td>1520.0</td>\n",
       "    </tr>\n",
       "    <tr>\n",
       "      <th>5517</th>\n",
       "      <td>2019-06-21 21:00:00</td>\n",
       "      <td>0e117bc7-82df-474f-a5db-0c50f16701f1</td>\n",
       "      <td>71770</td>\n",
       "      <td>муляж банан желтый 21 см полиуретан</td>\n",
       "      <td>25</td>\n",
       "      <td>51.0</td>\n",
       "      <td>2019-06-21</td>\n",
       "      <td>муляж банан</td>\n",
       "      <td>муляж</td>\n",
       "      <td>муляж</td>\n",
       "      <td>для дома</td>\n",
       "      <td>2019-06</td>\n",
       "      <td>1275.0</td>\n",
       "    </tr>\n",
       "    <tr>\n",
       "      <th>4674</th>\n",
       "      <td>2019-06-06 07:00:00</td>\n",
       "      <td>6cc2b353-7824-4f48-b0a5-c44f6e2a4fb7</td>\n",
       "      <td>71623</td>\n",
       "      <td>коврик противоскользящий пузырьки 70х38 см про...</td>\n",
       "      <td>20</td>\n",
       "      <td>202.0</td>\n",
       "      <td>2019-06-06</td>\n",
       "      <td>коврик противоскользящий</td>\n",
       "      <td>коврик</td>\n",
       "      <td>коврик</td>\n",
       "      <td>для дома</td>\n",
       "      <td>2019-06</td>\n",
       "      <td>4040.0</td>\n",
       "    </tr>\n",
       "    <tr>\n",
       "      <th>...</th>\n",
       "      <td>...</td>\n",
       "      <td>...</td>\n",
       "      <td>...</td>\n",
       "      <td>...</td>\n",
       "      <td>...</td>\n",
       "      <td>...</td>\n",
       "      <td>...</td>\n",
       "      <td>...</td>\n",
       "      <td>...</td>\n",
       "      <td>...</td>\n",
       "      <td>...</td>\n",
       "      <td>...</td>\n",
       "      <td>...</td>\n",
       "    </tr>\n",
       "    <tr>\n",
       "      <th>4730</th>\n",
       "      <td>2019-06-06 16:00:00</td>\n",
       "      <td>6a86cc77-ef15-496f-b5d3-89005597ee5d</td>\n",
       "      <td>14856</td>\n",
       "      <td>бадан сердцелистный красная звезда красный объ...</td>\n",
       "      <td>1</td>\n",
       "      <td>150.0</td>\n",
       "      <td>2019-06-06</td>\n",
       "      <td>бадан сердцелистный</td>\n",
       "      <td>бадан</td>\n",
       "      <td>бадан</td>\n",
       "      <td>растение</td>\n",
       "      <td>2019-06</td>\n",
       "      <td>150.0</td>\n",
       "    </tr>\n",
       "    <tr>\n",
       "      <th>4736</th>\n",
       "      <td>2019-06-06 16:00:00</td>\n",
       "      <td>6a86cc77-ef15-496f-b5d3-89005597ee5d</td>\n",
       "      <td>14856</td>\n",
       "      <td>ясколка войлочная белая объем 0,5 л</td>\n",
       "      <td>1</td>\n",
       "      <td>97.0</td>\n",
       "      <td>2019-06-06</td>\n",
       "      <td>ясколка войлочная</td>\n",
       "      <td>ясколка</td>\n",
       "      <td>ясколка</td>\n",
       "      <td>растение</td>\n",
       "      <td>2019-06</td>\n",
       "      <td>97.0</td>\n",
       "    </tr>\n",
       "    <tr>\n",
       "      <th>4737</th>\n",
       "      <td>2019-06-06 16:00:00</td>\n",
       "      <td>b837c95c-727b-4d78-a608-263228da67cd</td>\n",
       "      <td>71630</td>\n",
       "      <td>мята махито japanosche mojito minze d-7 см h-1...</td>\n",
       "      <td>1</td>\n",
       "      <td>74.0</td>\n",
       "      <td>2019-06-06</td>\n",
       "      <td>мята махито</td>\n",
       "      <td>мята</td>\n",
       "      <td>мята</td>\n",
       "      <td>растение</td>\n",
       "      <td>2019-06</td>\n",
       "      <td>74.0</td>\n",
       "    </tr>\n",
       "    <tr>\n",
       "      <th>4738</th>\n",
       "      <td>2019-06-06 18:00:00</td>\n",
       "      <td>09bcc3d0-8134-4f00-8ea5-b74b55d766ad</td>\n",
       "      <td>71633</td>\n",
       "      <td>стремянка scab balzo 762 5 ступеней алюминиева...</td>\n",
       "      <td>1</td>\n",
       "      <td>5549.0</td>\n",
       "      <td>2019-06-06</td>\n",
       "      <td>стремянка scab</td>\n",
       "      <td>стремянка</td>\n",
       "      <td>стремянка</td>\n",
       "      <td>хозтовары</td>\n",
       "      <td>2019-06</td>\n",
       "      <td>5549.0</td>\n",
       "    </tr>\n",
       "    <tr>\n",
       "      <th>5607</th>\n",
       "      <td>2019-06-30 21:00:00</td>\n",
       "      <td>8a791fdb-4990-4d71-9547-9045bbc51d2b</td>\n",
       "      <td>71834</td>\n",
       "      <td>сиденье в ванну раздвижное, белый, св5, ника</td>\n",
       "      <td>1</td>\n",
       "      <td>374.0</td>\n",
       "      <td>2019-06-30</td>\n",
       "      <td>сиденье в</td>\n",
       "      <td>сиденье</td>\n",
       "      <td>сидение</td>\n",
       "      <td>для дома</td>\n",
       "      <td>2019-06</td>\n",
       "      <td>374.0</td>\n",
       "    </tr>\n",
       "  </tbody>\n",
       "</table>\n",
       "<p>300 rows × 13 columns</p>\n",
       "</div>"
      ],
      "text/plain": [
       "                    date                           customer_id  order_id  \\\n",
       "5456 2019-06-18 15:00:00  312e9a3e-5fca-43ff-a6a1-892d2b2d5ba6     71743   \n",
       "5071 2019-06-11 07:00:00  146cd9bf-a95c-4afb-915b-5f6684b17444     71668   \n",
       "5591 2019-06-25 21:00:00  72df1c3c-6efc-45c5-9b12-5a48935a48a4     71802   \n",
       "5517 2019-06-21 21:00:00  0e117bc7-82df-474f-a5db-0c50f16701f1     71770   \n",
       "4674 2019-06-06 07:00:00  6cc2b353-7824-4f48-b0a5-c44f6e2a4fb7     71623   \n",
       "...                  ...                                   ...       ...   \n",
       "4730 2019-06-06 16:00:00  6a86cc77-ef15-496f-b5d3-89005597ee5d     14856   \n",
       "4736 2019-06-06 16:00:00  6a86cc77-ef15-496f-b5d3-89005597ee5d     14856   \n",
       "4737 2019-06-06 16:00:00  b837c95c-727b-4d78-a608-263228da67cd     71630   \n",
       "4738 2019-06-06 18:00:00  09bcc3d0-8134-4f00-8ea5-b74b55d766ad     71633   \n",
       "5607 2019-06-30 21:00:00  8a791fdb-4990-4d71-9547-9045bbc51d2b     71834   \n",
       "\n",
       "                                                product  quantity   price  \\\n",
       "5456  вантуз с деревянной ручкой d14 см красный, bur...      1000   675.0   \n",
       "5071   вешалки мягкие для деликатных вещей 3 шт шоколад       334   148.0   \n",
       "5591  петля приварная гаражная d 14х90 мм с шаром, 1...        40    38.0   \n",
       "5517                муляж банан желтый 21 см полиуретан        25    51.0   \n",
       "4674  коврик противоскользящий пузырьки 70х38 см про...        20   202.0   \n",
       "...                                                 ...       ...     ...   \n",
       "4730  бадан сердцелистный красная звезда красный объ...         1   150.0   \n",
       "4736                ясколка войлочная белая объем 0,5 л         1    97.0   \n",
       "4737  мята махито japanosche mojito minze d-7 см h-1...         1    74.0   \n",
       "4738  стремянка scab balzo 762 5 ступеней алюминиева...         1  5549.0   \n",
       "5607       сиденье в ванну раздвижное, белый, св5, ника         1   374.0   \n",
       "\n",
       "        date_day                 product_2  product_1   product1   category  \\\n",
       "5456  2019-06-18                  вантуз с     вантуз     вантуз  хозтовары   \n",
       "5071  2019-06-11            вешалки мягкие    вешалки    вешалка  хозтовары   \n",
       "5591  2019-06-25           петля приварная      петля      петля  хозтовары   \n",
       "5517  2019-06-21               муляж банан      муляж      муляж   для дома   \n",
       "4674  2019-06-06  коврик противоскользящий     коврик     коврик   для дома   \n",
       "...          ...                       ...        ...        ...        ...   \n",
       "4730  2019-06-06       бадан сердцелистный      бадан      бадан   растение   \n",
       "4736  2019-06-06         ясколка войлочная    ясколка    ясколка   растение   \n",
       "4737  2019-06-06               мята махито       мята       мята   растение   \n",
       "4738  2019-06-06            стремянка scab  стремянка  стремянка  хозтовары   \n",
       "5607  2019-06-30                 сиденье в    сиденье    сидение   для дома   \n",
       "\n",
       "        month   revenue  \n",
       "5456  2019-06  675000.0  \n",
       "5071  2019-06   49432.0  \n",
       "5591  2019-06    1520.0  \n",
       "5517  2019-06    1275.0  \n",
       "4674  2019-06    4040.0  \n",
       "...       ...       ...  \n",
       "4730  2019-06     150.0  \n",
       "4736  2019-06      97.0  \n",
       "4737  2019-06      74.0  \n",
       "4738  2019-06    5549.0  \n",
       "5607  2019-06     374.0  \n",
       "\n",
       "[300 rows x 13 columns]"
      ]
     },
     "execution_count": 31,
     "metadata": {},
     "output_type": "execute_result"
    }
   ],
   "source": [
    "ecom[ecom['month']=='2019-06'].sort_values('quantity',ascending=False)"
   ]
  },
  {
   "cell_type": "markdown",
   "metadata": {},
   "source": [
    "В июне был сделан заказ на самое большое количество позиций в заказе за весь наблюдаемый период. Это был единственный предмет в заказе у данного пользователя и единственный заказ этого пользователя. Поэтому можно считать данный номер заказа выбросом и не будем учитывать при гипотезах."
   ]
  },
  {
   "cell_type": "markdown",
   "metadata": {},
   "source": [
    "Построим график без учета данного выброса"
   ]
  },
  {
   "cell_type": "code",
   "execution_count": 32,
   "metadata": {},
   "outputs": [
    {
     "data": {
      "text/plain": [
       "Text(0, 0.5, 'Выручка по месяцам')"
      ]
     },
     "execution_count": 32,
     "metadata": {},
     "output_type": "execute_result"
    },
    {
     "data": {
      "image/png": "[encoded data removed]",
      "text/plain": [
       "<Figure size 1152x432 with 1 Axes>"
      ]
     },
     "metadata": {
      "needs_background": "light"
     },
     "output_type": "display_data"
    }
   ],
   "source": [
    "plt.figure(figsize=(16, 6))\n",
    "plt.title('Продажи по месяцам')\n",
    "sns.lineplot(data=ecom[ecom['order_id'] !=71743].pivot_table(index='month',values='revenue',aggfunc='sum'))\n",
    "plt.xlabel(\"Месяц\")\n",
    "plt.ylabel(\"Выручка по месяцам\")"
   ]
  },
  {
   "cell_type": "markdown",
   "metadata": {},
   "source": [
    "В августе  2019 года наблюдается самое низкое значение, затем в сентябре-октябре выручка начинает расти. "
   ]
  },
  {
   "cell_type": "markdown",
   "metadata": {},
   "source": [
    "### Сколько уникальных товаров было приобретено?"
   ]
  },
  {
   "cell_type": "code",
   "execution_count": 33,
   "metadata": {},
   "outputs": [
    {
     "data": {
      "text/plain": [
       "2305"
      ]
     },
     "execution_count": 33,
     "metadata": {},
     "output_type": "execute_result"
    }
   ],
   "source": [
    "len(ecom['product'].unique())"
   ]
  },
  {
   "cell_type": "markdown",
   "metadata": {},
   "source": [
    "Всего за весь период купали 2305 уникальных товаров."
   ]
  },
  {
   "cell_type": "markdown",
   "metadata": {},
   "source": [
    "### Какие товары наиболее популярные?"
   ]
  },
  {
   "cell_type": "code",
   "execution_count": 34,
   "metadata": {},
   "outputs": [
    {
     "data": {
      "text/plain": [
       "пеларгония       704\n",
       "рассада          454\n",
       "сушилка          277\n",
       "сумка-тележка    245\n",
       "муляж            167\n",
       "                ... \n",
       "мускари            1\n",
       "лестница           1\n",
       "кольца             1\n",
       "ваза               1\n",
       "готовая            1\n",
       "Name: product_1, Length: 458, dtype: int64"
      ]
     },
     "execution_count": 34,
     "metadata": {},
     "output_type": "execute_result"
    }
   ],
   "source": [
    "ecom['product_1'].value_counts()"
   ]
  },
  {
   "cell_type": "markdown",
   "metadata": {},
   "source": [
    "Среди всех категорий наиболее популярные товары - пеларгония,рассада, сушилка, сумка-тележка,муляж."
   ]
  },
  {
   "cell_type": "markdown",
   "metadata": {},
   "source": [
    "### Какое количество товаров в среднем заказывают покупатели? "
   ]
  },
  {
   "cell_type": "code",
   "execution_count": 35,
   "metadata": {},
   "outputs": [
    {
     "data": {
      "text/plain": [
       "count    4823.000000\n",
       "mean        2.666183\n",
       "std        10.350880\n",
       "min         1.000000\n",
       "25%         1.000000\n",
       "50%         1.000000\n",
       "75%         1.000000\n",
       "max       334.000000\n",
       "Name: quantity, dtype: float64"
      ]
     },
     "execution_count": 35,
     "metadata": {},
     "output_type": "execute_result"
    }
   ],
   "source": [
    "ecom[ecom['quantity']!=1000]['quantity'].describe()"
   ]
  },
  {
   "cell_type": "markdown",
   "metadata": {},
   "source": [
    "В среднем один товар пользователи заказывают 2,7 раз."
   ]
  },
  {
   "cell_type": "markdown",
   "metadata": {},
   "source": [
    "### Какой средний чек? "
   ]
  },
  {
   "cell_type": "code",
   "execution_count": 36,
   "metadata": {},
   "outputs": [
    {
     "data": {
      "text/html": [
       "<div>\n",
       "<style scoped>\n",
       "    .dataframe tbody tr th:only-of-type {\n",
       "        vertical-align: middle;\n",
       "    }\n",
       "\n",
       "    .dataframe tbody tr th {\n",
       "        vertical-align: top;\n",
       "    }\n",
       "\n",
       "    .dataframe thead th {\n",
       "        text-align: right;\n",
       "    }\n",
       "</style>\n",
       "<table border=\"1\" class=\"dataframe\">\n",
       "  <thead>\n",
       "    <tr style=\"text-align: right;\">\n",
       "      <th></th>\n",
       "      <th>revenue</th>\n",
       "    </tr>\n",
       "    <tr>\n",
       "      <th>order_id</th>\n",
       "      <th></th>\n",
       "    </tr>\n",
       "  </thead>\n",
       "  <tbody>\n",
       "    <tr>\n",
       "      <th>12624</th>\n",
       "      <td>375.0</td>\n",
       "    </tr>\n",
       "    <tr>\n",
       "      <th>13547</th>\n",
       "      <td>684.0</td>\n",
       "    </tr>\n",
       "    <tr>\n",
       "      <th>14480</th>\n",
       "      <td>359.0</td>\n",
       "    </tr>\n",
       "    <tr>\n",
       "      <th>14481</th>\n",
       "      <td>600.0</td>\n",
       "    </tr>\n",
       "    <tr>\n",
       "      <th>14482</th>\n",
       "      <td>376.0</td>\n",
       "    </tr>\n",
       "    <tr>\n",
       "      <th>...</th>\n",
       "      <td>...</td>\n",
       "    </tr>\n",
       "    <tr>\n",
       "      <th>73155</th>\n",
       "      <td>329.0</td>\n",
       "    </tr>\n",
       "    <tr>\n",
       "      <th>73156</th>\n",
       "      <td>404.0</td>\n",
       "    </tr>\n",
       "    <tr>\n",
       "      <th>73158</th>\n",
       "      <td>1087.0</td>\n",
       "    </tr>\n",
       "    <tr>\n",
       "      <th>73162</th>\n",
       "      <td>157.0</td>\n",
       "    </tr>\n",
       "    <tr>\n",
       "      <th>73164</th>\n",
       "      <td>397.0</td>\n",
       "    </tr>\n",
       "  </tbody>\n",
       "</table>\n",
       "<p>2784 rows × 1 columns</p>\n",
       "</div>"
      ],
      "text/plain": [
       "          revenue\n",
       "order_id         \n",
       "12624       375.0\n",
       "13547       684.0\n",
       "14480       359.0\n",
       "14481       600.0\n",
       "14482       376.0\n",
       "...           ...\n",
       "73155       329.0\n",
       "73156       404.0\n",
       "73158      1087.0\n",
       "73162       157.0\n",
       "73164       397.0\n",
       "\n",
       "[2784 rows x 1 columns]"
      ]
     },
     "metadata": {},
     "output_type": "display_data"
    }
   ],
   "source": [
    "m = ecom.pivot_table(index='order_id',values='revenue',aggfunc='sum')\n",
    "display(m)"
   ]
  },
  {
   "cell_type": "code",
   "execution_count": 37,
   "metadata": {},
   "outputs": [],
   "source": [
    "m1=m[m['revenue'] !=675000]"
   ]
  },
  {
   "cell_type": "code",
   "execution_count": 38,
   "metadata": {},
   "outputs": [
    {
     "data": {
      "text/plain": [
       "count      2784.000000\n",
       "mean       1508.830819\n",
       "std       12968.128690\n",
       "min          14.000000\n",
       "25%         298.000000\n",
       "50%         697.000000\n",
       "75%        1498.250000\n",
       "max      675000.000000\n",
       "Name: revenue, dtype: float64"
      ]
     },
     "execution_count": 38,
     "metadata": {},
     "output_type": "execute_result"
    }
   ],
   "source": [
    "m['revenue'].describe()"
   ]
  },
  {
   "cell_type": "code",
   "execution_count": 39,
   "metadata": {},
   "outputs": [
    {
     "data": {
      "text/plain": [
       "count     2783.000000\n",
       "mean      1266.828962\n",
       "std       2264.845710\n",
       "min         14.000000\n",
       "25%        298.000000\n",
       "50%        697.000000\n",
       "75%       1498.000000\n",
       "max      49432.000000\n",
       "Name: revenue, dtype: float64"
      ]
     },
     "execution_count": 39,
     "metadata": {},
     "output_type": "execute_result"
    }
   ],
   "source": [
    "m1['revenue'].describe()"
   ]
  },
  {
   "cell_type": "markdown",
   "metadata": {},
   "source": [
    "Средний чек заказа пользователя 1508 (без учета выброса 1266). Макисмальный чек 675000."
   ]
  },
  {
   "cell_type": "markdown",
   "metadata": {},
   "source": [
    "Посмотрим на распределение цены."
   ]
  },
  {
   "cell_type": "code",
   "execution_count": 40,
   "metadata": {},
   "outputs": [
    {
     "data": {
      "text/plain": [
       "Text(0.5, 0, 'Цена')"
      ]
     },
     "execution_count": 40,
     "metadata": {},
     "output_type": "execute_result"
    },
    {
     "data": {
      "image/png": "[encoded data removed]",
      "text/plain": [
       "<Figure size 720x360 with 1 Axes>"
      ]
     },
     "metadata": {
      "needs_background": "light"
     },
     "output_type": "display_data"
    }
   ],
   "source": [
    "plt.figure(figsize=(10,5))\n",
    "sns.boxplot(x=ecom['price'])\n",
    "plt.title('Boxplot по цене')\n",
    "plt.xlabel(\"Цена\")"
   ]
  },
  {
   "cell_type": "code",
   "execution_count": 41,
   "metadata": {},
   "outputs": [
    {
     "data": {
      "text/plain": [
       "count     4824.000000\n",
       "mean       528.298715\n",
       "std        954.427361\n",
       "min          9.000000\n",
       "25%         97.000000\n",
       "50%        150.000000\n",
       "75%        524.000000\n",
       "max      14917.000000\n",
       "Name: price, dtype: float64"
      ]
     },
     "execution_count": 41,
     "metadata": {},
     "output_type": "execute_result"
    }
   ],
   "source": [
    "ecom['price'].describe()"
   ]
  },
  {
   "cell_type": "code",
   "execution_count": 42,
   "metadata": {},
   "outputs": [
    {
     "data": {
      "text/plain": [
       "2249.0"
      ]
     },
     "execution_count": 42,
     "metadata": {},
     "output_type": "execute_result"
    }
   ],
   "source": [
    "ecom['price'].quantile(0.95)"
   ]
  },
  {
   "cell_type": "markdown",
   "metadata": {},
   "source": [
    "Максимальная цена на товар составляет 14917. 95% предметов находятся в цене до 2249."
   ]
  },
  {
   "cell_type": "code",
   "execution_count": 43,
   "metadata": {},
   "outputs": [
    {
     "data": {
      "text/html": [
       "<div>\n",
       "<style scoped>\n",
       "    .dataframe tbody tr th:only-of-type {\n",
       "        vertical-align: middle;\n",
       "    }\n",
       "\n",
       "    .dataframe tbody tr th {\n",
       "        vertical-align: top;\n",
       "    }\n",
       "\n",
       "    .dataframe thead th {\n",
       "        text-align: right;\n",
       "    }\n",
       "</style>\n",
       "<table border=\"1\" class=\"dataframe\">\n",
       "  <thead>\n",
       "    <tr style=\"text-align: right;\">\n",
       "      <th></th>\n",
       "      <th>date</th>\n",
       "      <th>customer_id</th>\n",
       "      <th>order_id</th>\n",
       "      <th>product</th>\n",
       "      <th>quantity</th>\n",
       "      <th>price</th>\n",
       "      <th>date_day</th>\n",
       "      <th>product_2</th>\n",
       "      <th>product_1</th>\n",
       "      <th>product1</th>\n",
       "      <th>category</th>\n",
       "      <th>month</th>\n",
       "      <th>revenue</th>\n",
       "    </tr>\n",
       "  </thead>\n",
       "  <tbody>\n",
       "    <tr>\n",
       "      <th>5992</th>\n",
       "      <td>2019-07-29 17:00:00</td>\n",
       "      <td>0d87f4ae-465a-4fac-81e6-5d629761783e</td>\n",
       "      <td>72139</td>\n",
       "      <td>сушилка уличная leifheit 85210 linomatic v 400...</td>\n",
       "      <td>1</td>\n",
       "      <td>14917.0</td>\n",
       "      <td>2019-07-29</td>\n",
       "      <td>сушилка уличная</td>\n",
       "      <td>сушилка</td>\n",
       "      <td>сушилка</td>\n",
       "      <td>хозтовары</td>\n",
       "      <td>2019-07</td>\n",
       "      <td>14917.0</td>\n",
       "    </tr>\n",
       "  </tbody>\n",
       "</table>\n",
       "</div>"
      ],
      "text/plain": [
       "                    date                           customer_id  order_id  \\\n",
       "5992 2019-07-29 17:00:00  0d87f4ae-465a-4fac-81e6-5d629761783e     72139   \n",
       "\n",
       "                                                product  quantity    price  \\\n",
       "5992  сушилка уличная leifheit 85210 linomatic v 400...         1  14917.0   \n",
       "\n",
       "        date_day        product_2 product_1 product1   category    month  \\\n",
       "5992  2019-07-29  сушилка уличная   сушилка  сушилка  хозтовары  2019-07   \n",
       "\n",
       "      revenue  \n",
       "5992  14917.0  "
      ]
     },
     "execution_count": 43,
     "metadata": {},
     "output_type": "execute_result"
    }
   ],
   "source": [
    "ecom[ecom['price']>10000]"
   ]
  },
  {
   "cell_type": "markdown",
   "metadata": {},
   "source": [
    "Самым дорогим предметом в заказе является уличная сушилка. "
   ]
  },
  {
   "cell_type": "code",
   "execution_count": 44,
   "metadata": {},
   "outputs": [
    {
     "data": {
      "text/html": [
       "<div>\n",
       "<style scoped>\n",
       "    .dataframe tbody tr th:only-of-type {\n",
       "        vertical-align: middle;\n",
       "    }\n",
       "\n",
       "    .dataframe tbody tr th {\n",
       "        vertical-align: top;\n",
       "    }\n",
       "\n",
       "    .dataframe thead th {\n",
       "        text-align: right;\n",
       "    }\n",
       "</style>\n",
       "<table border=\"1\" class=\"dataframe\">\n",
       "  <thead>\n",
       "    <tr style=\"text-align: right;\">\n",
       "      <th></th>\n",
       "      <th>date</th>\n",
       "      <th>customer_id</th>\n",
       "      <th>order_id</th>\n",
       "      <th>product</th>\n",
       "      <th>quantity</th>\n",
       "      <th>price</th>\n",
       "      <th>date_day</th>\n",
       "      <th>product_2</th>\n",
       "      <th>product_1</th>\n",
       "      <th>product1</th>\n",
       "      <th>category</th>\n",
       "      <th>month</th>\n",
       "      <th>revenue</th>\n",
       "    </tr>\n",
       "  </thead>\n",
       "  <tbody>\n",
       "    <tr>\n",
       "      <th>5456</th>\n",
       "      <td>2019-06-18 15:00:00</td>\n",
       "      <td>312e9a3e-5fca-43ff-a6a1-892d2b2d5ba6</td>\n",
       "      <td>71743</td>\n",
       "      <td>вантуз с деревянной ручкой d14 см красный, bur...</td>\n",
       "      <td>1000</td>\n",
       "      <td>675.0</td>\n",
       "      <td>2019-06-18</td>\n",
       "      <td>вантуз с</td>\n",
       "      <td>вантуз</td>\n",
       "      <td>вантуз</td>\n",
       "      <td>хозтовары</td>\n",
       "      <td>2019-06</td>\n",
       "      <td>675000.0</td>\n",
       "    </tr>\n",
       "    <tr>\n",
       "      <th>5071</th>\n",
       "      <td>2019-06-11 07:00:00</td>\n",
       "      <td>146cd9bf-a95c-4afb-915b-5f6684b17444</td>\n",
       "      <td>71668</td>\n",
       "      <td>вешалки мягкие для деликатных вещей 3 шт шоколад</td>\n",
       "      <td>334</td>\n",
       "      <td>148.0</td>\n",
       "      <td>2019-06-11</td>\n",
       "      <td>вешалки мягкие</td>\n",
       "      <td>вешалки</td>\n",
       "      <td>вешалка</td>\n",
       "      <td>хозтовары</td>\n",
       "      <td>2019-06</td>\n",
       "      <td>49432.0</td>\n",
       "    </tr>\n",
       "    <tr>\n",
       "      <th>3961</th>\n",
       "      <td>2019-05-20 21:00:00</td>\n",
       "      <td>5d189e88-d4d6-4eac-ab43-fa65a3c4d106</td>\n",
       "      <td>71478</td>\n",
       "      <td>муляж яблоко 9 см красное</td>\n",
       "      <td>300</td>\n",
       "      <td>51.0</td>\n",
       "      <td>2019-05-20</td>\n",
       "      <td>муляж яблоко</td>\n",
       "      <td>муляж</td>\n",
       "      <td>муляж</td>\n",
       "      <td>для дома</td>\n",
       "      <td>2019-05</td>\n",
       "      <td>15300.0</td>\n",
       "    </tr>\n",
       "    <tr>\n",
       "      <th>1158</th>\n",
       "      <td>2018-12-10 14:00:00</td>\n",
       "      <td>a984c5b7-ff7e-4647-b84e-ef0b85a2762d</td>\n",
       "      <td>69289</td>\n",
       "      <td>ручка-скоба рс-100 белая *трибатрон*, 1108035</td>\n",
       "      <td>200</td>\n",
       "      <td>29.0</td>\n",
       "      <td>2018-12-10</td>\n",
       "      <td>ручка-скоба рс-100</td>\n",
       "      <td>ручка-скоба</td>\n",
       "      <td>ручка-скоба</td>\n",
       "      <td>для дома</td>\n",
       "      <td>2018-12</td>\n",
       "      <td>5800.0</td>\n",
       "    </tr>\n",
       "    <tr>\n",
       "      <th>568</th>\n",
       "      <td>2018-11-01 08:00:00</td>\n",
       "      <td>aa42dc38-780f-4b50-9a65-83b6fa64e766</td>\n",
       "      <td>68815</td>\n",
       "      <td>муляж яблоко 9 см красное</td>\n",
       "      <td>170</td>\n",
       "      <td>51.0</td>\n",
       "      <td>2018-11-01</td>\n",
       "      <td>муляж яблоко</td>\n",
       "      <td>муляж</td>\n",
       "      <td>муляж</td>\n",
       "      <td>для дома</td>\n",
       "      <td>2018-11</td>\n",
       "      <td>8670.0</td>\n",
       "    </tr>\n",
       "    <tr>\n",
       "      <th>211</th>\n",
       "      <td>2018-10-11 14:00:00</td>\n",
       "      <td>cd09ea73-d9ce-48c3-b4c5-018113735e80</td>\n",
       "      <td>68611</td>\n",
       "      <td>крепеж для пружины дверной, 1107055</td>\n",
       "      <td>150</td>\n",
       "      <td>19.0</td>\n",
       "      <td>2018-10-11</td>\n",
       "      <td>крепеж для</td>\n",
       "      <td>крепеж</td>\n",
       "      <td>крепеж</td>\n",
       "      <td>хозтовары</td>\n",
       "      <td>2018-10</td>\n",
       "      <td>2850.0</td>\n",
       "    </tr>\n",
       "    <tr>\n",
       "      <th>212</th>\n",
       "      <td>2018-10-11 14:00:00</td>\n",
       "      <td>cd09ea73-d9ce-48c3-b4c5-018113735e80</td>\n",
       "      <td>68611</td>\n",
       "      <td>пружина дверная 240 мм оцинкованная (д-19 мм) ...</td>\n",
       "      <td>150</td>\n",
       "      <td>38.0</td>\n",
       "      <td>2018-10-11</td>\n",
       "      <td>пружина дверная</td>\n",
       "      <td>пружина</td>\n",
       "      <td>пружина</td>\n",
       "      <td>хозтовары</td>\n",
       "      <td>2018-10</td>\n",
       "      <td>5700.0</td>\n",
       "    </tr>\n",
       "    <tr>\n",
       "      <th>2431</th>\n",
       "      <td>2019-03-23 10:00:00</td>\n",
       "      <td>685d3d84-aebb-485b-8e59-344b3df8b3d3</td>\n",
       "      <td>70841</td>\n",
       "      <td>плечики пластмассовые размер 52 - 54 тула 1205158</td>\n",
       "      <td>150</td>\n",
       "      <td>20.0</td>\n",
       "      <td>2019-03-23</td>\n",
       "      <td>плечики пластмассовые</td>\n",
       "      <td>плечики</td>\n",
       "      <td>плечики</td>\n",
       "      <td>хозтовары</td>\n",
       "      <td>2019-03</td>\n",
       "      <td>3000.0</td>\n",
       "    </tr>\n",
       "    <tr>\n",
       "      <th>586</th>\n",
       "      <td>2018-11-02 11:00:00</td>\n",
       "      <td>0c5aaa88-e346-4f87-8f7a-ad8cbc04e965</td>\n",
       "      <td>68831</td>\n",
       "      <td>муляж яблоко 9 см красное</td>\n",
       "      <td>140</td>\n",
       "      <td>59.0</td>\n",
       "      <td>2018-11-02</td>\n",
       "      <td>муляж яблоко</td>\n",
       "      <td>муляж</td>\n",
       "      <td>муляж</td>\n",
       "      <td>для дома</td>\n",
       "      <td>2018-11</td>\n",
       "      <td>8260.0</td>\n",
       "    </tr>\n",
       "    <tr>\n",
       "      <th>1103</th>\n",
       "      <td>2018-12-04 17:00:00</td>\n",
       "      <td>7d255526-fcc2-4f79-b28a-217d7d2373a8</td>\n",
       "      <td>69206</td>\n",
       "      <td>щетка для посуды *оля*, мультипласт 1807010</td>\n",
       "      <td>100</td>\n",
       "      <td>26.0</td>\n",
       "      <td>2018-12-04</td>\n",
       "      <td>щетка для</td>\n",
       "      <td>щетка</td>\n",
       "      <td>щетка</td>\n",
       "      <td>хозтовары</td>\n",
       "      <td>2018-12</td>\n",
       "      <td>2600.0</td>\n",
       "    </tr>\n",
       "  </tbody>\n",
       "</table>\n",
       "</div>"
      ],
      "text/plain": [
       "                    date                           customer_id  order_id  \\\n",
       "5456 2019-06-18 15:00:00  312e9a3e-5fca-43ff-a6a1-892d2b2d5ba6     71743   \n",
       "5071 2019-06-11 07:00:00  146cd9bf-a95c-4afb-915b-5f6684b17444     71668   \n",
       "3961 2019-05-20 21:00:00  5d189e88-d4d6-4eac-ab43-fa65a3c4d106     71478   \n",
       "1158 2018-12-10 14:00:00  a984c5b7-ff7e-4647-b84e-ef0b85a2762d     69289   \n",
       "568  2018-11-01 08:00:00  aa42dc38-780f-4b50-9a65-83b6fa64e766     68815   \n",
       "211  2018-10-11 14:00:00  cd09ea73-d9ce-48c3-b4c5-018113735e80     68611   \n",
       "212  2018-10-11 14:00:00  cd09ea73-d9ce-48c3-b4c5-018113735e80     68611   \n",
       "2431 2019-03-23 10:00:00  685d3d84-aebb-485b-8e59-344b3df8b3d3     70841   \n",
       "586  2018-11-02 11:00:00  0c5aaa88-e346-4f87-8f7a-ad8cbc04e965     68831   \n",
       "1103 2018-12-04 17:00:00  7d255526-fcc2-4f79-b28a-217d7d2373a8     69206   \n",
       "\n",
       "                                                product  quantity  price  \\\n",
       "5456  вантуз с деревянной ручкой d14 см красный, bur...      1000  675.0   \n",
       "5071   вешалки мягкие для деликатных вещей 3 шт шоколад       334  148.0   \n",
       "3961                          муляж яблоко 9 см красное       300   51.0   \n",
       "1158      ручка-скоба рс-100 белая *трибатрон*, 1108035       200   29.0   \n",
       "568                           муляж яблоко 9 см красное       170   51.0   \n",
       "211                 крепеж для пружины дверной, 1107055       150   19.0   \n",
       "212   пружина дверная 240 мм оцинкованная (д-19 мм) ...       150   38.0   \n",
       "2431  плечики пластмассовые размер 52 - 54 тула 1205158       150   20.0   \n",
       "586                           муляж яблоко 9 см красное       140   59.0   \n",
       "1103        щетка для посуды *оля*, мультипласт 1807010       100   26.0   \n",
       "\n",
       "        date_day              product_2    product_1     product1   category  \\\n",
       "5456  2019-06-18               вантуз с       вантуз       вантуз  хозтовары   \n",
       "5071  2019-06-11         вешалки мягкие      вешалки      вешалка  хозтовары   \n",
       "3961  2019-05-20           муляж яблоко        муляж        муляж   для дома   \n",
       "1158  2018-12-10     ручка-скоба рс-100  ручка-скоба  ручка-скоба   для дома   \n",
       "568   2018-11-01           муляж яблоко        муляж        муляж   для дома   \n",
       "211   2018-10-11             крепеж для       крепеж       крепеж  хозтовары   \n",
       "212   2018-10-11        пружина дверная      пружина      пружина  хозтовары   \n",
       "2431  2019-03-23  плечики пластмассовые      плечики      плечики  хозтовары   \n",
       "586   2018-11-02           муляж яблоко        муляж        муляж   для дома   \n",
       "1103  2018-12-04              щетка для        щетка        щетка  хозтовары   \n",
       "\n",
       "        month   revenue  \n",
       "5456  2019-06  675000.0  \n",
       "5071  2019-06   49432.0  \n",
       "3961  2019-05   15300.0  \n",
       "1158  2018-12    5800.0  \n",
       "568   2018-11    8670.0  \n",
       "211   2018-10    2850.0  \n",
       "212   2018-10    5700.0  \n",
       "2431  2019-03    3000.0  \n",
       "586   2018-11    8260.0  \n",
       "1103  2018-12    2600.0  "
      ]
     },
     "execution_count": 44,
     "metadata": {},
     "output_type": "execute_result"
    }
   ],
   "source": [
    "ecom.sort_values('quantity', ascending=False).head(10)"
   ]
  },
  {
   "cell_type": "code",
   "execution_count": 45,
   "metadata": {},
   "outputs": [],
   "source": [
    "ecom= ecom[ecom['quantity']<=100]"
   ]
  },
  {
   "cell_type": "markdown",
   "metadata": {},
   "source": [
    "В данных имеются еще оптовые заказы. Оставим количество позиций 100 и менее, эти значения не будут смещать выручку и переменную количества позиций в заказе. (Уберется всего 9 значений)"
   ]
  },
  {
   "cell_type": "markdown",
   "metadata": {},
   "source": [
    "### Вывод"
   ]
  },
  {
   "cell_type": "markdown",
   "metadata": {},
   "source": [
    "Пик продаж пришелся на июнь, однако пик вызван заказом на 1000 позиций. Уникальных продуктов, которые были заказаны - 2305. В среднем в корзину один товар кладут 2,7 раз. Средний чек заказа пользователя 1508 (1266). Макисмальный чек 675000 (заказ на 1000 позиций). 95% продуктов находятся в цене до 2249."
   ]
  },
  {
   "cell_type": "markdown",
   "metadata": {},
   "source": [
    "   "
   ]
  },
  {
   "cell_type": "markdown",
   "metadata": {},
   "source": [
    "## Анализ торгового ассортимента"
   ]
  },
  {
   "cell_type": "markdown",
   "metadata": {},
   "source": [
    "### На чем в основном специализируется магазин?"
   ]
  },
  {
   "cell_type": "code",
   "execution_count": 46,
   "metadata": {},
   "outputs": [
    {
     "data": {
      "text/plain": [
       "растение     2511\n",
       "хозтовары    1009\n",
       "для дома      555\n",
       "сумки         358\n",
       "посуда        352\n",
       "техника        30\n",
       "Name: category, dtype: int64"
      ]
     },
     "execution_count": 46,
     "metadata": {},
     "output_type": "execute_result"
    }
   ],
   "source": [
    "ecom['category'].value_counts()"
   ]
  },
  {
   "cell_type": "code",
   "execution_count": 47,
   "metadata": {},
   "outputs": [
    {
     "data": {
      "text/html": [
       "<div>\n",
       "<style scoped>\n",
       "    .dataframe tbody tr th:only-of-type {\n",
       "        vertical-align: middle;\n",
       "    }\n",
       "\n",
       "    .dataframe tbody tr th {\n",
       "        vertical-align: top;\n",
       "    }\n",
       "\n",
       "    .dataframe thead th {\n",
       "        text-align: right;\n",
       "    }\n",
       "</style>\n",
       "<table border=\"1\" class=\"dataframe\">\n",
       "  <thead>\n",
       "    <tr style=\"text-align: right;\">\n",
       "      <th></th>\n",
       "      <th>category</th>\n",
       "      <th>quantity</th>\n",
       "    </tr>\n",
       "  </thead>\n",
       "  <tbody>\n",
       "    <tr>\n",
       "      <th>2</th>\n",
       "      <td>растение</td>\n",
       "      <td>4511</td>\n",
       "    </tr>\n",
       "    <tr>\n",
       "      <th>5</th>\n",
       "      <td>хозтовары</td>\n",
       "      <td>3149</td>\n",
       "    </tr>\n",
       "    <tr>\n",
       "      <th>0</th>\n",
       "      <td>для дома</td>\n",
       "      <td>1900</td>\n",
       "    </tr>\n",
       "    <tr>\n",
       "      <th>1</th>\n",
       "      <td>посуда</td>\n",
       "      <td>1254</td>\n",
       "    </tr>\n",
       "    <tr>\n",
       "      <th>3</th>\n",
       "      <td>сумки</td>\n",
       "      <td>419</td>\n",
       "    </tr>\n",
       "    <tr>\n",
       "      <th>4</th>\n",
       "      <td>техника</td>\n",
       "      <td>32</td>\n",
       "    </tr>\n",
       "  </tbody>\n",
       "</table>\n",
       "</div>"
      ],
      "text/plain": [
       "    category  quantity\n",
       "2   растение      4511\n",
       "5  хозтовары      3149\n",
       "0   для дома      1900\n",
       "1     посуда      1254\n",
       "3      сумки       419\n",
       "4    техника        32"
      ]
     },
     "execution_count": 47,
     "metadata": {},
     "output_type": "execute_result"
    }
   ],
   "source": [
    "n=ecom.pivot_table(index='category',values='quantity',aggfunc='sum').reset_index().sort_values('quantity',ascending=False)\n",
    "n"
   ]
  },
  {
   "cell_type": "code",
   "execution_count": 48,
   "metadata": {},
   "outputs": [
    {
     "data": {
      "text/plain": [
       "Text(0, 0.5, 'Количество заказанных товаров')"
      ]
     },
     "execution_count": 48,
     "metadata": {},
     "output_type": "execute_result"
    },
    {
     "data": {
      "image/png": "[encoded data removed]",
      "text/plain": [
       "<Figure size 432x288 with 1 Axes>"
      ]
     },
     "metadata": {
      "needs_background": "light"
     },
     "output_type": "display_data"
    }
   ],
   "source": [
    "plt.title('Количество заказов по категориям')\n",
    "sns.barplot(x='category',y='quantity',data=n)\n",
    "plt.xlabel(\"Категории\")\n",
    "plt.ylabel(\"Количество заказанных товаров\")"
   ]
  },
  {
   "cell_type": "markdown",
   "metadata": {},
   "source": [
    "В основном в интернет-магазине в рассматриваемом промежутке времени происходят заказы по категориям: растения, хозтовары, товары для дома, посуда, сумки, техника. Большее количество позиций заказывали из категории растения и хозтовары(4511 и 3149 штук). Меньший спрос наблюдался на технику - 32 позиции."
   ]
  },
  {
   "cell_type": "markdown",
   "metadata": {},
   "source": [
    "### Какие категории товаров наиболее популярны среди покупателей? Различие в долях продаж"
   ]
  },
  {
   "cell_type": "code",
   "execution_count": 49,
   "metadata": {},
   "outputs": [
    {
     "data": {
      "text/html": [
       "<div>\n",
       "<style scoped>\n",
       "    .dataframe tbody tr th:only-of-type {\n",
       "        vertical-align: middle;\n",
       "    }\n",
       "\n",
       "    .dataframe tbody tr th {\n",
       "        vertical-align: top;\n",
       "    }\n",
       "\n",
       "    .dataframe thead th {\n",
       "        text-align: right;\n",
       "    }\n",
       "</style>\n",
       "<table border=\"1\" class=\"dataframe\">\n",
       "  <thead>\n",
       "    <tr style=\"text-align: right;\">\n",
       "      <th></th>\n",
       "      <th>category</th>\n",
       "      <th>revenue</th>\n",
       "      <th>ratio</th>\n",
       "    </tr>\n",
       "  </thead>\n",
       "  <tbody>\n",
       "    <tr>\n",
       "      <th>5</th>\n",
       "      <td>хозтовары</td>\n",
       "      <td>1151875.0</td>\n",
       "      <td>33.62</td>\n",
       "    </tr>\n",
       "    <tr>\n",
       "      <th>3</th>\n",
       "      <td>сумки</td>\n",
       "      <td>737893.0</td>\n",
       "      <td>21.53</td>\n",
       "    </tr>\n",
       "    <tr>\n",
       "      <th>0</th>\n",
       "      <td>для дома</td>\n",
       "      <td>662201.0</td>\n",
       "      <td>19.33</td>\n",
       "    </tr>\n",
       "    <tr>\n",
       "      <th>2</th>\n",
       "      <td>растение</td>\n",
       "      <td>538408.0</td>\n",
       "      <td>15.71</td>\n",
       "    </tr>\n",
       "    <tr>\n",
       "      <th>1</th>\n",
       "      <td>посуда</td>\n",
       "      <td>299646.0</td>\n",
       "      <td>8.74</td>\n",
       "    </tr>\n",
       "    <tr>\n",
       "      <th>4</th>\n",
       "      <td>техника</td>\n",
       "      <td>36550.0</td>\n",
       "      <td>1.07</td>\n",
       "    </tr>\n",
       "  </tbody>\n",
       "</table>\n",
       "</div>"
      ],
      "text/plain": [
       "    category    revenue  ratio\n",
       "5  хозтовары  1151875.0  33.62\n",
       "3      сумки   737893.0  21.53\n",
       "0   для дома   662201.0  19.33\n",
       "2   растение   538408.0  15.71\n",
       "1     посуда   299646.0   8.74\n",
       "4    техника    36550.0   1.07"
      ]
     },
     "execution_count": 49,
     "metadata": {},
     "output_type": "execute_result"
    }
   ],
   "source": [
    "pivot=ecom.pivot_table(index='category',values='revenue',aggfunc='sum').reset_index()\n",
    "total=pivot['revenue'].sum()\n",
    "pivot['ratio']=(pivot['revenue']/total*100).round(2)\n",
    "pivot=pivot.sort_values('revenue',ascending=False)\n",
    "pivot"
   ]
  },
  {
   "cell_type": "code",
   "execution_count": 50,
   "metadata": {},
   "outputs": [
    {
     "data": {
      "text/plain": [
       "Text(0, 0.5, 'Выручка с заказанных товаров')"
      ]
     },
     "execution_count": 50,
     "metadata": {},
     "output_type": "execute_result"
    },
    {
     "data": {
      "image/png": "[encoded data removed]",
      "text/plain": [
       "<Figure size 432x288 with 1 Axes>"
      ]
     },
     "metadata": {
      "needs_background": "light"
     },
     "output_type": "display_data"
    }
   ],
   "source": [
    "plt.title('Выручка заказов по категориям')\n",
    "sns.barplot(x='category',y='revenue',data=pivot)\n",
    "plt.xlabel(\"Категории\")\n",
    "plt.ylabel(\"Выручка с заказанных товаров\")"
   ]
  },
  {
   "cell_type": "markdown",
   "metadata": {},
   "source": [
    "Наибольшая выручка среди категории хозтовары (33% от общей выручки), затем среди сумок (21,5%), выручка от техники составляет 1,07%."
   ]
  },
  {
   "cell_type": "markdown",
   "metadata": {},
   "source": [
    "Рассмотрим категории по отдельности"
   ]
  },
  {
   "cell_type": "markdown",
   "metadata": {},
   "source": [
    "### Растения"
   ]
  },
  {
   "cell_type": "code",
   "execution_count": 51,
   "metadata": {},
   "outputs": [],
   "source": [
    "plan=ecom[ecom['category']=='растение']\n"
   ]
  },
  {
   "cell_type": "code",
   "execution_count": 52,
   "metadata": {},
   "outputs": [
    {
     "data": {
      "text/html": [
       "<div>\n",
       "<style scoped>\n",
       "    .dataframe tbody tr th:only-of-type {\n",
       "        vertical-align: middle;\n",
       "    }\n",
       "\n",
       "    .dataframe tbody tr th {\n",
       "        vertical-align: top;\n",
       "    }\n",
       "\n",
       "    .dataframe thead th {\n",
       "        text-align: right;\n",
       "    }\n",
       "</style>\n",
       "<table border=\"1\" class=\"dataframe\">\n",
       "  <thead>\n",
       "    <tr style=\"text-align: right;\">\n",
       "      <th></th>\n",
       "      <th>quantity</th>\n",
       "    </tr>\n",
       "    <tr>\n",
       "      <th>product_1</th>\n",
       "      <th></th>\n",
       "    </tr>\n",
       "  </thead>\n",
       "  <tbody>\n",
       "    <tr>\n",
       "      <th>пеларгония</th>\n",
       "      <td>904</td>\n",
       "    </tr>\n",
       "    <tr>\n",
       "      <th>рассада</th>\n",
       "      <td>637</td>\n",
       "    </tr>\n",
       "    <tr>\n",
       "      <th>искусственный</th>\n",
       "      <td>430</td>\n",
       "    </tr>\n",
       "    <tr>\n",
       "      <th>цветок</th>\n",
       "      <td>325</td>\n",
       "    </tr>\n",
       "    <tr>\n",
       "      <th>томата</th>\n",
       "      <td>260</td>\n",
       "    </tr>\n",
       "  </tbody>\n",
       "</table>\n",
       "</div>"
      ],
      "text/plain": [
       "               quantity\n",
       "product_1              \n",
       "пеларгония          904\n",
       "рассада             637\n",
       "искусственный       430\n",
       "цветок              325\n",
       "томата              260"
      ]
     },
     "execution_count": 52,
     "metadata": {},
     "output_type": "execute_result"
    }
   ],
   "source": [
    "plan.pivot_table(index='product_1',values='quantity',aggfunc='sum').sort_values(by='quantity',ascending=False).head(5)"
   ]
  },
  {
   "cell_type": "code",
   "execution_count": 53,
   "metadata": {},
   "outputs": [
    {
     "data": {
      "text/html": [
       "<div>\n",
       "<style scoped>\n",
       "    .dataframe tbody tr th:only-of-type {\n",
       "        vertical-align: middle;\n",
       "    }\n",
       "\n",
       "    .dataframe tbody tr th {\n",
       "        vertical-align: top;\n",
       "    }\n",
       "\n",
       "    .dataframe thead th {\n",
       "        text-align: right;\n",
       "    }\n",
       "</style>\n",
       "<table border=\"1\" class=\"dataframe\">\n",
       "  <thead>\n",
       "    <tr style=\"text-align: right;\">\n",
       "      <th></th>\n",
       "      <th>quantity</th>\n",
       "    </tr>\n",
       "    <tr>\n",
       "      <th>product_1</th>\n",
       "      <th></th>\n",
       "    </tr>\n",
       "  </thead>\n",
       "  <tbody>\n",
       "    <tr>\n",
       "      <th>сантолина</th>\n",
       "      <td>1</td>\n",
       "    </tr>\n",
       "    <tr>\n",
       "      <th>джункус</th>\n",
       "      <td>1</td>\n",
       "    </tr>\n",
       "    <tr>\n",
       "      <th>пахира</th>\n",
       "      <td>1</td>\n",
       "    </tr>\n",
       "    <tr>\n",
       "      <th>пеперомия</th>\n",
       "      <td>1</td>\n",
       "    </tr>\n",
       "    <tr>\n",
       "      <th>пиретрум</th>\n",
       "      <td>1</td>\n",
       "    </tr>\n",
       "  </tbody>\n",
       "</table>\n",
       "</div>"
      ],
      "text/plain": [
       "           quantity\n",
       "product_1          \n",
       "сантолина         1\n",
       "джункус           1\n",
       "пахира            1\n",
       "пеперомия         1\n",
       "пиретрум          1"
      ]
     },
     "execution_count": 53,
     "metadata": {},
     "output_type": "execute_result"
    }
   ],
   "source": [
    "plan.pivot_table(index='product_1',values='quantity',aggfunc='sum').sort_values(by='quantity',ascending=True).head(5)"
   ]
  },
  {
   "cell_type": "markdown",
   "metadata": {},
   "source": [
    "Самыми популярными товарами среди растений являются пеларгония, рассада, искуственные цветы. Наименее популярные - сантолина, джункус, пахира и т.д."
   ]
  },
  {
   "cell_type": "code",
   "execution_count": 54,
   "metadata": {},
   "outputs": [
    {
     "data": {
      "text/plain": [
       "Text(0, 0.5, 'Выручка по месяцам')"
      ]
     },
     "execution_count": 54,
     "metadata": {},
     "output_type": "execute_result"
    },
    {
     "data": {
      "image/png": "[encoded data removed]",
      "text/plain": [
       "<Figure size 1152x432 with 1 Axes>"
      ]
     },
     "metadata": {
      "needs_background": "light"
     },
     "output_type": "display_data"
    }
   ],
   "source": [
    "plt.figure(figsize=(16, 6))\n",
    "plt.title('Продажи по месяцам')\n",
    "sns.lineplot(data=ecom[ecom['category']=='растение'].pivot_table(index='month',values='revenue',aggfunc='sum'))\n",
    "plt.xlabel(\"Месяц\")\n",
    "plt.ylabel(\"Выручка по месяцам\")"
   ]
  },
  {
   "cell_type": "markdown",
   "metadata": {},
   "source": [
    "Пик продаж растений - май 2019."
   ]
  },
  {
   "cell_type": "code",
   "execution_count": 55,
   "metadata": {},
   "outputs": [
    {
     "data": {
      "text/html": [
       "<div>\n",
       "<style scoped>\n",
       "    .dataframe tbody tr th:only-of-type {\n",
       "        vertical-align: middle;\n",
       "    }\n",
       "\n",
       "    .dataframe tbody tr th {\n",
       "        vertical-align: top;\n",
       "    }\n",
       "\n",
       "    .dataframe thead th {\n",
       "        text-align: right;\n",
       "    }\n",
       "</style>\n",
       "<table border=\"1\" class=\"dataframe\">\n",
       "  <thead>\n",
       "    <tr style=\"text-align: right;\">\n",
       "      <th></th>\n",
       "      <th>date</th>\n",
       "      <th>customer_id</th>\n",
       "      <th>order_id</th>\n",
       "      <th>product</th>\n",
       "      <th>quantity</th>\n",
       "      <th>price</th>\n",
       "      <th>date_day</th>\n",
       "      <th>product_2</th>\n",
       "      <th>product_1</th>\n",
       "      <th>product1</th>\n",
       "      <th>category</th>\n",
       "      <th>month</th>\n",
       "      <th>revenue</th>\n",
       "    </tr>\n",
       "  </thead>\n",
       "  <tbody>\n",
       "    <tr>\n",
       "      <th>4033</th>\n",
       "      <td>2019-05-26 09:00:00</td>\n",
       "      <td>8a832dff-d6f8-4053-8f7b-91dd69e27a3c</td>\n",
       "      <td>71514</td>\n",
       "      <td>роза одноголовая тоффи 70 см эквадор плантация...</td>\n",
       "      <td>25</td>\n",
       "      <td>157.0</td>\n",
       "      <td>2019-05-26</td>\n",
       "      <td>роза одноголовая</td>\n",
       "      <td>роза</td>\n",
       "      <td>роза</td>\n",
       "      <td>растение</td>\n",
       "      <td>2019-05</td>\n",
       "      <td>3925.0</td>\n",
       "    </tr>\n",
       "    <tr>\n",
       "      <th>3502</th>\n",
       "      <td>2019-05-09 21:00:00</td>\n",
       "      <td>f479df63-c15c-4d4e-9866-cd91b3e8bcfc</td>\n",
       "      <td>14745</td>\n",
       "      <td>пеларгония зональная диам. 12 см красная махровая</td>\n",
       "      <td>11</td>\n",
       "      <td>188.0</td>\n",
       "      <td>2019-05-09</td>\n",
       "      <td>пеларгония зональная</td>\n",
       "      <td>пеларгония</td>\n",
       "      <td>пеларгония</td>\n",
       "      <td>растение</td>\n",
       "      <td>2019-05</td>\n",
       "      <td>2068.0</td>\n",
       "    </tr>\n",
       "    <tr>\n",
       "      <th>4009</th>\n",
       "      <td>2019-05-23 12:00:00</td>\n",
       "      <td>0184f535-b60a-4914-a982-231e3f615206</td>\n",
       "      <td>14812</td>\n",
       "      <td>газания рассада однолетних цветов в кассете по...</td>\n",
       "      <td>4</td>\n",
       "      <td>352.0</td>\n",
       "      <td>2019-05-23</td>\n",
       "      <td>газания рассада</td>\n",
       "      <td>газания</td>\n",
       "      <td>газание</td>\n",
       "      <td>растение</td>\n",
       "      <td>2019-05</td>\n",
       "      <td>1408.0</td>\n",
       "    </tr>\n",
       "    <tr>\n",
       "      <th>3791</th>\n",
       "      <td>2019-05-14 19:00:00</td>\n",
       "      <td>bea7a833-2074-42db-bc49-4457abd3c930</td>\n",
       "      <td>14776</td>\n",
       "      <td>пеларгония зональная махровая лососевая</td>\n",
       "      <td>7</td>\n",
       "      <td>161.0</td>\n",
       "      <td>2019-05-14</td>\n",
       "      <td>пеларгония зональная</td>\n",
       "      <td>пеларгония</td>\n",
       "      <td>пеларгония</td>\n",
       "      <td>растение</td>\n",
       "      <td>2019-05</td>\n",
       "      <td>1127.0</td>\n",
       "    </tr>\n",
       "    <tr>\n",
       "      <th>3920</th>\n",
       "      <td>2019-05-19 15:00:00</td>\n",
       "      <td>82eb3913-2c17-4935-8d1a-bbb10ac2bb48</td>\n",
       "      <td>14795</td>\n",
       "      <td>папоротник страусник зеленый объем 1 л</td>\n",
       "      <td>5</td>\n",
       "      <td>225.0</td>\n",
       "      <td>2019-05-19</td>\n",
       "      <td>папоротник страусник</td>\n",
       "      <td>папоротник</td>\n",
       "      <td>папоротник</td>\n",
       "      <td>растение</td>\n",
       "      <td>2019-05</td>\n",
       "      <td>1125.0</td>\n",
       "    </tr>\n",
       "    <tr>\n",
       "      <th>...</th>\n",
       "      <td>...</td>\n",
       "      <td>...</td>\n",
       "      <td>...</td>\n",
       "      <td>...</td>\n",
       "      <td>...</td>\n",
       "      <td>...</td>\n",
       "      <td>...</td>\n",
       "      <td>...</td>\n",
       "      <td>...</td>\n",
       "      <td>...</td>\n",
       "      <td>...</td>\n",
       "      <td>...</td>\n",
       "      <td>...</td>\n",
       "    </tr>\n",
       "    <tr>\n",
       "      <th>3548</th>\n",
       "      <td>2019-05-12 19:00:00</td>\n",
       "      <td>3d5fef90-4a65-4a7e-84cf-010eba7b038d</td>\n",
       "      <td>14753</td>\n",
       "      <td>арбуз огонек раннеспелый d-7 см</td>\n",
       "      <td>1</td>\n",
       "      <td>30.0</td>\n",
       "      <td>2019-05-12</td>\n",
       "      <td>арбуз огонек</td>\n",
       "      <td>арбуз</td>\n",
       "      <td>арбуз</td>\n",
       "      <td>растение</td>\n",
       "      <td>2019-05</td>\n",
       "      <td>30.0</td>\n",
       "    </tr>\n",
       "    <tr>\n",
       "      <th>3851</th>\n",
       "      <td>2019-05-16 19:00:00</td>\n",
       "      <td>97f94402-66c0-4995-b8d7-adb33eda71c8</td>\n",
       "      <td>14783</td>\n",
       "      <td>рассада пряной травы кофе арабика в горшке d-9 см</td>\n",
       "      <td>1</td>\n",
       "      <td>30.0</td>\n",
       "      <td>2019-05-16</td>\n",
       "      <td>рассада пряной</td>\n",
       "      <td>рассада</td>\n",
       "      <td>рассада</td>\n",
       "      <td>растение</td>\n",
       "      <td>2019-05</td>\n",
       "      <td>30.0</td>\n",
       "    </tr>\n",
       "    <tr>\n",
       "      <th>4121</th>\n",
       "      <td>2019-05-29 14:00:00</td>\n",
       "      <td>f31954cc-2f4d-4680-ab86-123de2aa7f56</td>\n",
       "      <td>71546</td>\n",
       "      <td>искусственный цветок ландыш пластиковый малый ...</td>\n",
       "      <td>1</td>\n",
       "      <td>22.0</td>\n",
       "      <td>2019-05-29</td>\n",
       "      <td>искусственный цветок</td>\n",
       "      <td>искусственный</td>\n",
       "      <td>искусственный</td>\n",
       "      <td>растение</td>\n",
       "      <td>2019-05</td>\n",
       "      <td>22.0</td>\n",
       "    </tr>\n",
       "    <tr>\n",
       "      <th>3555</th>\n",
       "      <td>2019-05-12 19:00:00</td>\n",
       "      <td>3d5fef90-4a65-4a7e-84cf-010eba7b038d</td>\n",
       "      <td>14753</td>\n",
       "      <td>баклажан самурай d-7 см крым</td>\n",
       "      <td>1</td>\n",
       "      <td>22.0</td>\n",
       "      <td>2019-05-12</td>\n",
       "      <td>баклажан самурай</td>\n",
       "      <td>баклажан</td>\n",
       "      <td>баклажан</td>\n",
       "      <td>растение</td>\n",
       "      <td>2019-05</td>\n",
       "      <td>22.0</td>\n",
       "    </tr>\n",
       "    <tr>\n",
       "      <th>3552</th>\n",
       "      <td>2019-05-12 19:00:00</td>\n",
       "      <td>3d5fef90-4a65-4a7e-84cf-010eba7b038d</td>\n",
       "      <td>14753</td>\n",
       "      <td>базилик зеленый тонус d-7 см</td>\n",
       "      <td>1</td>\n",
       "      <td>15.0</td>\n",
       "      <td>2019-05-12</td>\n",
       "      <td>базилик зеленый</td>\n",
       "      <td>базилик</td>\n",
       "      <td>базилик</td>\n",
       "      <td>растение</td>\n",
       "      <td>2019-05</td>\n",
       "      <td>15.0</td>\n",
       "    </tr>\n",
       "  </tbody>\n",
       "</table>\n",
       "<p>594 rows × 13 columns</p>\n",
       "</div>"
      ],
      "text/plain": [
       "                    date                           customer_id  order_id  \\\n",
       "4033 2019-05-26 09:00:00  8a832dff-d6f8-4053-8f7b-91dd69e27a3c     71514   \n",
       "3502 2019-05-09 21:00:00  f479df63-c15c-4d4e-9866-cd91b3e8bcfc     14745   \n",
       "4009 2019-05-23 12:00:00  0184f535-b60a-4914-a982-231e3f615206     14812   \n",
       "3791 2019-05-14 19:00:00  bea7a833-2074-42db-bc49-4457abd3c930     14776   \n",
       "3920 2019-05-19 15:00:00  82eb3913-2c17-4935-8d1a-bbb10ac2bb48     14795   \n",
       "...                  ...                                   ...       ...   \n",
       "3548 2019-05-12 19:00:00  3d5fef90-4a65-4a7e-84cf-010eba7b038d     14753   \n",
       "3851 2019-05-16 19:00:00  97f94402-66c0-4995-b8d7-adb33eda71c8     14783   \n",
       "4121 2019-05-29 14:00:00  f31954cc-2f4d-4680-ab86-123de2aa7f56     71546   \n",
       "3555 2019-05-12 19:00:00  3d5fef90-4a65-4a7e-84cf-010eba7b038d     14753   \n",
       "3552 2019-05-12 19:00:00  3d5fef90-4a65-4a7e-84cf-010eba7b038d     14753   \n",
       "\n",
       "                                                product  quantity  price  \\\n",
       "4033  роза одноголовая тоффи 70 см эквадор плантация...        25  157.0   \n",
       "3502  пеларгония зональная диам. 12 см красная махровая        11  188.0   \n",
       "4009  газания рассада однолетних цветов в кассете по...         4  352.0   \n",
       "3791            пеларгония зональная махровая лососевая         7  161.0   \n",
       "3920             папоротник страусник зеленый объем 1 л         5  225.0   \n",
       "...                                                 ...       ...    ...   \n",
       "3548                    арбуз огонек раннеспелый d-7 см         1   30.0   \n",
       "3851  рассада пряной травы кофе арабика в горшке d-9 см         1   30.0   \n",
       "4121  искусственный цветок ландыш пластиковый малый ...         1   22.0   \n",
       "3555                       баклажан самурай d-7 см крым         1   22.0   \n",
       "3552                       базилик зеленый тонус d-7 см         1   15.0   \n",
       "\n",
       "        date_day             product_2      product_1       product1  \\\n",
       "4033  2019-05-26      роза одноголовая           роза           роза   \n",
       "3502  2019-05-09  пеларгония зональная     пеларгония     пеларгония   \n",
       "4009  2019-05-23       газания рассада        газания        газание   \n",
       "3791  2019-05-14  пеларгония зональная     пеларгония     пеларгония   \n",
       "3920  2019-05-19  папоротник страусник     папоротник     папоротник   \n",
       "...          ...                   ...            ...            ...   \n",
       "3548  2019-05-12          арбуз огонек          арбуз          арбуз   \n",
       "3851  2019-05-16        рассада пряной        рассада        рассада   \n",
       "4121  2019-05-29  искусственный цветок  искусственный  искусственный   \n",
       "3555  2019-05-12      баклажан самурай       баклажан       баклажан   \n",
       "3552  2019-05-12       базилик зеленый        базилик        базилик   \n",
       "\n",
       "      category    month  revenue  \n",
       "4033  растение  2019-05   3925.0  \n",
       "3502  растение  2019-05   2068.0  \n",
       "4009  растение  2019-05   1408.0  \n",
       "3791  растение  2019-05   1127.0  \n",
       "3920  растение  2019-05   1125.0  \n",
       "...        ...      ...      ...  \n",
       "3548  растение  2019-05     30.0  \n",
       "3851  растение  2019-05     30.0  \n",
       "4121  растение  2019-05     22.0  \n",
       "3555  растение  2019-05     22.0  \n",
       "3552  растение  2019-05     15.0  \n",
       "\n",
       "[594 rows x 13 columns]"
      ]
     },
     "execution_count": 55,
     "metadata": {},
     "output_type": "execute_result"
    }
   ],
   "source": [
    "plan=ecom[ecom['category']=='растение']\n",
    "plan[plan['month']=='2019-05'].sort_values('revenue',ascending=False)"
   ]
  },
  {
   "cell_type": "markdown",
   "metadata": {},
   "source": [
    "Самый дорогой заказ в интернет-магазине в мае среди растений - роза. Далее популярный товар по выручке - пеларгония."
   ]
  },
  {
   "cell_type": "code",
   "execution_count": 56,
   "metadata": {},
   "outputs": [
    {
     "data": {
      "text/plain": [
       "count    2511.000000\n",
       "mean      146.277977\n",
       "std       196.713244\n",
       "min         9.000000\n",
       "25%        82.000000\n",
       "50%       128.000000\n",
       "75%       150.000000\n",
       "max      3599.000000\n",
       "Name: price, dtype: float64"
      ]
     },
     "execution_count": 56,
     "metadata": {},
     "output_type": "execute_result"
    }
   ],
   "source": [
    "plan['price'].describe()"
   ]
  },
  {
   "cell_type": "code",
   "execution_count": 57,
   "metadata": {},
   "outputs": [
    {
     "data": {
      "text/html": [
       "<div>\n",
       "<style scoped>\n",
       "    .dataframe tbody tr th:only-of-type {\n",
       "        vertical-align: middle;\n",
       "    }\n",
       "\n",
       "    .dataframe tbody tr th {\n",
       "        vertical-align: top;\n",
       "    }\n",
       "\n",
       "    .dataframe thead th {\n",
       "        text-align: right;\n",
       "    }\n",
       "</style>\n",
       "<table border=\"1\" class=\"dataframe\">\n",
       "  <thead>\n",
       "    <tr style=\"text-align: right;\">\n",
       "      <th></th>\n",
       "      <th>date</th>\n",
       "      <th>customer_id</th>\n",
       "      <th>order_id</th>\n",
       "      <th>product</th>\n",
       "      <th>quantity</th>\n",
       "      <th>price</th>\n",
       "      <th>date_day</th>\n",
       "      <th>product_2</th>\n",
       "      <th>product_1</th>\n",
       "      <th>product1</th>\n",
       "      <th>category</th>\n",
       "      <th>month</th>\n",
       "      <th>revenue</th>\n",
       "    </tr>\n",
       "  </thead>\n",
       "  <tbody>\n",
       "    <tr>\n",
       "      <th>6351</th>\n",
       "      <td>2019-09-18 10:00:00</td>\n",
       "      <td>05257dd3-0c7e-4b4c-a86d-786558162d11</td>\n",
       "      <td>72681</td>\n",
       "      <td>гортензия микс в кашпо с автополивом</td>\n",
       "      <td>1</td>\n",
       "      <td>3599.0</td>\n",
       "      <td>2019-09-18</td>\n",
       "      <td>гортензия микс</td>\n",
       "      <td>гортензия</td>\n",
       "      <td>гортензия</td>\n",
       "      <td>растение</td>\n",
       "      <td>2019-09</td>\n",
       "      <td>3599.0</td>\n",
       "    </tr>\n",
       "  </tbody>\n",
       "</table>\n",
       "</div>"
      ],
      "text/plain": [
       "                    date                           customer_id  order_id  \\\n",
       "6351 2019-09-18 10:00:00  05257dd3-0c7e-4b4c-a86d-786558162d11     72681   \n",
       "\n",
       "                                   product  quantity   price    date_day  \\\n",
       "6351  гортензия микс в кашпо с автополивом         1  3599.0  2019-09-18   \n",
       "\n",
       "           product_2  product_1   product1  category    month  revenue  \n",
       "6351  гортензия микс  гортензия  гортензия  растение  2019-09   3599.0  "
      ]
     },
     "execution_count": 57,
     "metadata": {},
     "output_type": "execute_result"
    }
   ],
   "source": [
    "plan[plan['price']==3599]"
   ]
  },
  {
   "cell_type": "code",
   "execution_count": 58,
   "metadata": {},
   "outputs": [
    {
     "data": {
      "text/plain": [
       "Text(0.5, 0, 'Цена')"
      ]
     },
     "execution_count": 58,
     "metadata": {},
     "output_type": "execute_result"
    },
    {
     "data": {
      "image/png": "[encoded data removed]",
      "text/plain": [
       "<Figure size 432x288 with 1 Axes>"
      ]
     },
     "metadata": {
      "needs_background": "light"
     },
     "output_type": "display_data"
    }
   ],
   "source": [
    "sns.histplot(data=plan['price'])\n",
    "plt.xlim(0,1000)\n",
    "plt.title('Распределение по цене')\n",
    "plt.xlabel(\"Цена\")"
   ]
  },
  {
   "cell_type": "markdown",
   "metadata": {},
   "source": [
    "В среднем цена на растения составляет 146. Максимальная цена достигает 3599 (гортензия микс)."
   ]
  },
  {
   "cell_type": "markdown",
   "metadata": {},
   "source": [
    "### Хозтовары"
   ]
  },
  {
   "cell_type": "code",
   "execution_count": 59,
   "metadata": {},
   "outputs": [
    {
     "data": {
      "text/plain": [
       "сушилка       277\n",
       "гладильная    123\n",
       "чехол          93\n",
       "таз            71\n",
       "вешалка        37\n",
       "Name: product_1, dtype: int64"
      ]
     },
     "execution_count": 59,
     "metadata": {},
     "output_type": "execute_result"
    }
   ],
   "source": [
    "ecom[ecom['category']=='хозтовары']['product_1'].value_counts().head(5)"
   ]
  },
  {
   "cell_type": "code",
   "execution_count": 60,
   "metadata": {},
   "outputs": [
    {
     "data": {
      "text/plain": [
       "бальзам            1\n",
       "гипоаллергенный    1\n",
       "держатель          1\n",
       "антижир            1\n",
       "вкладыши           1\n",
       "Name: product_1, dtype: int64"
      ]
     },
     "execution_count": 60,
     "metadata": {},
     "output_type": "execute_result"
    }
   ],
   "source": [
    "ecom[ecom['category']=='хозтовары']['product_1'].value_counts(ascending=True).head(5)"
   ]
  },
  {
   "cell_type": "markdown",
   "metadata": {},
   "source": [
    "Самые часто заказываемые позиции среди хозтоваров - сушилка, гладильная доска, чехол. Наименее популярные - мыльница, веревка,отжим, сменная насадка к швабре."
   ]
  },
  {
   "cell_type": "code",
   "execution_count": 61,
   "metadata": {},
   "outputs": [
    {
     "data": {
      "text/plain": [
       "Text(0, 0.5, 'Выручка по месяцам')"
      ]
     },
     "execution_count": 61,
     "metadata": {},
     "output_type": "execute_result"
    },
    {
     "data": {
      "image/png": "[encoded data removed]",
      "text/plain": [
       "<Figure size 1152x432 with 1 Axes>"
      ]
     },
     "metadata": {
      "needs_background": "light"
     },
     "output_type": "display_data"
    }
   ],
   "source": [
    "plt.figure(figsize=(16, 6))\n",
    "plt.title('Продажи по месяцам')\n",
    "sns.lineplot(data=ecom[ecom['category']=='хозтовары'].pivot_table(index='month',values='revenue',aggfunc='sum'))\n",
    "plt.xlabel(\"Месяц\")\n",
    "plt.ylabel(\"Выручка по месяцам\")"
   ]
  },
  {
   "cell_type": "markdown",
   "metadata": {},
   "source": [
    "Пик продаж среди хозтоваров - октябрь 2018. Рассмотрим данные за июнь подробнее"
   ]
  },
  {
   "cell_type": "code",
   "execution_count": 62,
   "metadata": {},
   "outputs": [
    {
     "data": {
      "text/html": [
       "<div>\n",
       "<style scoped>\n",
       "    .dataframe tbody tr th:only-of-type {\n",
       "        vertical-align: middle;\n",
       "    }\n",
       "\n",
       "    .dataframe tbody tr th {\n",
       "        vertical-align: top;\n",
       "    }\n",
       "\n",
       "    .dataframe thead th {\n",
       "        text-align: right;\n",
       "    }\n",
       "</style>\n",
       "<table border=\"1\" class=\"dataframe\">\n",
       "  <thead>\n",
       "    <tr style=\"text-align: right;\">\n",
       "      <th></th>\n",
       "      <th>date</th>\n",
       "      <th>customer_id</th>\n",
       "      <th>order_id</th>\n",
       "      <th>product</th>\n",
       "      <th>quantity</th>\n",
       "      <th>price</th>\n",
       "      <th>date_day</th>\n",
       "      <th>product_2</th>\n",
       "      <th>product_1</th>\n",
       "      <th>product1</th>\n",
       "      <th>category</th>\n",
       "      <th>month</th>\n",
       "      <th>revenue</th>\n",
       "    </tr>\n",
       "  </thead>\n",
       "  <tbody>\n",
       "    <tr>\n",
       "      <th>375</th>\n",
       "      <td>2018-10-23 11:00:00</td>\n",
       "      <td>4d93d3f6-8b24-403b-a74b-f5173e40d7db</td>\n",
       "      <td>68727</td>\n",
       "      <td>веник сорго с деревянной ручкой с 4-мя швами, ...</td>\n",
       "      <td>17</td>\n",
       "      <td>530.0</td>\n",
       "      <td>2018-10-23</td>\n",
       "      <td>веник сорго</td>\n",
       "      <td>веник</td>\n",
       "      <td>веник</td>\n",
       "      <td>хозтовары</td>\n",
       "      <td>2018-10</td>\n",
       "      <td>9010.0</td>\n",
       "    </tr>\n",
       "    <tr>\n",
       "      <th>121</th>\n",
       "      <td>2018-10-07 07:00:00</td>\n",
       "      <td>f37fa8c2-24a0-451a-8306-39d397e7c4b2</td>\n",
       "      <td>68554</td>\n",
       "      <td>стремянка алюминиевая hailo 4302-301 livingste...</td>\n",
       "      <td>1</td>\n",
       "      <td>4949.0</td>\n",
       "      <td>2018-10-07</td>\n",
       "      <td>стремянка алюминиевая</td>\n",
       "      <td>стремянка</td>\n",
       "      <td>стремянка</td>\n",
       "      <td>хозтовары</td>\n",
       "      <td>2018-10</td>\n",
       "      <td>4949.0</td>\n",
       "    </tr>\n",
       "    <tr>\n",
       "      <th>477</th>\n",
       "      <td>2018-10-28 00:00:00</td>\n",
       "      <td>f08dabe2-ce2a-46c2-8369-3f40955ad50c</td>\n",
       "      <td>68776</td>\n",
       "      <td>гладильная доска colombo avantgard 120х40 см</td>\n",
       "      <td>1</td>\n",
       "      <td>4049.0</td>\n",
       "      <td>2018-10-28</td>\n",
       "      <td>гладильная доска</td>\n",
       "      <td>гладильная</td>\n",
       "      <td>гладильный</td>\n",
       "      <td>хозтовары</td>\n",
       "      <td>2018-10</td>\n",
       "      <td>4049.0</td>\n",
       "    </tr>\n",
       "    <tr>\n",
       "      <th>269</th>\n",
       "      <td>2018-10-16 11:00:00</td>\n",
       "      <td>4d93d3f6-8b24-403b-a74b-f5173e40d7db</td>\n",
       "      <td>68662</td>\n",
       "      <td>стремянки colombo leonardo 3 ступени g300a03w ...</td>\n",
       "      <td>1</td>\n",
       "      <td>3974.0</td>\n",
       "      <td>2018-10-16</td>\n",
       "      <td>стремянки colombo</td>\n",
       "      <td>стремянки</td>\n",
       "      <td>стремянка</td>\n",
       "      <td>хозтовары</td>\n",
       "      <td>2018-10</td>\n",
       "      <td>3974.0</td>\n",
       "    </tr>\n",
       "    <tr>\n",
       "      <th>414</th>\n",
       "      <td>2018-10-25 18:00:00</td>\n",
       "      <td>8e9e4781-841f-4943-a12b-ef4d6c975f5a</td>\n",
       "      <td>68757</td>\n",
       "      <td>ведро для мусора hailo 0516-570 16 л, бежевый</td>\n",
       "      <td>1</td>\n",
       "      <td>3749.0</td>\n",
       "      <td>2018-10-25</td>\n",
       "      <td>ведро для</td>\n",
       "      <td>ведро</td>\n",
       "      <td>ведро</td>\n",
       "      <td>хозтовары</td>\n",
       "      <td>2018-10</td>\n",
       "      <td>3749.0</td>\n",
       "    </tr>\n",
       "    <tr>\n",
       "      <th>...</th>\n",
       "      <td>...</td>\n",
       "      <td>...</td>\n",
       "      <td>...</td>\n",
       "      <td>...</td>\n",
       "      <td>...</td>\n",
       "      <td>...</td>\n",
       "      <td>...</td>\n",
       "      <td>...</td>\n",
       "      <td>...</td>\n",
       "      <td>...</td>\n",
       "      <td>...</td>\n",
       "      <td>...</td>\n",
       "      <td>...</td>\n",
       "    </tr>\n",
       "    <tr>\n",
       "      <th>304</th>\n",
       "      <td>2018-10-18 14:00:00</td>\n",
       "      <td>b371ce80-259a-4bb8-a550-0ebff690e3e1</td>\n",
       "      <td>68682</td>\n",
       "      <td>пена для ванн vestar хвойная пихта 900 мл росс...</td>\n",
       "      <td>1</td>\n",
       "      <td>82.0</td>\n",
       "      <td>2018-10-18</td>\n",
       "      <td>пена для</td>\n",
       "      <td>пена</td>\n",
       "      <td>пена</td>\n",
       "      <td>хозтовары</td>\n",
       "      <td>2018-10</td>\n",
       "      <td>82.0</td>\n",
       "    </tr>\n",
       "    <tr>\n",
       "      <th>398</th>\n",
       "      <td>2018-10-24 10:00:00</td>\n",
       "      <td>c971fb21-d54c-4134-938f-16b62ee86d3b</td>\n",
       "      <td>68739</td>\n",
       "      <td>щетка палубная 215х80х20 мм 6-рядная без черен...</td>\n",
       "      <td>1</td>\n",
       "      <td>82.0</td>\n",
       "      <td>2018-10-24</td>\n",
       "      <td>щетка палубная</td>\n",
       "      <td>щетка</td>\n",
       "      <td>щетка</td>\n",
       "      <td>хозтовары</td>\n",
       "      <td>2018-10</td>\n",
       "      <td>82.0</td>\n",
       "    </tr>\n",
       "    <tr>\n",
       "      <th>75</th>\n",
       "      <td>2018-10-04 09:00:00</td>\n",
       "      <td>e64aad3a-fffc-4193-8df5-e94a43eff295</td>\n",
       "      <td>68521</td>\n",
       "      <td>ёрш унитазный с подставкой wc \"стандарт\", муль...</td>\n",
       "      <td>1</td>\n",
       "      <td>67.0</td>\n",
       "      <td>2018-10-04</td>\n",
       "      <td>ёрш унитазный</td>\n",
       "      <td>ёрш</td>\n",
       "      <td>ерш</td>\n",
       "      <td>хозтовары</td>\n",
       "      <td>2018-10</td>\n",
       "      <td>67.0</td>\n",
       "    </tr>\n",
       "    <tr>\n",
       "      <th>197</th>\n",
       "      <td>2018-10-11 13:00:00</td>\n",
       "      <td>4d59d9e7-55be-43a0-88c4-8e7261c5c6d5</td>\n",
       "      <td>68610</td>\n",
       "      <td>плечики пластмассовые (размер 48 - 54 ) \"мп\", ...</td>\n",
       "      <td>3</td>\n",
       "      <td>22.0</td>\n",
       "      <td>2018-10-11</td>\n",
       "      <td>плечики пластмассовые</td>\n",
       "      <td>плечики</td>\n",
       "      <td>плечики</td>\n",
       "      <td>хозтовары</td>\n",
       "      <td>2018-10</td>\n",
       "      <td>66.0</td>\n",
       "    </tr>\n",
       "    <tr>\n",
       "      <th>300</th>\n",
       "      <td>2018-10-18 14:00:00</td>\n",
       "      <td>b371ce80-259a-4bb8-a550-0ebff690e3e1</td>\n",
       "      <td>68682</td>\n",
       "      <td>жидкое мыло vestar хозяйственное 750 мл россия...</td>\n",
       "      <td>1</td>\n",
       "      <td>59.0</td>\n",
       "      <td>2018-10-18</td>\n",
       "      <td>жидкое мыло</td>\n",
       "      <td>жидкое</td>\n",
       "      <td>жидкий</td>\n",
       "      <td>хозтовары</td>\n",
       "      <td>2018-10</td>\n",
       "      <td>59.0</td>\n",
       "    </tr>\n",
       "  </tbody>\n",
       "</table>\n",
       "<p>164 rows × 13 columns</p>\n",
       "</div>"
      ],
      "text/plain": [
       "                   date                           customer_id  order_id  \\\n",
       "375 2018-10-23 11:00:00  4d93d3f6-8b24-403b-a74b-f5173e40d7db     68727   \n",
       "121 2018-10-07 07:00:00  f37fa8c2-24a0-451a-8306-39d397e7c4b2     68554   \n",
       "477 2018-10-28 00:00:00  f08dabe2-ce2a-46c2-8369-3f40955ad50c     68776   \n",
       "269 2018-10-16 11:00:00  4d93d3f6-8b24-403b-a74b-f5173e40d7db     68662   \n",
       "414 2018-10-25 18:00:00  8e9e4781-841f-4943-a12b-ef4d6c975f5a     68757   \n",
       "..                  ...                                   ...       ...   \n",
       "304 2018-10-18 14:00:00  b371ce80-259a-4bb8-a550-0ebff690e3e1     68682   \n",
       "398 2018-10-24 10:00:00  c971fb21-d54c-4134-938f-16b62ee86d3b     68739   \n",
       "75  2018-10-04 09:00:00  e64aad3a-fffc-4193-8df5-e94a43eff295     68521   \n",
       "197 2018-10-11 13:00:00  4d59d9e7-55be-43a0-88c4-8e7261c5c6d5     68610   \n",
       "300 2018-10-18 14:00:00  b371ce80-259a-4bb8-a550-0ebff690e3e1     68682   \n",
       "\n",
       "                                               product  quantity   price  \\\n",
       "375  веник сорго с деревянной ручкой с 4-мя швами, ...        17   530.0   \n",
       "121  стремянка алюминиевая hailo 4302-301 livingste...         1  4949.0   \n",
       "477       гладильная доска colombo avantgard 120х40 см         1  4049.0   \n",
       "269  стремянки colombo leonardo 3 ступени g300a03w ...         1  3974.0   \n",
       "414      ведро для мусора hailo 0516-570 16 л, бежевый         1  3749.0   \n",
       "..                                                 ...       ...     ...   \n",
       "304  пена для ванн vestar хвойная пихта 900 мл росс...         1    82.0   \n",
       "398  щетка палубная 215х80х20 мм 6-рядная без черен...         1    82.0   \n",
       "75   ёрш унитазный с подставкой wc \"стандарт\", муль...         1    67.0   \n",
       "197  плечики пластмассовые (размер 48 - 54 ) \"мп\", ...         3    22.0   \n",
       "300  жидкое мыло vestar хозяйственное 750 мл россия...         1    59.0   \n",
       "\n",
       "       date_day              product_2   product_1    product1   category  \\\n",
       "375  2018-10-23            веник сорго       веник       веник  хозтовары   \n",
       "121  2018-10-07  стремянка алюминиевая   стремянка   стремянка  хозтовары   \n",
       "477  2018-10-28       гладильная доска  гладильная  гладильный  хозтовары   \n",
       "269  2018-10-16      стремянки colombo   стремянки   стремянка  хозтовары   \n",
       "414  2018-10-25              ведро для       ведро       ведро  хозтовары   \n",
       "..          ...                    ...         ...         ...        ...   \n",
       "304  2018-10-18               пена для        пена        пена  хозтовары   \n",
       "398  2018-10-24         щетка палубная       щетка       щетка  хозтовары   \n",
       "75   2018-10-04          ёрш унитазный         ёрш         ерш  хозтовары   \n",
       "197  2018-10-11  плечики пластмассовые     плечики     плечики  хозтовары   \n",
       "300  2018-10-18            жидкое мыло      жидкое      жидкий  хозтовары   \n",
       "\n",
       "       month  revenue  \n",
       "375  2018-10   9010.0  \n",
       "121  2018-10   4949.0  \n",
       "477  2018-10   4049.0  \n",
       "269  2018-10   3974.0  \n",
       "414  2018-10   3749.0  \n",
       "..       ...      ...  \n",
       "304  2018-10     82.0  \n",
       "398  2018-10     82.0  \n",
       "75   2018-10     67.0  \n",
       "197  2018-10     66.0  \n",
       "300  2018-10     59.0  \n",
       "\n",
       "[164 rows x 13 columns]"
      ]
     },
     "execution_count": 62,
     "metadata": {},
     "output_type": "execute_result"
    }
   ],
   "source": [
    "h=ecom[ecom['category']=='хозтовары']\n",
    "h[h['month']=='2018-10'].sort_values('revenue',ascending=False)"
   ]
  },
  {
   "cell_type": "markdown",
   "metadata": {},
   "source": [
    "Самый крупный заказ - веник сорго с деревянной ручкой (17 позиций)"
   ]
  },
  {
   "cell_type": "code",
   "execution_count": 63,
   "metadata": {},
   "outputs": [
    {
     "data": {
      "text/plain": [
       "count     1009.000000\n",
       "mean       890.506442\n",
       "std       1157.275069\n",
       "min         15.000000\n",
       "25%        195.000000\n",
       "50%        517.000000\n",
       "75%       1087.000000\n",
       "max      14917.000000\n",
       "Name: price, dtype: float64"
      ]
     },
     "execution_count": 63,
     "metadata": {},
     "output_type": "execute_result"
    }
   ],
   "source": [
    "h['price'].describe()"
   ]
  },
  {
   "cell_type": "code",
   "execution_count": 64,
   "metadata": {},
   "outputs": [
    {
     "data": {
      "text/html": [
       "<div>\n",
       "<style scoped>\n",
       "    .dataframe tbody tr th:only-of-type {\n",
       "        vertical-align: middle;\n",
       "    }\n",
       "\n",
       "    .dataframe tbody tr th {\n",
       "        vertical-align: top;\n",
       "    }\n",
       "\n",
       "    .dataframe thead th {\n",
       "        text-align: right;\n",
       "    }\n",
       "</style>\n",
       "<table border=\"1\" class=\"dataframe\">\n",
       "  <thead>\n",
       "    <tr style=\"text-align: right;\">\n",
       "      <th></th>\n",
       "      <th>date</th>\n",
       "      <th>customer_id</th>\n",
       "      <th>order_id</th>\n",
       "      <th>product</th>\n",
       "      <th>quantity</th>\n",
       "      <th>price</th>\n",
       "      <th>date_day</th>\n",
       "      <th>product_2</th>\n",
       "      <th>product_1</th>\n",
       "      <th>product1</th>\n",
       "      <th>category</th>\n",
       "      <th>month</th>\n",
       "      <th>revenue</th>\n",
       "    </tr>\n",
       "  </thead>\n",
       "  <tbody>\n",
       "    <tr>\n",
       "      <th>5992</th>\n",
       "      <td>2019-07-29 17:00:00</td>\n",
       "      <td>0d87f4ae-465a-4fac-81e6-5d629761783e</td>\n",
       "      <td>72139</td>\n",
       "      <td>сушилка уличная leifheit 85210 linomatic v 400...</td>\n",
       "      <td>1</td>\n",
       "      <td>14917.0</td>\n",
       "      <td>2019-07-29</td>\n",
       "      <td>сушилка уличная</td>\n",
       "      <td>сушилка</td>\n",
       "      <td>сушилка</td>\n",
       "      <td>хозтовары</td>\n",
       "      <td>2019-07</td>\n",
       "      <td>14917.0</td>\n",
       "    </tr>\n",
       "  </tbody>\n",
       "</table>\n",
       "</div>"
      ],
      "text/plain": [
       "                    date                           customer_id  order_id  \\\n",
       "5992 2019-07-29 17:00:00  0d87f4ae-465a-4fac-81e6-5d629761783e     72139   \n",
       "\n",
       "                                                product  quantity    price  \\\n",
       "5992  сушилка уличная leifheit 85210 linomatic v 400...         1  14917.0   \n",
       "\n",
       "        date_day        product_2 product_1 product1   category    month  \\\n",
       "5992  2019-07-29  сушилка уличная   сушилка  сушилка  хозтовары  2019-07   \n",
       "\n",
       "      revenue  \n",
       "5992  14917.0  "
      ]
     },
     "execution_count": 64,
     "metadata": {},
     "output_type": "execute_result"
    }
   ],
   "source": [
    "h[h['price']==14917]"
   ]
  },
  {
   "cell_type": "markdown",
   "metadata": {},
   "source": [
    "Средняя цена товаров в категории - 890. Максимальная  14917 (уличная сушилка)."
   ]
  },
  {
   "cell_type": "code",
   "execution_count": 65,
   "metadata": {
    "scrolled": true
   },
   "outputs": [
    {
     "data": {
      "text/plain": [
       "Text(0.5, 0, 'Цена')"
      ]
     },
     "execution_count": 65,
     "metadata": {},
     "output_type": "execute_result"
    },
    {
     "data": {
      "image/png": "[encoded data removed]",
      "text/plain": [
       "<Figure size 432x288 with 1 Axes>"
      ]
     },
     "metadata": {
      "needs_background": "light"
     },
     "output_type": "display_data"
    }
   ],
   "source": [
    "sns.histplot(data=h['price'],bins=300)\n",
    "plt.title('Распределение по цене')\n",
    "plt.xlabel(\"Цена\")"
   ]
  },
  {
   "cell_type": "markdown",
   "metadata": {},
   "source": [
    "### Посуда"
   ]
  },
  {
   "cell_type": "code",
   "execution_count": 66,
   "metadata": {},
   "outputs": [
    {
     "data": {
      "text/plain": [
       "набор       40\n",
       "тарелка     40\n",
       "салатник    24\n",
       "чайник      19\n",
       "банка       19\n",
       "Name: product_1, dtype: int64"
      ]
     },
     "execution_count": 66,
     "metadata": {},
     "output_type": "execute_result"
    }
   ],
   "source": [
    "ecom[ecom['category']=='посуда']['product_1'].value_counts().head(5)"
   ]
  },
  {
   "cell_type": "code",
   "execution_count": 67,
   "metadata": {},
   "outputs": [
    {
     "data": {
      "text/plain": [
       "противень         1\n",
       "мини-сковорода    1\n",
       "пресс             1\n",
       "кухонные          1\n",
       "бульонница        1\n",
       "Name: product_1, dtype: int64"
      ]
     },
     "execution_count": 67,
     "metadata": {},
     "output_type": "execute_result"
    }
   ],
   "source": [
    "ecom[ecom['category']=='посуда']['product_1'].value_counts(ascending=True).head(5)"
   ]
  },
  {
   "cell_type": "markdown",
   "metadata": {},
   "source": [
    "Среди посуды наиболее популярные категории -  наборы, тарелки, салатники. Менее - сито, тортница, шприц кондитерский и тд."
   ]
  },
  {
   "cell_type": "code",
   "execution_count": 68,
   "metadata": {},
   "outputs": [
    {
     "data": {
      "text/plain": [
       "Text(0, 0.5, 'Выручка по месяцам')"
      ]
     },
     "execution_count": 68,
     "metadata": {},
     "output_type": "execute_result"
    },
    {
     "data": {
      "image/png": "[encoded data removed]",
      "text/plain": [
       "<Figure size 1152x432 with 1 Axes>"
      ]
     },
     "metadata": {
      "needs_background": "light"
     },
     "output_type": "display_data"
    }
   ],
   "source": [
    "plt.figure(figsize=(16, 6))\n",
    "plt.title('Продажи по месяцам')\n",
    "sns.lineplot(data=ecom[ecom['category']=='посуда'].pivot_table(index='month',values='revenue',aggfunc='sum'))\n",
    "plt.xlabel(\"Месяц\")\n",
    "plt.ylabel(\"Выручка по месяцам\")"
   ]
  },
  {
   "cell_type": "markdown",
   "metadata": {},
   "source": [
    "Пик продаж среди категории посуды  ноябрь 2018."
   ]
  },
  {
   "cell_type": "code",
   "execution_count": 69,
   "metadata": {},
   "outputs": [
    {
     "data": {
      "text/html": [
       "<div>\n",
       "<style scoped>\n",
       "    .dataframe tbody tr th:only-of-type {\n",
       "        vertical-align: middle;\n",
       "    }\n",
       "\n",
       "    .dataframe tbody tr th {\n",
       "        vertical-align: top;\n",
       "    }\n",
       "\n",
       "    .dataframe thead th {\n",
       "        text-align: right;\n",
       "    }\n",
       "</style>\n",
       "<table border=\"1\" class=\"dataframe\">\n",
       "  <thead>\n",
       "    <tr style=\"text-align: right;\">\n",
       "      <th></th>\n",
       "      <th>date</th>\n",
       "      <th>customer_id</th>\n",
       "      <th>order_id</th>\n",
       "      <th>product</th>\n",
       "      <th>quantity</th>\n",
       "      <th>price</th>\n",
       "      <th>date_day</th>\n",
       "      <th>product_2</th>\n",
       "      <th>product_1</th>\n",
       "      <th>product1</th>\n",
       "      <th>category</th>\n",
       "      <th>month</th>\n",
       "      <th>revenue</th>\n",
       "    </tr>\n",
       "  </thead>\n",
       "  <tbody>\n",
       "    <tr>\n",
       "      <th>1023</th>\n",
       "      <td>2018-11-29 17:00:00</td>\n",
       "      <td>8fba3604-ef57-4b9f-b2fe-3402fa8825c8</td>\n",
       "      <td>69156</td>\n",
       "      <td>набор ножей attribute chef 5 предметов akf522</td>\n",
       "      <td>64</td>\n",
       "      <td>457.0</td>\n",
       "      <td>2018-11-29</td>\n",
       "      <td>набор ножей</td>\n",
       "      <td>набор</td>\n",
       "      <td>набор</td>\n",
       "      <td>посуда</td>\n",
       "      <td>2018-11</td>\n",
       "      <td>29248.0</td>\n",
       "    </tr>\n",
       "    <tr>\n",
       "      <th>686</th>\n",
       "      <td>2018-11-07 09:00:00</td>\n",
       "      <td>dc45d33d-08ef-4ede-9b9b-a7df25728420</td>\n",
       "      <td>68895</td>\n",
       "      <td>набор вешалок мягких тканевых с перекладиной и...</td>\n",
       "      <td>15</td>\n",
       "      <td>398.0</td>\n",
       "      <td>2018-11-07</td>\n",
       "      <td>набор вешалок</td>\n",
       "      <td>набор</td>\n",
       "      <td>набор</td>\n",
       "      <td>посуда</td>\n",
       "      <td>2018-11</td>\n",
       "      <td>5970.0</td>\n",
       "    </tr>\n",
       "    <tr>\n",
       "      <th>1001</th>\n",
       "      <td>2018-11-27 15:00:00</td>\n",
       "      <td>7d8528bb-623e-477f-a059-efc312b62d29</td>\n",
       "      <td>69127</td>\n",
       "      <td>набор вешалок для костюма 45 см 4 шт цвет крем...</td>\n",
       "      <td>25</td>\n",
       "      <td>202.0</td>\n",
       "      <td>2018-11-27</td>\n",
       "      <td>набор вешалок</td>\n",
       "      <td>набор</td>\n",
       "      <td>набор</td>\n",
       "      <td>посуда</td>\n",
       "      <td>2018-11</td>\n",
       "      <td>5050.0</td>\n",
       "    </tr>\n",
       "    <tr>\n",
       "      <th>1026</th>\n",
       "      <td>2018-11-29 17:00:00</td>\n",
       "      <td>8fba3604-ef57-4b9f-b2fe-3402fa8825c8</td>\n",
       "      <td>69156</td>\n",
       "      <td>нож кухонный универсальный с пластмассовой руч...</td>\n",
       "      <td>24</td>\n",
       "      <td>119.0</td>\n",
       "      <td>2018-11-29</td>\n",
       "      <td>нож кухонный</td>\n",
       "      <td>нож</td>\n",
       "      <td>нож</td>\n",
       "      <td>посуда</td>\n",
       "      <td>2018-11</td>\n",
       "      <td>2856.0</td>\n",
       "    </tr>\n",
       "    <tr>\n",
       "      <th>665</th>\n",
       "      <td>2018-11-06 15:00:00</td>\n",
       "      <td>9e556072-dd50-4f9e-b516-1605ab73f3df</td>\n",
       "      <td>68886</td>\n",
       "      <td>чайный набор luminarc рейнбоу 220 мл j5978</td>\n",
       "      <td>4</td>\n",
       "      <td>682.0</td>\n",
       "      <td>2018-11-06</td>\n",
       "      <td>чайный набор</td>\n",
       "      <td>чайный</td>\n",
       "      <td>чайный</td>\n",
       "      <td>посуда</td>\n",
       "      <td>2018-11</td>\n",
       "      <td>2728.0</td>\n",
       "    </tr>\n",
       "    <tr>\n",
       "      <th>...</th>\n",
       "      <td>...</td>\n",
       "      <td>...</td>\n",
       "      <td>...</td>\n",
       "      <td>...</td>\n",
       "      <td>...</td>\n",
       "      <td>...</td>\n",
       "      <td>...</td>\n",
       "      <td>...</td>\n",
       "      <td>...</td>\n",
       "      <td>...</td>\n",
       "      <td>...</td>\n",
       "      <td>...</td>\n",
       "      <td>...</td>\n",
       "    </tr>\n",
       "    <tr>\n",
       "      <th>756</th>\n",
       "      <td>2018-11-10 14:00:00</td>\n",
       "      <td>e2f8a3ad-2cd5-41c5-99f7-213b0e851c85</td>\n",
       "      <td>68941</td>\n",
       "      <td>столовая ложка better цветной горох bt-c2003e-...</td>\n",
       "      <td>1</td>\n",
       "      <td>44.0</td>\n",
       "      <td>2018-11-10</td>\n",
       "      <td>столовая ложка</td>\n",
       "      <td>столовая</td>\n",
       "      <td>столовая</td>\n",
       "      <td>посуда</td>\n",
       "      <td>2018-11</td>\n",
       "      <td>44.0</td>\n",
       "    </tr>\n",
       "    <tr>\n",
       "      <th>741</th>\n",
       "      <td>2018-11-10 14:00:00</td>\n",
       "      <td>e2f8a3ad-2cd5-41c5-99f7-213b0e851c85</td>\n",
       "      <td>68941</td>\n",
       "      <td>вилка столовая better цветной горох bt-c2003e-...</td>\n",
       "      <td>1</td>\n",
       "      <td>44.0</td>\n",
       "      <td>2018-11-10</td>\n",
       "      <td>вилка столовая</td>\n",
       "      <td>вилка</td>\n",
       "      <td>вилка</td>\n",
       "      <td>посуда</td>\n",
       "      <td>2018-11</td>\n",
       "      <td>44.0</td>\n",
       "    </tr>\n",
       "    <tr>\n",
       "      <th>940</th>\n",
       "      <td>2018-11-23 20:00:00</td>\n",
       "      <td>278cffb9-4414-449a-8cb8-ffdbef1bf1d8</td>\n",
       "      <td>69100</td>\n",
       "      <td>ложка обувная металлическая крашенная 220, 120...</td>\n",
       "      <td>1</td>\n",
       "      <td>22.0</td>\n",
       "      <td>2018-11-23</td>\n",
       "      <td>ложка обувная</td>\n",
       "      <td>ложка</td>\n",
       "      <td>ложка</td>\n",
       "      <td>посуда</td>\n",
       "      <td>2018-11</td>\n",
       "      <td>22.0</td>\n",
       "    </tr>\n",
       "    <tr>\n",
       "      <th>927</th>\n",
       "      <td>2018-11-23 04:00:00</td>\n",
       "      <td>81a07ad7-0646-477c-9e11-0a52c6f6f7e1</td>\n",
       "      <td>69090</td>\n",
       "      <td>стакан пластмассовый 300 мл, конус. (к-308) \"п...</td>\n",
       "      <td>1</td>\n",
       "      <td>22.0</td>\n",
       "      <td>2018-11-23</td>\n",
       "      <td>стакан пластмассовый</td>\n",
       "      <td>стакан</td>\n",
       "      <td>стакан</td>\n",
       "      <td>посуда</td>\n",
       "      <td>2018-11</td>\n",
       "      <td>22.0</td>\n",
       "    </tr>\n",
       "    <tr>\n",
       "      <th>755</th>\n",
       "      <td>2018-11-10 14:00:00</td>\n",
       "      <td>e2f8a3ad-2cd5-41c5-99f7-213b0e851c85</td>\n",
       "      <td>68941</td>\n",
       "      <td>стакан пластмассовый 300 мл, конус. (к-308) \"п...</td>\n",
       "      <td>1</td>\n",
       "      <td>22.0</td>\n",
       "      <td>2018-11-10</td>\n",
       "      <td>стакан пластмассовый</td>\n",
       "      <td>стакан</td>\n",
       "      <td>стакан</td>\n",
       "      <td>посуда</td>\n",
       "      <td>2018-11</td>\n",
       "      <td>22.0</td>\n",
       "    </tr>\n",
       "  </tbody>\n",
       "</table>\n",
       "<p>70 rows × 13 columns</p>\n",
       "</div>"
      ],
      "text/plain": [
       "                    date                           customer_id  order_id  \\\n",
       "1023 2018-11-29 17:00:00  8fba3604-ef57-4b9f-b2fe-3402fa8825c8     69156   \n",
       "686  2018-11-07 09:00:00  dc45d33d-08ef-4ede-9b9b-a7df25728420     68895   \n",
       "1001 2018-11-27 15:00:00  7d8528bb-623e-477f-a059-efc312b62d29     69127   \n",
       "1026 2018-11-29 17:00:00  8fba3604-ef57-4b9f-b2fe-3402fa8825c8     69156   \n",
       "665  2018-11-06 15:00:00  9e556072-dd50-4f9e-b516-1605ab73f3df     68886   \n",
       "...                  ...                                   ...       ...   \n",
       "756  2018-11-10 14:00:00  e2f8a3ad-2cd5-41c5-99f7-213b0e851c85     68941   \n",
       "741  2018-11-10 14:00:00  e2f8a3ad-2cd5-41c5-99f7-213b0e851c85     68941   \n",
       "940  2018-11-23 20:00:00  278cffb9-4414-449a-8cb8-ffdbef1bf1d8     69100   \n",
       "927  2018-11-23 04:00:00  81a07ad7-0646-477c-9e11-0a52c6f6f7e1     69090   \n",
       "755  2018-11-10 14:00:00  e2f8a3ad-2cd5-41c5-99f7-213b0e851c85     68941   \n",
       "\n",
       "                                                product  quantity  price  \\\n",
       "1023      набор ножей attribute chef 5 предметов akf522        64  457.0   \n",
       "686   набор вешалок мягких тканевых с перекладиной и...        15  398.0   \n",
       "1001  набор вешалок для костюма 45 см 4 шт цвет крем...        25  202.0   \n",
       "1026  нож кухонный универсальный с пластмассовой руч...        24  119.0   \n",
       "665          чайный набор luminarc рейнбоу 220 мл j5978         4  682.0   \n",
       "...                                                 ...       ...    ...   \n",
       "756   столовая ложка better цветной горох bt-c2003e-...         1   44.0   \n",
       "741   вилка столовая better цветной горох bt-c2003e-...         1   44.0   \n",
       "940   ложка обувная металлическая крашенная 220, 120...         1   22.0   \n",
       "927   стакан пластмассовый 300 мл, конус. (к-308) \"п...         1   22.0   \n",
       "755   стакан пластмассовый 300 мл, конус. (к-308) \"п...         1   22.0   \n",
       "\n",
       "        date_day             product_2 product_1  product1 category    month  \\\n",
       "1023  2018-11-29           набор ножей     набор     набор   посуда  2018-11   \n",
       "686   2018-11-07         набор вешалок     набор     набор   посуда  2018-11   \n",
       "1001  2018-11-27         набор вешалок     набор     набор   посуда  2018-11   \n",
       "1026  2018-11-29          нож кухонный       нож       нож   посуда  2018-11   \n",
       "665   2018-11-06          чайный набор    чайный    чайный   посуда  2018-11   \n",
       "...          ...                   ...       ...       ...      ...      ...   \n",
       "756   2018-11-10        столовая ложка  столовая  столовая   посуда  2018-11   \n",
       "741   2018-11-10        вилка столовая     вилка     вилка   посуда  2018-11   \n",
       "940   2018-11-23         ложка обувная     ложка     ложка   посуда  2018-11   \n",
       "927   2018-11-23  стакан пластмассовый    стакан    стакан   посуда  2018-11   \n",
       "755   2018-11-10  стакан пластмассовый    стакан    стакан   посуда  2018-11   \n",
       "\n",
       "      revenue  \n",
       "1023  29248.0  \n",
       "686    5970.0  \n",
       "1001   5050.0  \n",
       "1026   2856.0  \n",
       "665    2728.0  \n",
       "...       ...  \n",
       "756      44.0  \n",
       "741      44.0  \n",
       "940      22.0  \n",
       "927      22.0  \n",
       "755      22.0  \n",
       "\n",
       "[70 rows x 13 columns]"
      ]
     },
     "execution_count": 69,
     "metadata": {},
     "output_type": "execute_result"
    }
   ],
   "source": [
    "h=ecom[ecom['category']=='посуда']\n",
    "h[h['month']=='2018-11'].sort_values('revenue',ascending=False)"
   ]
  },
  {
   "cell_type": "markdown",
   "metadata": {},
   "source": [
    "Самый большой заказ - 64 набора ножей."
   ]
  },
  {
   "cell_type": "code",
   "execution_count": 70,
   "metadata": {},
   "outputs": [
    {
     "data": {
      "text/plain": [
       "(0.0, 1000.0)"
      ]
     },
     "execution_count": 70,
     "metadata": {},
     "output_type": "execute_result"
    },
    {
     "data": {
      "image/png": "[encoded data removed]",
      "text/plain": [
       "<Figure size 432x288 with 1 Axes>"
      ]
     },
     "metadata": {
      "needs_background": "light"
     },
     "output_type": "display_data"
    }
   ],
   "source": [
    "pos= ecom[ecom['category']=='посуда']\n",
    "sns.histplot(data=pos['price'],bins=300)\n",
    "plt.title('Распределение по цене')\n",
    "plt.xlabel(\"Цена\")\n",
    "plt.xlim(0,1000)"
   ]
  },
  {
   "cell_type": "code",
   "execution_count": 71,
   "metadata": {},
   "outputs": [
    {
     "data": {
      "text/plain": [
       "count     352.000000\n",
       "mean      412.508523\n",
       "std       561.438735\n",
       "min        19.000000\n",
       "25%        97.000000\n",
       "50%       202.000000\n",
       "75%       479.000000\n",
       "max      5399.000000\n",
       "Name: price, dtype: float64"
      ]
     },
     "execution_count": 71,
     "metadata": {},
     "output_type": "execute_result"
    }
   ],
   "source": [
    "pos['price'].describe()"
   ]
  },
  {
   "cell_type": "markdown",
   "metadata": {},
   "source": [
    "Средняя цена - 412,5. Максимальная - 5399."
   ]
  },
  {
   "cell_type": "markdown",
   "metadata": {},
   "source": [
    "### Сумки"
   ]
  },
  {
   "cell_type": "code",
   "execution_count": 72,
   "metadata": {},
   "outputs": [
    {
     "data": {
      "text/plain": [
       "сумка-тележка    245\n",
       "тележка           99\n",
       "сумка             14\n",
       "Name: product_1, dtype: int64"
      ]
     },
     "execution_count": 72,
     "metadata": {},
     "output_type": "execute_result"
    }
   ],
   "source": [
    "ecom[ecom['category']=='сумки']['product_1'].value_counts().head(5)"
   ]
  },
  {
   "cell_type": "markdown",
   "metadata": {},
   "source": [
    "Среди сумок наиболее популярный товар - сумка-тележка (245 штук)"
   ]
  },
  {
   "cell_type": "code",
   "execution_count": 73,
   "metadata": {},
   "outputs": [
    {
     "data": {
      "text/plain": [
       "Text(0, 0.5, 'Выручка по месяцам')"
      ]
     },
     "execution_count": 73,
     "metadata": {},
     "output_type": "execute_result"
    },
    {
     "data": {
      "image/png": "[encoded data removed]",
      "text/plain": [
       "<Figure size 1152x432 with 1 Axes>"
      ]
     },
     "metadata": {
      "needs_background": "light"
     },
     "output_type": "display_data"
    }
   ],
   "source": [
    "plt.figure(figsize=(16, 6))\n",
    "plt.title('Продажи по месяцам')\n",
    "sns.lineplot(data=ecom[ecom['category']=='сумки'].pivot_table(index='month',values='revenue',aggfunc='sum'))\n",
    "plt.xlabel(\"Месяц\")\n",
    "plt.ylabel(\"Выручка по месяцам\")"
   ]
  },
  {
   "cell_type": "markdown",
   "metadata": {},
   "source": [
    "Пик продаж приходится на декабрь 2018 года, затем в январе достигает минимума. "
   ]
  },
  {
   "cell_type": "code",
   "execution_count": 74,
   "metadata": {},
   "outputs": [
    {
     "data": {
      "text/plain": [
       "Text(0.5, 0, 'Цена')"
      ]
     },
     "execution_count": 74,
     "metadata": {},
     "output_type": "execute_result"
    },
    {
     "data": {
      "image/png": "[encoded data removed]",
      "text/plain": [
       "<Figure size 432x288 with 1 Axes>"
      ]
     },
     "metadata": {
      "needs_background": "light"
     },
     "output_type": "display_data"
    }
   ],
   "source": [
    "s= ecom[ecom['category']=='сумки']\n",
    "sns.histplot(data=s['price'],bins=50)\n",
    "plt.title('Распределение по цене')\n",
    "plt.xlabel(\"Цена\")"
   ]
  },
  {
   "cell_type": "markdown",
   "metadata": {},
   "source": [
    "### Для дома"
   ]
  },
  {
   "cell_type": "code",
   "execution_count": 75,
   "metadata": {},
   "outputs": [
    {
     "data": {
      "text/plain": [
       "муляж       164\n",
       "коврик      106\n",
       "штора        80\n",
       "скатерть     32\n",
       "полки        23\n",
       "Name: product_1, dtype: int64"
      ]
     },
     "execution_count": 75,
     "metadata": {},
     "output_type": "execute_result"
    }
   ],
   "source": [
    "ecom[ecom['category']=='для дома']['product_1'].value_counts().head(5)"
   ]
  },
  {
   "cell_type": "markdown",
   "metadata": {},
   "source": [
    "Муляж, коврик, штора являются самыми востребованными товарами для дома. "
   ]
  },
  {
   "cell_type": "code",
   "execution_count": 76,
   "metadata": {},
   "outputs": [
    {
     "data": {
      "text/plain": [
       "ванна             1\n",
       "штангенциркуль    1\n",
       "наматрацник       1\n",
       "ручка             1\n",
       "лестница          1\n",
       "Name: product_1, dtype: int64"
      ]
     },
     "execution_count": 76,
     "metadata": {},
     "output_type": "execute_result"
    }
   ],
   "source": [
    "ecom[ecom['category']=='для дома']['product_1'].value_counts().tail(5)"
   ]
  },
  {
   "cell_type": "markdown",
   "metadata": {},
   "source": [
    "Ключница, фоторамка, сверло и тд. - наименее востребованные "
   ]
  },
  {
   "cell_type": "code",
   "execution_count": 77,
   "metadata": {},
   "outputs": [
    {
     "data": {
      "text/plain": [
       "Text(0, 0.5, 'Выручка по месяцам')"
      ]
     },
     "execution_count": 77,
     "metadata": {},
     "output_type": "execute_result"
    },
    {
     "data": {
      "image/png": "[encoded data removed]",
      "text/plain": [
       "<Figure size 1152x432 with 1 Axes>"
      ]
     },
     "metadata": {
      "needs_background": "light"
     },
     "output_type": "display_data"
    }
   ],
   "source": [
    "plt.figure(figsize=(16, 6))\n",
    "plt.title('Продажи по месяцам')\n",
    "sns.lineplot(data=ecom[ecom['category']=='для дома'].pivot_table(index='month',values='revenue',aggfunc='sum'))\n",
    "plt.xlabel(\"Месяц\")\n",
    "plt.ylabel(\"Выручка по месяцам\")"
   ]
  },
  {
   "cell_type": "markdown",
   "metadata": {},
   "source": [
    "Самые большие продажи - январь 2019 года, минимум - август 2019."
   ]
  },
  {
   "cell_type": "code",
   "execution_count": 78,
   "metadata": {},
   "outputs": [
    {
     "data": {
      "text/plain": [
       "Text(0.5, 0, 'Цена')"
      ]
     },
     "execution_count": 78,
     "metadata": {},
     "output_type": "execute_result"
    },
    {
     "data": {
      "image/png": "[encoded data removed]",
      "text/plain": [
       "<Figure size 432x288 with 1 Axes>"
      ]
     },
     "metadata": {
      "needs_background": "light"
     },
     "output_type": "display_data"
    }
   ],
   "source": [
    "s= ecom[ecom['category']=='для дома']\n",
    "sns.histplot(data=s['price'],bins=50)\n",
    "plt.title('Распределение по цене')\n",
    "plt.xlabel(\"Цена\")"
   ]
  },
  {
   "cell_type": "code",
   "execution_count": 79,
   "metadata": {},
   "outputs": [
    {
     "data": {
      "text/plain": [
       "Text(0, 0.5, 'Выручка')"
      ]
     },
     "execution_count": 79,
     "metadata": {},
     "output_type": "execute_result"
    },
    {
     "data": {
      "image/png": "[encoded data removed]",
      "text/plain": [
       "<Figure size 720x576 with 1 Axes>"
      ]
     },
     "metadata": {
      "needs_background": "light"
     },
     "output_type": "display_data"
    }
   ],
   "source": [
    "ecom[ecom['revenue']!=675000].pivot_table(index = 'month', columns='category', values='revenue', aggfunc ='sum').plot(title='Продажи по категориям',figsize=(10,8)).legend(loc='upper left')\n",
    "plt.xlabel(\"Месяц\")\n",
    "plt.ylabel(\"Выручка\")"
   ]
  },
  {
   "cell_type": "markdown",
   "metadata": {},
   "source": [
    "### Вывод"
   ]
  },
  {
   "cell_type": "markdown",
   "metadata": {},
   "source": [
    "Среди категорий пики продажи различаются. Однако в каждой категории есть товары, которые заказывали 1 раз. Продажи таких товаров необходимо повысить, поэтому можно предлагать их дополнительно при заказе более популярных позиций."
   ]
  },
  {
   "cell_type": "markdown",
   "metadata": {},
   "source": [
    "      "
   ]
  },
  {
   "cell_type": "markdown",
   "metadata": {},
   "source": [
    "## Формулировка и проверка статистических гипотез\n"
   ]
  },
  {
   "cell_type": "markdown",
   "metadata": {},
   "source": [
    "### Средняя выручка среди самых популярных категорий отличается"
   ]
  },
  {
   "cell_type": "markdown",
   "metadata": {},
   "source": [
    "Проверим гипотезу, что средняя выручка среди категории хозтоваров и сумок отличается:\n",
    "\n",
    "H0: Средняя выручка среди категорий равна\n",
    "\n",
    "H1: Средняя выручка среди категорий отличается\n",
    "\n",
    "Уровень значимости задаем равным 0.05"
   ]
  },
  {
   "cell_type": "code",
   "execution_count": 80,
   "metadata": {},
   "outputs": [],
   "source": [
    "hoz1=ecom[ecom['category']=='хозтовары']"
   ]
  },
  {
   "cell_type": "code",
   "execution_count": 81,
   "metadata": {},
   "outputs": [],
   "source": [
    "bag=ecom[ecom['category']=='сумки']"
   ]
  },
  {
   "cell_type": "code",
   "execution_count": 82,
   "metadata": {},
   "outputs": [
    {
     "data": {
      "text/plain": [
       "-55.39374223633069"
      ]
     },
     "execution_count": 82,
     "metadata": {},
     "output_type": "execute_result"
    }
   ],
   "source": [
    "(np.var(hoz1['revenue'])/np.var(bag['revenue'])-1)*100"
   ]
  },
  {
   "cell_type": "markdown",
   "metadata": {},
   "source": [
    "Можно сделать вывод, что дисперсии выборок отличаются более, чем на 5%, то есть отличие значимо. Поэтому выбираем критерий equal_var = False."
   ]
  },
  {
   "cell_type": "code",
   "execution_count": 83,
   "metadata": {},
   "outputs": [],
   "source": [
    "alpha = .05 \n",
    "results = st.ttest_ind(hoz1['revenue'], bag['revenue'],equal_var = False)"
   ]
  },
  {
   "cell_type": "code",
   "execution_count": 84,
   "metadata": {},
   "outputs": [
    {
     "name": "stdout",
     "output_type": "stream",
     "text": [
      "p-значение: 2.2023318344592533e-11\n",
      "Отвергаем нулевую гипотезу\n"
     ]
    }
   ],
   "source": [
    "print('p-значение:', results.pvalue)\n",
    "\n",
    "if (results.pvalue < alpha):\n",
    "    print(\"Отвергаем нулевую гипотезу\")\n",
    "else:\n",
    "    print(\"Не получилось отвергнуть нулевую гипотезу\") "
   ]
  },
  {
   "cell_type": "code",
   "execution_count": 85,
   "metadata": {},
   "outputs": [
    {
     "data": {
      "text/plain": [
       "ShapiroResult(statistic=0.5661354660987854, pvalue=2.382207389352189e-44)"
      ]
     },
     "execution_count": 85,
     "metadata": {},
     "output_type": "execute_result"
    }
   ],
   "source": [
    "stats.shapiro(hoz1['revenue'])"
   ]
  },
  {
   "cell_type": "code",
   "execution_count": 86,
   "metadata": {},
   "outputs": [
    {
     "data": {
      "text/plain": [
       "ShapiroResult(statistic=0.5528573989868164, pvalue=3.2575197134958936e-29)"
      ]
     },
     "execution_count": 86,
     "metadata": {},
     "output_type": "execute_result"
    }
   ],
   "source": [
    "stats.shapiro(bag['revenue'])"
   ]
  },
  {
   "cell_type": "markdown",
   "metadata": {},
   "source": [
    "Можем сделать вывод, что распределение выборок не нормальное, поэтому используем критерий Манна-Уитни."
   ]
  },
  {
   "cell_type": "code",
   "execution_count": 87,
   "metadata": {},
   "outputs": [
    {
     "name": "stdout",
     "output_type": "stream",
     "text": [
      "Статистика: 99947.5 p-value: 1.5136489685682962e-36\n",
      "Отвергаем нулевую гипотезу\n"
     ]
    }
   ],
   "source": [
    "stat, p = mannwhitneyu(hoz1['revenue'], bag['revenue'])\n",
    "alpha = .05\n",
    "print('Статистика:', stat,'p-value:',p)\n",
    "\n",
    "if (p < alpha):\n",
    "    print(\"Отвергаем нулевую гипотезу\")\n",
    "else:\n",
    "    print(\"Не получилось отвергнуть нулевую гипотезу\") "
   ]
  },
  {
   "cell_type": "markdown",
   "metadata": {},
   "source": [
    "Средние выручки для хозтоваров и сумок не равны. "
   ]
  },
  {
   "cell_type": "markdown",
   "metadata": {},
   "source": [
    "    "
   ]
  },
  {
   "cell_type": "markdown",
   "metadata": {},
   "source": [
    "Рассмотрим, различаются ли продажи в будний и выходной день для самой популярной категории"
   ]
  },
  {
   "cell_type": "markdown",
   "metadata": {},
   "source": [
    "### Выручка для самой популярной категории отличается в будний и выходной день\n"
   ]
  },
  {
   "cell_type": "markdown",
   "metadata": {},
   "source": [
    "Проверим гипотезу, что средняя выручка среди категории хозтоваров отличается в выходные :\n",
    "\n",
    "H0: Средняя выручка в будние и выходные равна\n",
    "\n",
    "H1: Средняя выручка в будние и выходные отличается\n",
    "\n",
    "Уровень значимости задаем равным 0.05"
   ]
  },
  {
   "cell_type": "code",
   "execution_count": 88,
   "metadata": {},
   "outputs": [],
   "source": [
    "ecom['day']=ecom['date'].dt.day_name()\n",
    "hozt=ecom[ecom['category']=='хозтовары']\n",
    "weekend=hozt[hozt['day'].isin(['Saturday','Sunday'])]\n",
    "week=hozt[~hozt['day'].isin(['Saturday','Sunday'])]"
   ]
  },
  {
   "cell_type": "code",
   "execution_count": 89,
   "metadata": {},
   "outputs": [
    {
     "data": {
      "text/plain": [
       "-69.94038992286859"
      ]
     },
     "execution_count": 89,
     "metadata": {},
     "output_type": "execute_result"
    }
   ],
   "source": [
    "(np.var(weekend['revenue'])/np.var(week['revenue'])-1)*100"
   ]
  },
  {
   "cell_type": "code",
   "execution_count": 90,
   "metadata": {},
   "outputs": [
    {
     "data": {
      "text/plain": [
       "ShapiroResult(statistic=0.811383068561554, pvalue=3.587887039572591e-16)"
      ]
     },
     "execution_count": 90,
     "metadata": {},
     "output_type": "execute_result"
    }
   ],
   "source": [
    "stats.shapiro(weekend['revenue'])"
   ]
  },
  {
   "cell_type": "code",
   "execution_count": 91,
   "metadata": {},
   "outputs": [
    {
     "data": {
      "text/plain": [
       "ShapiroResult(statistic=0.5506296157836914, pvalue=1.850764946757002e-40)"
      ]
     },
     "execution_count": 91,
     "metadata": {},
     "output_type": "execute_result"
    }
   ],
   "source": [
    "stats.shapiro(week['revenue'])"
   ]
  },
  {
   "cell_type": "code",
   "execution_count": 92,
   "metadata": {},
   "outputs": [],
   "source": [
    "alpha = .05 \n",
    "results = st.ttest_ind(weekend['revenue'], week['revenue'],equal_var = False)"
   ]
  },
  {
   "cell_type": "code",
   "execution_count": 93,
   "metadata": {},
   "outputs": [
    {
     "name": "stdout",
     "output_type": "stream",
     "text": [
      "p-значение: 0.00998064027878553\n",
      "Отвергаем нулевую гипотезу\n"
     ]
    }
   ],
   "source": [
    "print('p-значение:', results.pvalue)\n",
    "\n",
    "if (results.pvalue < alpha):\n",
    "    print(\"Отвергаем нулевую гипотезу\")\n",
    "else:\n",
    "    print(\"Не получилось отвергнуть нулевую гипотезу\") "
   ]
  },
  {
   "cell_type": "markdown",
   "metadata": {},
   "source": [
    "Также рассмотрим критерий Манна-Уитни"
   ]
  },
  {
   "cell_type": "code",
   "execution_count": 94,
   "metadata": {},
   "outputs": [
    {
     "name": "stdout",
     "output_type": "stream",
     "text": [
      "Статистика: 87155.0 p-value: 0.16637644130070656\n",
      "Не получилось отвергнуть нулевую гипотезу\n"
     ]
    }
   ],
   "source": [
    "stat, p = mannwhitneyu(weekend['revenue'], week['revenue'])\n",
    "alpha = .05\n",
    "print('Статистика:', stat,'p-value:',p)\n",
    "\n",
    "if (p < alpha):\n",
    "    print(\"Отвергаем нулевую гипотезу\")\n",
    "else:\n",
    "    print(\"Не получилось отвергнуть нулевую гипотезу\") "
   ]
  },
  {
   "cell_type": "markdown",
   "metadata": {},
   "source": [
    "Поскольку распределение не нормальное, то корректнее использовать критерий Манна-Уитни. Получается,что средняя выручка в выходной день не отличается. Пользователи одинаково совершают заказы на неделе и в выходные\n",
    "\n",
    "При t-тесте гипотезу не получается отвергнуть при 1% уровне значимости."
   ]
  },
  {
   "cell_type": "markdown",
   "metadata": {},
   "source": [
    "### Средняя стоимость товаров среди двух  категорий отличается"
   ]
  },
  {
   "cell_type": "markdown",
   "metadata": {},
   "source": [
    "Проверим гипотезу, что средняя стоимость среди категории товаров для дома и посуды отличается:\n",
    "\n",
    "H0: Средняя стоимость товаров одинаковая\n",
    "\n",
    "H1: Средняя стоимость товаров отличается\n",
    "\n",
    "Уровень значимости задаем равным 0.05"
   ]
  },
  {
   "cell_type": "code",
   "execution_count": 95,
   "metadata": {},
   "outputs": [],
   "source": [
    "posuda=ecom[ecom['category']=='посуда']\n",
    "home=ecom[ecom['category']=='для дома']"
   ]
  },
  {
   "cell_type": "code",
   "execution_count": 96,
   "metadata": {},
   "outputs": [
    {
     "data": {
      "text/plain": [
       "-63.60197321624099"
      ]
     },
     "execution_count": 96,
     "metadata": {},
     "output_type": "execute_result"
    }
   ],
   "source": [
    "(np.var(posuda['price'])/np.var(home['price'])-1)*100"
   ]
  },
  {
   "cell_type": "code",
   "execution_count": 97,
   "metadata": {},
   "outputs": [
    {
     "data": {
      "text/plain": [
       "ShapiroResult(statistic=0.6216174364089966, pvalue=4.147519794559056e-27)"
      ]
     },
     "execution_count": 97,
     "metadata": {},
     "output_type": "execute_result"
    }
   ],
   "source": [
    "stats.shapiro(posuda['price'])"
   ]
  },
  {
   "cell_type": "code",
   "execution_count": 98,
   "metadata": {},
   "outputs": [
    {
     "data": {
      "text/plain": [
       "ShapiroResult(statistic=0.7278167009353638, pvalue=4.177701656607718e-29)"
      ]
     },
     "execution_count": 98,
     "metadata": {},
     "output_type": "execute_result"
    }
   ],
   "source": [
    "stats.shapiro(home['price'])"
   ]
  },
  {
   "cell_type": "code",
   "execution_count": 99,
   "metadata": {},
   "outputs": [],
   "source": [
    "alpha = .05 \n",
    "results = st.ttest_ind(posuda['price'],home['price'],equal_var = False)"
   ]
  },
  {
   "cell_type": "code",
   "execution_count": 100,
   "metadata": {},
   "outputs": [
    {
     "name": "stdout",
     "output_type": "stream",
     "text": [
      "p-значение: 6.129174396551199e-10\n",
      "Отвергаем нулевую гипотезу\n"
     ]
    }
   ],
   "source": [
    "print('p-значение:', results.pvalue)\n",
    "\n",
    "if (results.pvalue < alpha):\n",
    "    print(\"Отвергаем нулевую гипотезу\")\n",
    "else:\n",
    "    print(\"Не получилось отвергнуть нулевую гипотезу\") "
   ]
  },
  {
   "cell_type": "code",
   "execution_count": 101,
   "metadata": {},
   "outputs": [
    {
     "name": "stdout",
     "output_type": "stream",
     "text": [
      "Статистика: 85186.5 p-value: 0.0005761849339102227\n",
      "Отвергаем нулевую гипотезу\n"
     ]
    }
   ],
   "source": [
    "stat, p = mannwhitneyu(home['price'], posuda['price'])\n",
    "alpha = .05\n",
    "print('Статистика:', stat,'p-value:',p)\n",
    "\n",
    "if (p < alpha):\n",
    "    print(\"Отвергаем нулевую гипотезу\")\n",
    "else:\n",
    "    print(\"Не получилось отвергнуть нулевую гипотезу\") "
   ]
  },
  {
   "cell_type": "markdown",
   "metadata": {},
   "source": [
    "Стоимость товаров в категориях для дома и посуда отличается."
   ]
  },
  {
   "cell_type": "markdown",
   "metadata": {},
   "source": [
    "### Вывод"
   ]
  },
  {
   "cell_type": "markdown",
   "metadata": {},
   "source": [
    "Таким образом, средняя выручка и стоимость товаров отличаются внутри категорий. Разницы в выручке между заказами на неделе и в будние дни не наблюдается."
   ]
  },
  {
   "cell_type": "markdown",
   "metadata": {},
   "source": [
    "## Общий вывод"
   ]
  },
  {
   "cell_type": "markdown",
   "metadata": {},
   "source": [
    "Изначально данные содержали 6737 наблюдений, пропущенных значений не наблюдалось. Однако в процессе предобработки данных была выявлена ошибка дублирования одного заказа в разные дни. Возможно, что ошибка появляется во время обработки заказа, поэтому необходимо выявить более точную причину и устранить ее. \n",
    "\n",
    "Данные собраны с 1 октября 2018 года по 31 октября 2019 года. Всего было продано 2305 уникальных товаров. В предобработке данных были выделены 6 категорий, на которые были распределены все продукты: хозтовары, сумки, растения, товары для дома, посуда, техника. Самой популярной по количеству проданных товаров является категория хозтоваров. Наименее популярной - техника. Средний чек в интернет-магазине - 1508 (без учета выброса 1266). При рассмотрении отдельных категорий можно заметить, что пики и минимумы в продажах различаются внутри категорий и не являются общими для всего интернет-магазина. Среди категорий имеются товары, которые заказывались по одному разу. Продажу таких товаров можно увеличить за счет рекомендаций при покупке более популярных товаров внутри категории. \n",
    "\n",
    "Средняя выручка статистически отличается между популярными категориями. Средняя цена товаров для категорий товаров для дома и посуды также отличается. Также можно сделать вывод, что выручка от продажи не отличается в будние дни и в выходные. "
   ]
  },
  {
   "cell_type": "markdown",
   "metadata": {},
   "source": [
    "    "
   ]
  }
 ],
 "metadata": {
  "kernelspec": {
   "display_name": "Python 3",
   "language": "python",
   "name": "python3"
  },
  "language_info": {
   "codemirror_mode": {
    "name": "ipython",
    "version": 3
   },
   "file_extension": ".py",
   "mimetype": "text/x-python",
   "name": "python",
   "nbconvert_exporter": "python",
   "pygments_lexer": "ipython3",
   "version": "3.8.5"
  },
  "toc": {
   "base_numbering": 1,
   "nav_menu": {},
   "number_sections": false,
   "sideBar": true,
   "skip_h1_title": false,
   "title_cell": "Table of Contents",
   "title_sidebar": "Contents",
   "toc_cell": false,
   "toc_position": {
    "height": "calc(100% - 180px)",
    "left": "10px",
    "top": "150px",
    "width": "230.391px"
   },
   "toc_section_display": true,
   "toc_window_display": false
  }
 },
 "nbformat": 4,
 "nbformat_minor": 2
}
